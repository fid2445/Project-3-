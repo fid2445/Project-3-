{
 "cells": [
  {
   "cell_type": "code",
   "execution_count": 2,
   "id": "1605524d",
   "metadata": {},
   "outputs": [],
   "source": [
    "import pandas as pd\n",
    "import numpy as np\n",
    "import seaborn as sns\n",
    "import matplotlib.pyplot as plt\n",
    "import json"
   ]
  },
  {
   "cell_type": "code",
   "execution_count": 3,
   "id": "a464685a",
   "metadata": {},
   "outputs": [
    {
     "data": {
      "text/plain": [
       "dict_keys(['api-key-tmdb'])"
      ]
     },
     "execution_count": 3,
     "metadata": {},
     "output_type": "execute_result"
    }
   ],
   "source": [
    "with open('C:/Users/fid24/.secret/tmdb_api.json', 'r') as f:\n",
    "    login = json.load(f)\n",
    "## Display the keys of the loaded dict\n",
    "login.keys()"
   ]
  },
  {
   "cell_type": "code",
   "execution_count": 4,
   "id": "b4bb28db",
   "metadata": {},
   "outputs": [],
   "source": [
    "import tmdbsimple as tmdb\n",
    "tmdb.API_KEY =  login['api-key-tmdb']"
   ]
  },
  {
   "cell_type": "code",
   "execution_count": 5,
   "id": "e116559b",
   "metadata": {},
   "outputs": [
    {
     "data": {
      "text/plain": [
       "'C:/Users/fid24/OneDrive/Documents/Github/Project-3-/data/final_tmdb_data_2000.csv.gz'"
      ]
     },
     "execution_count": 5,
     "metadata": {},
     "output_type": "execute_result"
    }
   ],
   "source": [
    "JSON_FILE_2000 = f\"C:/Users/fid24/OneDrive/Documents/Github/Project-3-/data/final_tmdb_data_2000.csv.gz\"\n",
    "JSON_FILE_2000"
   ]
  },
  {
   "cell_type": "code",
   "execution_count": 6,
   "id": "fcecbdac",
   "metadata": {},
   "outputs": [
    {
     "data": {
      "text/html": [
       "<div>\n",
       "<style scoped>\n",
       "    .dataframe tbody tr th:only-of-type {\n",
       "        vertical-align: middle;\n",
       "    }\n",
       "\n",
       "    .dataframe tbody tr th {\n",
       "        vertical-align: top;\n",
       "    }\n",
       "\n",
       "    .dataframe thead th {\n",
       "        text-align: right;\n",
       "    }\n",
       "</style>\n",
       "<table border=\"1\" class=\"dataframe\">\n",
       "  <thead>\n",
       "    <tr style=\"text-align: right;\">\n",
       "      <th></th>\n",
       "      <th>imdb_id</th>\n",
       "      <th>adult</th>\n",
       "      <th>backdrop_path</th>\n",
       "      <th>belongs_to_collection</th>\n",
       "      <th>budget</th>\n",
       "      <th>genres</th>\n",
       "      <th>homepage</th>\n",
       "      <th>id</th>\n",
       "      <th>original_language</th>\n",
       "      <th>original_title</th>\n",
       "      <th>...</th>\n",
       "      <th>revenue</th>\n",
       "      <th>runtime</th>\n",
       "      <th>spoken_languages</th>\n",
       "      <th>status</th>\n",
       "      <th>tagline</th>\n",
       "      <th>title</th>\n",
       "      <th>video</th>\n",
       "      <th>vote_average</th>\n",
       "      <th>vote_count</th>\n",
       "      <th>certification</th>\n",
       "    </tr>\n",
       "  </thead>\n",
       "  <tbody>\n",
       "    <tr>\n",
       "      <th>0</th>\n",
       "      <td>0</td>\n",
       "      <td>NaN</td>\n",
       "      <td>NaN</td>\n",
       "      <td>NaN</td>\n",
       "      <td>NaN</td>\n",
       "      <td>NaN</td>\n",
       "      <td>NaN</td>\n",
       "      <td>NaN</td>\n",
       "      <td>NaN</td>\n",
       "      <td>NaN</td>\n",
       "      <td>...</td>\n",
       "      <td>NaN</td>\n",
       "      <td>NaN</td>\n",
       "      <td>NaN</td>\n",
       "      <td>NaN</td>\n",
       "      <td>NaN</td>\n",
       "      <td>NaN</td>\n",
       "      <td>NaN</td>\n",
       "      <td>NaN</td>\n",
       "      <td>NaN</td>\n",
       "      <td>NaN</td>\n",
       "    </tr>\n",
       "    <tr>\n",
       "      <th>1</th>\n",
       "      <td>tt0113026</td>\n",
       "      <td>0.0</td>\n",
       "      <td>/vMFs7nw6P0bIV1jDsQpxAieAVnH.jpg</td>\n",
       "      <td>NaN</td>\n",
       "      <td>10000000.0</td>\n",
       "      <td>[{'id': 35, 'name': 'Comedy'}, {'id': 10402, '...</td>\n",
       "      <td>NaN</td>\n",
       "      <td>62127.0</td>\n",
       "      <td>en</td>\n",
       "      <td>The Fantasticks</td>\n",
       "      <td>...</td>\n",
       "      <td>0.0</td>\n",
       "      <td>86.0</td>\n",
       "      <td>[{'english_name': 'English', 'iso_639_1': 'en'...</td>\n",
       "      <td>Released</td>\n",
       "      <td>Try to remember the first time magic happened</td>\n",
       "      <td>The Fantasticks</td>\n",
       "      <td>0.0</td>\n",
       "      <td>5.5</td>\n",
       "      <td>22.0</td>\n",
       "      <td>NaN</td>\n",
       "    </tr>\n",
       "    <tr>\n",
       "      <th>2</th>\n",
       "      <td>tt0113092</td>\n",
       "      <td>0.0</td>\n",
       "      <td>NaN</td>\n",
       "      <td>NaN</td>\n",
       "      <td>0.0</td>\n",
       "      <td>[{'id': 878, 'name': 'Science Fiction'}]</td>\n",
       "      <td>NaN</td>\n",
       "      <td>110977.0</td>\n",
       "      <td>en</td>\n",
       "      <td>For the Cause</td>\n",
       "      <td>...</td>\n",
       "      <td>0.0</td>\n",
       "      <td>100.0</td>\n",
       "      <td>[{'english_name': 'English', 'iso_639_1': 'en'...</td>\n",
       "      <td>Released</td>\n",
       "      <td>The ultimate showdown on a forbidden planet.</td>\n",
       "      <td>For the Cause</td>\n",
       "      <td>0.0</td>\n",
       "      <td>5.1</td>\n",
       "      <td>8.0</td>\n",
       "      <td>NaN</td>\n",
       "    </tr>\n",
       "    <tr>\n",
       "      <th>3</th>\n",
       "      <td>tt0116391</td>\n",
       "      <td>0.0</td>\n",
       "      <td>NaN</td>\n",
       "      <td>NaN</td>\n",
       "      <td>0.0</td>\n",
       "      <td>[{'id': 18, 'name': 'Drama'}, {'id': 28, 'name...</td>\n",
       "      <td>NaN</td>\n",
       "      <td>442869.0</td>\n",
       "      <td>hi</td>\n",
       "      <td>Gang</td>\n",
       "      <td>...</td>\n",
       "      <td>0.0</td>\n",
       "      <td>152.0</td>\n",
       "      <td>[{'english_name': 'Hindi', 'iso_639_1': 'hi', ...</td>\n",
       "      <td>Released</td>\n",
       "      <td>NaN</td>\n",
       "      <td>Gang</td>\n",
       "      <td>0.0</td>\n",
       "      <td>0.0</td>\n",
       "      <td>0.0</td>\n",
       "      <td>NaN</td>\n",
       "    </tr>\n",
       "    <tr>\n",
       "      <th>4</th>\n",
       "      <td>tt0116748</td>\n",
       "      <td>0.0</td>\n",
       "      <td>NaN</td>\n",
       "      <td>NaN</td>\n",
       "      <td>0.0</td>\n",
       "      <td>[{'id': 18, 'name': 'Drama'}, {'id': 10749, 'n...</td>\n",
       "      <td>NaN</td>\n",
       "      <td>579396.0</td>\n",
       "      <td>hi</td>\n",
       "      <td>Karobaar</td>\n",
       "      <td>...</td>\n",
       "      <td>0.0</td>\n",
       "      <td>180.0</td>\n",
       "      <td>[{'english_name': 'Hindi', 'iso_639_1': 'hi', ...</td>\n",
       "      <td>Released</td>\n",
       "      <td>The Business of Love</td>\n",
       "      <td>Karobaar</td>\n",
       "      <td>0.0</td>\n",
       "      <td>5.5</td>\n",
       "      <td>2.0</td>\n",
       "      <td>NaN</td>\n",
       "    </tr>\n",
       "  </tbody>\n",
       "</table>\n",
       "<p>5 rows × 26 columns</p>\n",
       "</div>"
      ],
      "text/plain": [
       "     imdb_id  adult                     backdrop_path belongs_to_collection  \\\n",
       "0          0    NaN                               NaN                   NaN   \n",
       "1  tt0113026    0.0  /vMFs7nw6P0bIV1jDsQpxAieAVnH.jpg                   NaN   \n",
       "2  tt0113092    0.0                               NaN                   NaN   \n",
       "3  tt0116391    0.0                               NaN                   NaN   \n",
       "4  tt0116748    0.0                               NaN                   NaN   \n",
       "\n",
       "       budget                                             genres homepage  \\\n",
       "0         NaN                                                NaN      NaN   \n",
       "1  10000000.0  [{'id': 35, 'name': 'Comedy'}, {'id': 10402, '...      NaN   \n",
       "2         0.0           [{'id': 878, 'name': 'Science Fiction'}]      NaN   \n",
       "3         0.0  [{'id': 18, 'name': 'Drama'}, {'id': 28, 'name...      NaN   \n",
       "4         0.0  [{'id': 18, 'name': 'Drama'}, {'id': 10749, 'n...      NaN   \n",
       "\n",
       "         id original_language   original_title  ... revenue  runtime  \\\n",
       "0       NaN               NaN              NaN  ...     NaN      NaN   \n",
       "1   62127.0                en  The Fantasticks  ...     0.0     86.0   \n",
       "2  110977.0                en    For the Cause  ...     0.0    100.0   \n",
       "3  442869.0                hi             Gang  ...     0.0    152.0   \n",
       "4  579396.0                hi         Karobaar  ...     0.0    180.0   \n",
       "\n",
       "                                    spoken_languages    status  \\\n",
       "0                                                NaN       NaN   \n",
       "1  [{'english_name': 'English', 'iso_639_1': 'en'...  Released   \n",
       "2  [{'english_name': 'English', 'iso_639_1': 'en'...  Released   \n",
       "3  [{'english_name': 'Hindi', 'iso_639_1': 'hi', ...  Released   \n",
       "4  [{'english_name': 'Hindi', 'iso_639_1': 'hi', ...  Released   \n",
       "\n",
       "                                         tagline            title  video  \\\n",
       "0                                            NaN              NaN    NaN   \n",
       "1  Try to remember the first time magic happened  The Fantasticks    0.0   \n",
       "2   The ultimate showdown on a forbidden planet.    For the Cause    0.0   \n",
       "3                                            NaN             Gang    0.0   \n",
       "4                           The Business of Love         Karobaar    0.0   \n",
       "\n",
       "   vote_average vote_count certification  \n",
       "0           NaN        NaN           NaN  \n",
       "1           5.5       22.0           NaN  \n",
       "2           5.1        8.0           NaN  \n",
       "3           0.0        0.0           NaN  \n",
       "4           5.5        2.0           NaN  \n",
       "\n",
       "[5 rows x 26 columns]"
      ]
     },
     "execution_count": 6,
     "metadata": {},
     "output_type": "execute_result"
    }
   ],
   "source": [
    "df_2000 = pd.read_csv(JSON_FILE_2000)\n",
    "df_2000.head()"
   ]
  },
  {
   "cell_type": "code",
   "execution_count": 7,
   "id": "eb6e8e23",
   "metadata": {},
   "outputs": [
    {
     "data": {
      "text/plain": [
       "'C:/Users/fid24/OneDrive/Documents/Github/Project-3-/data/final_tmdb_data_2001.csv.gz'"
      ]
     },
     "execution_count": 7,
     "metadata": {},
     "output_type": "execute_result"
    }
   ],
   "source": [
    "JSON_FILE_2001 = f\"C:/Users/fid24/OneDrive/Documents/Github/Project-3-/data/final_tmdb_data_2001.csv.gz\"\n",
    "JSON_FILE_2001"
   ]
  },
  {
   "cell_type": "code",
   "execution_count": 8,
   "id": "66b3c3be",
   "metadata": {},
   "outputs": [
    {
     "data": {
      "text/html": [
       "<div>\n",
       "<style scoped>\n",
       "    .dataframe tbody tr th:only-of-type {\n",
       "        vertical-align: middle;\n",
       "    }\n",
       "\n",
       "    .dataframe tbody tr th {\n",
       "        vertical-align: top;\n",
       "    }\n",
       "\n",
       "    .dataframe thead th {\n",
       "        text-align: right;\n",
       "    }\n",
       "</style>\n",
       "<table border=\"1\" class=\"dataframe\">\n",
       "  <thead>\n",
       "    <tr style=\"text-align: right;\">\n",
       "      <th></th>\n",
       "      <th>imdb_id</th>\n",
       "      <th>adult</th>\n",
       "      <th>backdrop_path</th>\n",
       "      <th>belongs_to_collection</th>\n",
       "      <th>budget</th>\n",
       "      <th>genres</th>\n",
       "      <th>homepage</th>\n",
       "      <th>id</th>\n",
       "      <th>original_language</th>\n",
       "      <th>original_title</th>\n",
       "      <th>...</th>\n",
       "      <th>revenue</th>\n",
       "      <th>runtime</th>\n",
       "      <th>spoken_languages</th>\n",
       "      <th>status</th>\n",
       "      <th>tagline</th>\n",
       "      <th>title</th>\n",
       "      <th>video</th>\n",
       "      <th>vote_average</th>\n",
       "      <th>vote_count</th>\n",
       "      <th>certification</th>\n",
       "    </tr>\n",
       "  </thead>\n",
       "  <tbody>\n",
       "    <tr>\n",
       "      <th>0</th>\n",
       "      <td>0</td>\n",
       "      <td>NaN</td>\n",
       "      <td>NaN</td>\n",
       "      <td>NaN</td>\n",
       "      <td>NaN</td>\n",
       "      <td>NaN</td>\n",
       "      <td>NaN</td>\n",
       "      <td>NaN</td>\n",
       "      <td>NaN</td>\n",
       "      <td>NaN</td>\n",
       "      <td>...</td>\n",
       "      <td>NaN</td>\n",
       "      <td>NaN</td>\n",
       "      <td>NaN</td>\n",
       "      <td>NaN</td>\n",
       "      <td>NaN</td>\n",
       "      <td>NaN</td>\n",
       "      <td>NaN</td>\n",
       "      <td>NaN</td>\n",
       "      <td>NaN</td>\n",
       "      <td>NaN</td>\n",
       "    </tr>\n",
       "    <tr>\n",
       "      <th>1</th>\n",
       "      <td>tt0035423</td>\n",
       "      <td>0.0</td>\n",
       "      <td>/ab5yL8zgRotrICzGbEl10z24N71.jpg</td>\n",
       "      <td>NaN</td>\n",
       "      <td>48000000.0</td>\n",
       "      <td>[{'id': 35, 'name': 'Comedy'}, {'id': 14, 'nam...</td>\n",
       "      <td>NaN</td>\n",
       "      <td>11232.0</td>\n",
       "      <td>en</td>\n",
       "      <td>Kate &amp; Leopold</td>\n",
       "      <td>...</td>\n",
       "      <td>76019048.0</td>\n",
       "      <td>118.0</td>\n",
       "      <td>[{'english_name': 'English', 'iso_639_1': 'en'...</td>\n",
       "      <td>Released</td>\n",
       "      <td>If they lived in the same century they'd be pe...</td>\n",
       "      <td>Kate &amp; Leopold</td>\n",
       "      <td>0.0</td>\n",
       "      <td>6.3</td>\n",
       "      <td>1137.0</td>\n",
       "      <td>PG-13</td>\n",
       "    </tr>\n",
       "    <tr>\n",
       "      <th>2</th>\n",
       "      <td>tt0079644</td>\n",
       "      <td>0.0</td>\n",
       "      <td>/79axmuH1UGkB7m72jjB9rPff9om.jpg</td>\n",
       "      <td>NaN</td>\n",
       "      <td>0.0</td>\n",
       "      <td>[{'id': 10752, 'name': 'War'}]</td>\n",
       "      <td>NaN</td>\n",
       "      <td>285529.0</td>\n",
       "      <td>id</td>\n",
       "      <td>November 1828</td>\n",
       "      <td>...</td>\n",
       "      <td>0.0</td>\n",
       "      <td>140.0</td>\n",
       "      <td>[{'english_name': 'Indonesian', 'iso_639_1': '...</td>\n",
       "      <td>Released</td>\n",
       "      <td>NaN</td>\n",
       "      <td>November 1828</td>\n",
       "      <td>0.0</td>\n",
       "      <td>0.0</td>\n",
       "      <td>0.0</td>\n",
       "      <td>NaN</td>\n",
       "    </tr>\n",
       "    <tr>\n",
       "      <th>3</th>\n",
       "      <td>tt0089067</td>\n",
       "      <td>0.0</td>\n",
       "      <td>NaN</td>\n",
       "      <td>NaN</td>\n",
       "      <td>0.0</td>\n",
       "      <td>[{'id': 35, 'name': 'Comedy'}]</td>\n",
       "      <td>NaN</td>\n",
       "      <td>210258.0</td>\n",
       "      <td>es</td>\n",
       "      <td>El día de los albañiles 2</td>\n",
       "      <td>...</td>\n",
       "      <td>0.0</td>\n",
       "      <td>90.0</td>\n",
       "      <td>[{'english_name': 'Spanish', 'iso_639_1': 'es'...</td>\n",
       "      <td>Released</td>\n",
       "      <td>The laborers are back full of love and laughs.</td>\n",
       "      <td>El día de los albañiles 2</td>\n",
       "      <td>0.0</td>\n",
       "      <td>7.2</td>\n",
       "      <td>71.0</td>\n",
       "      <td>NaN</td>\n",
       "    </tr>\n",
       "    <tr>\n",
       "      <th>4</th>\n",
       "      <td>tt0114447</td>\n",
       "      <td>0.0</td>\n",
       "      <td>NaN</td>\n",
       "      <td>NaN</td>\n",
       "      <td>0.0</td>\n",
       "      <td>[{'id': 53, 'name': 'Thriller'}, {'id': 28, 'n...</td>\n",
       "      <td>NaN</td>\n",
       "      <td>151007.0</td>\n",
       "      <td>en</td>\n",
       "      <td>The Silent Force</td>\n",
       "      <td>...</td>\n",
       "      <td>0.0</td>\n",
       "      <td>90.0</td>\n",
       "      <td>[{'english_name': 'English', 'iso_639_1': 'en'...</td>\n",
       "      <td>Released</td>\n",
       "      <td>They left him for dead... They should have fin...</td>\n",
       "      <td>The Silent Force</td>\n",
       "      <td>0.0</td>\n",
       "      <td>5.0</td>\n",
       "      <td>3.0</td>\n",
       "      <td>NaN</td>\n",
       "    </tr>\n",
       "  </tbody>\n",
       "</table>\n",
       "<p>5 rows × 26 columns</p>\n",
       "</div>"
      ],
      "text/plain": [
       "     imdb_id  adult                     backdrop_path belongs_to_collection  \\\n",
       "0          0    NaN                               NaN                   NaN   \n",
       "1  tt0035423    0.0  /ab5yL8zgRotrICzGbEl10z24N71.jpg                   NaN   \n",
       "2  tt0079644    0.0  /79axmuH1UGkB7m72jjB9rPff9om.jpg                   NaN   \n",
       "3  tt0089067    0.0                               NaN                   NaN   \n",
       "4  tt0114447    0.0                               NaN                   NaN   \n",
       "\n",
       "       budget                                             genres homepage  \\\n",
       "0         NaN                                                NaN      NaN   \n",
       "1  48000000.0  [{'id': 35, 'name': 'Comedy'}, {'id': 14, 'nam...      NaN   \n",
       "2         0.0                     [{'id': 10752, 'name': 'War'}]      NaN   \n",
       "3         0.0                     [{'id': 35, 'name': 'Comedy'}]      NaN   \n",
       "4         0.0  [{'id': 53, 'name': 'Thriller'}, {'id': 28, 'n...      NaN   \n",
       "\n",
       "         id original_language             original_title  ...     revenue  \\\n",
       "0       NaN               NaN                        NaN  ...         NaN   \n",
       "1   11232.0                en             Kate & Leopold  ...  76019048.0   \n",
       "2  285529.0                id              November 1828  ...         0.0   \n",
       "3  210258.0                es  El día de los albañiles 2  ...         0.0   \n",
       "4  151007.0                en           The Silent Force  ...         0.0   \n",
       "\n",
       "   runtime                                   spoken_languages    status  \\\n",
       "0      NaN                                                NaN       NaN   \n",
       "1    118.0  [{'english_name': 'English', 'iso_639_1': 'en'...  Released   \n",
       "2    140.0  [{'english_name': 'Indonesian', 'iso_639_1': '...  Released   \n",
       "3     90.0  [{'english_name': 'Spanish', 'iso_639_1': 'es'...  Released   \n",
       "4     90.0  [{'english_name': 'English', 'iso_639_1': 'en'...  Released   \n",
       "\n",
       "                                             tagline  \\\n",
       "0                                                NaN   \n",
       "1  If they lived in the same century they'd be pe...   \n",
       "2                                                NaN   \n",
       "3     The laborers are back full of love and laughs.   \n",
       "4  They left him for dead... They should have fin...   \n",
       "\n",
       "                       title  video  vote_average vote_count certification  \n",
       "0                        NaN    NaN           NaN        NaN           NaN  \n",
       "1             Kate & Leopold    0.0           6.3     1137.0         PG-13  \n",
       "2              November 1828    0.0           0.0        0.0           NaN  \n",
       "3  El día de los albañiles 2    0.0           7.2       71.0           NaN  \n",
       "4           The Silent Force    0.0           5.0        3.0           NaN  \n",
       "\n",
       "[5 rows x 26 columns]"
      ]
     },
     "execution_count": 8,
     "metadata": {},
     "output_type": "execute_result"
    }
   ],
   "source": [
    "df_2001 = pd.read_csv(JSON_FILE_2001)\n",
    "df_2001.head()"
   ]
  },
  {
   "cell_type": "code",
   "execution_count": 9,
   "id": "7eba7aa5",
   "metadata": {},
   "outputs": [
    {
     "data": {
      "text/html": [
       "<div>\n",
       "<style scoped>\n",
       "    .dataframe tbody tr th:only-of-type {\n",
       "        vertical-align: middle;\n",
       "    }\n",
       "\n",
       "    .dataframe tbody tr th {\n",
       "        vertical-align: top;\n",
       "    }\n",
       "\n",
       "    .dataframe thead th {\n",
       "        text-align: right;\n",
       "    }\n",
       "</style>\n",
       "<table border=\"1\" class=\"dataframe\">\n",
       "  <thead>\n",
       "    <tr style=\"text-align: right;\">\n",
       "      <th></th>\n",
       "      <th>imdb_id</th>\n",
       "      <th>adult</th>\n",
       "      <th>backdrop_path</th>\n",
       "      <th>belongs_to_collection</th>\n",
       "      <th>budget</th>\n",
       "      <th>genres</th>\n",
       "      <th>homepage</th>\n",
       "      <th>id</th>\n",
       "      <th>original_language</th>\n",
       "      <th>original_title</th>\n",
       "      <th>...</th>\n",
       "      <th>revenue</th>\n",
       "      <th>runtime</th>\n",
       "      <th>spoken_languages</th>\n",
       "      <th>status</th>\n",
       "      <th>tagline</th>\n",
       "      <th>title</th>\n",
       "      <th>video</th>\n",
       "      <th>vote_average</th>\n",
       "      <th>vote_count</th>\n",
       "      <th>certification</th>\n",
       "    </tr>\n",
       "  </thead>\n",
       "  <tbody>\n",
       "    <tr>\n",
       "      <th>0</th>\n",
       "      <td>0</td>\n",
       "      <td>NaN</td>\n",
       "      <td>NaN</td>\n",
       "      <td>NaN</td>\n",
       "      <td>NaN</td>\n",
       "      <td>NaN</td>\n",
       "      <td>NaN</td>\n",
       "      <td>NaN</td>\n",
       "      <td>NaN</td>\n",
       "      <td>NaN</td>\n",
       "      <td>...</td>\n",
       "      <td>NaN</td>\n",
       "      <td>NaN</td>\n",
       "      <td>NaN</td>\n",
       "      <td>NaN</td>\n",
       "      <td>NaN</td>\n",
       "      <td>NaN</td>\n",
       "      <td>NaN</td>\n",
       "      <td>NaN</td>\n",
       "      <td>NaN</td>\n",
       "      <td>NaN</td>\n",
       "    </tr>\n",
       "    <tr>\n",
       "      <th>1</th>\n",
       "      <td>tt0113026</td>\n",
       "      <td>0.0</td>\n",
       "      <td>/vMFs7nw6P0bIV1jDsQpxAieAVnH.jpg</td>\n",
       "      <td>NaN</td>\n",
       "      <td>10000000.0</td>\n",
       "      <td>[{'id': 35, 'name': 'Comedy'}, {'id': 10402, '...</td>\n",
       "      <td>NaN</td>\n",
       "      <td>62127.0</td>\n",
       "      <td>en</td>\n",
       "      <td>The Fantasticks</td>\n",
       "      <td>...</td>\n",
       "      <td>0.0</td>\n",
       "      <td>86.0</td>\n",
       "      <td>[{'english_name': 'English', 'iso_639_1': 'en'...</td>\n",
       "      <td>Released</td>\n",
       "      <td>Try to remember the first time magic happened</td>\n",
       "      <td>The Fantasticks</td>\n",
       "      <td>0.0</td>\n",
       "      <td>5.5</td>\n",
       "      <td>22.0</td>\n",
       "      <td>NaN</td>\n",
       "    </tr>\n",
       "    <tr>\n",
       "      <th>2</th>\n",
       "      <td>tt0113092</td>\n",
       "      <td>0.0</td>\n",
       "      <td>NaN</td>\n",
       "      <td>NaN</td>\n",
       "      <td>0.0</td>\n",
       "      <td>[{'id': 878, 'name': 'Science Fiction'}]</td>\n",
       "      <td>NaN</td>\n",
       "      <td>110977.0</td>\n",
       "      <td>en</td>\n",
       "      <td>For the Cause</td>\n",
       "      <td>...</td>\n",
       "      <td>0.0</td>\n",
       "      <td>100.0</td>\n",
       "      <td>[{'english_name': 'English', 'iso_639_1': 'en'...</td>\n",
       "      <td>Released</td>\n",
       "      <td>The ultimate showdown on a forbidden planet.</td>\n",
       "      <td>For the Cause</td>\n",
       "      <td>0.0</td>\n",
       "      <td>5.1</td>\n",
       "      <td>8.0</td>\n",
       "      <td>NaN</td>\n",
       "    </tr>\n",
       "    <tr>\n",
       "      <th>3</th>\n",
       "      <td>tt0116391</td>\n",
       "      <td>0.0</td>\n",
       "      <td>NaN</td>\n",
       "      <td>NaN</td>\n",
       "      <td>0.0</td>\n",
       "      <td>[{'id': 18, 'name': 'Drama'}, {'id': 28, 'name...</td>\n",
       "      <td>NaN</td>\n",
       "      <td>442869.0</td>\n",
       "      <td>hi</td>\n",
       "      <td>Gang</td>\n",
       "      <td>...</td>\n",
       "      <td>0.0</td>\n",
       "      <td>152.0</td>\n",
       "      <td>[{'english_name': 'Hindi', 'iso_639_1': 'hi', ...</td>\n",
       "      <td>Released</td>\n",
       "      <td>NaN</td>\n",
       "      <td>Gang</td>\n",
       "      <td>0.0</td>\n",
       "      <td>0.0</td>\n",
       "      <td>0.0</td>\n",
       "      <td>NaN</td>\n",
       "    </tr>\n",
       "    <tr>\n",
       "      <th>4</th>\n",
       "      <td>tt0116748</td>\n",
       "      <td>0.0</td>\n",
       "      <td>NaN</td>\n",
       "      <td>NaN</td>\n",
       "      <td>0.0</td>\n",
       "      <td>[{'id': 18, 'name': 'Drama'}, {'id': 10749, 'n...</td>\n",
       "      <td>NaN</td>\n",
       "      <td>579396.0</td>\n",
       "      <td>hi</td>\n",
       "      <td>Karobaar</td>\n",
       "      <td>...</td>\n",
       "      <td>0.0</td>\n",
       "      <td>180.0</td>\n",
       "      <td>[{'english_name': 'Hindi', 'iso_639_1': 'hi', ...</td>\n",
       "      <td>Released</td>\n",
       "      <td>The Business of Love</td>\n",
       "      <td>Karobaar</td>\n",
       "      <td>0.0</td>\n",
       "      <td>5.5</td>\n",
       "      <td>2.0</td>\n",
       "      <td>NaN</td>\n",
       "    </tr>\n",
       "    <tr>\n",
       "      <th>...</th>\n",
       "      <td>...</td>\n",
       "      <td>...</td>\n",
       "      <td>...</td>\n",
       "      <td>...</td>\n",
       "      <td>...</td>\n",
       "      <td>...</td>\n",
       "      <td>...</td>\n",
       "      <td>...</td>\n",
       "      <td>...</td>\n",
       "      <td>...</td>\n",
       "      <td>...</td>\n",
       "      <td>...</td>\n",
       "      <td>...</td>\n",
       "      <td>...</td>\n",
       "      <td>...</td>\n",
       "      <td>...</td>\n",
       "      <td>...</td>\n",
       "      <td>...</td>\n",
       "      <td>...</td>\n",
       "      <td>...</td>\n",
       "      <td>...</td>\n",
       "    </tr>\n",
       "    <tr>\n",
       "      <th>4437</th>\n",
       "      <td>tt9071078</td>\n",
       "      <td>0.0</td>\n",
       "      <td>NaN</td>\n",
       "      <td>NaN</td>\n",
       "      <td>0.0</td>\n",
       "      <td>[{'id': 28, 'name': 'Action'}]</td>\n",
       "      <td>http://www.hkcinemagic.com/en/movie.asp?id=6627</td>\n",
       "      <td>201706.0</td>\n",
       "      <td>cn</td>\n",
       "      <td>致命密函</td>\n",
       "      <td>...</td>\n",
       "      <td>0.0</td>\n",
       "      <td>90.0</td>\n",
       "      <td>[{'english_name': 'Cantonese', 'iso_639_1': 'c...</td>\n",
       "      <td>Released</td>\n",
       "      <td>NaN</td>\n",
       "      <td>Chinese Heroes</td>\n",
       "      <td>0.0</td>\n",
       "      <td>3.0</td>\n",
       "      <td>2.0</td>\n",
       "      <td>NaN</td>\n",
       "    </tr>\n",
       "    <tr>\n",
       "      <th>4438</th>\n",
       "      <td>tt9099724</td>\n",
       "      <td>0.0</td>\n",
       "      <td>NaN</td>\n",
       "      <td>NaN</td>\n",
       "      <td>0.0</td>\n",
       "      <td>[{'id': 18, 'name': 'Drama'}]</td>\n",
       "      <td>NaN</td>\n",
       "      <td>616033.0</td>\n",
       "      <td>ja</td>\n",
       "      <td>Rokushukan Private Moment</td>\n",
       "      <td>...</td>\n",
       "      <td>0.0</td>\n",
       "      <td>102.0</td>\n",
       "      <td>[{'english_name': 'Japanese', 'iso_639_1': 'ja...</td>\n",
       "      <td>Released</td>\n",
       "      <td>NaN</td>\n",
       "      <td>Rokushukan Private Moment</td>\n",
       "      <td>0.0</td>\n",
       "      <td>0.0</td>\n",
       "      <td>0.0</td>\n",
       "      <td>NaN</td>\n",
       "    </tr>\n",
       "    <tr>\n",
       "      <th>4439</th>\n",
       "      <td>tt9798698</td>\n",
       "      <td>0.0</td>\n",
       "      <td>NaN</td>\n",
       "      <td>NaN</td>\n",
       "      <td>0.0</td>\n",
       "      <td>[]</td>\n",
       "      <td>NaN</td>\n",
       "      <td>580269.0</td>\n",
       "      <td>en</td>\n",
       "      <td>Gay holocaust</td>\n",
       "      <td>...</td>\n",
       "      <td>0.0</td>\n",
       "      <td>0.0</td>\n",
       "      <td>[]</td>\n",
       "      <td>Released</td>\n",
       "      <td>NaN</td>\n",
       "      <td>Gay holocaust</td>\n",
       "      <td>0.0</td>\n",
       "      <td>0.0</td>\n",
       "      <td>0.0</td>\n",
       "      <td>NaN</td>\n",
       "    </tr>\n",
       "    <tr>\n",
       "      <th>4440</th>\n",
       "      <td>tt0286560</td>\n",
       "      <td>0.0</td>\n",
       "      <td>/l2NTN8FJq0jTLSMSjEekL4nvfTj.jpg</td>\n",
       "      <td>NaN</td>\n",
       "      <td>0.0</td>\n",
       "      <td>[{'id': 35, 'name': 'Comedy'}, {'id': 18, 'nam...</td>\n",
       "      <td>NaN</td>\n",
       "      <td>240270.0</td>\n",
       "      <td>pt</td>\n",
       "      <td>Copacabana</td>\n",
       "      <td>...</td>\n",
       "      <td>0.0</td>\n",
       "      <td>90.0</td>\n",
       "      <td>[{'english_name': 'Portuguese', 'iso_639_1': '...</td>\n",
       "      <td>Released</td>\n",
       "      <td>NaN</td>\n",
       "      <td>Copacabana</td>\n",
       "      <td>0.0</td>\n",
       "      <td>8.3</td>\n",
       "      <td>3.0</td>\n",
       "      <td>NaN</td>\n",
       "    </tr>\n",
       "    <tr>\n",
       "      <th>4441</th>\n",
       "      <td>tt0304866</td>\n",
       "      <td>0.0</td>\n",
       "      <td>NaN</td>\n",
       "      <td>NaN</td>\n",
       "      <td>0.0</td>\n",
       "      <td>[{'id': 35, 'name': 'Comedy'}, {'id': 18, 'nam...</td>\n",
       "      <td>NaN</td>\n",
       "      <td>407637.0</td>\n",
       "      <td>cn</td>\n",
       "      <td>火武耀扬</td>\n",
       "      <td>...</td>\n",
       "      <td>0.0</td>\n",
       "      <td>105.0</td>\n",
       "      <td>[{'english_name': 'Cantonese', 'iso_639_1': 'c...</td>\n",
       "      <td>Released</td>\n",
       "      <td>NaN</td>\n",
       "      <td>Unbeatables</td>\n",
       "      <td>0.0</td>\n",
       "      <td>0.0</td>\n",
       "      <td>0.0</td>\n",
       "      <td>NaN</td>\n",
       "    </tr>\n",
       "  </tbody>\n",
       "</table>\n",
       "<p>4442 rows × 26 columns</p>\n",
       "</div>"
      ],
      "text/plain": [
       "        imdb_id  adult                     backdrop_path  \\\n",
       "0             0    NaN                               NaN   \n",
       "1     tt0113026    0.0  /vMFs7nw6P0bIV1jDsQpxAieAVnH.jpg   \n",
       "2     tt0113092    0.0                               NaN   \n",
       "3     tt0116391    0.0                               NaN   \n",
       "4     tt0116748    0.0                               NaN   \n",
       "...         ...    ...                               ...   \n",
       "4437  tt9071078    0.0                               NaN   \n",
       "4438  tt9099724    0.0                               NaN   \n",
       "4439  tt9798698    0.0                               NaN   \n",
       "4440  tt0286560    0.0  /l2NTN8FJq0jTLSMSjEekL4nvfTj.jpg   \n",
       "4441  tt0304866    0.0                               NaN   \n",
       "\n",
       "     belongs_to_collection      budget  \\\n",
       "0                      NaN         NaN   \n",
       "1                      NaN  10000000.0   \n",
       "2                      NaN         0.0   \n",
       "3                      NaN         0.0   \n",
       "4                      NaN         0.0   \n",
       "...                    ...         ...   \n",
       "4437                   NaN         0.0   \n",
       "4438                   NaN         0.0   \n",
       "4439                   NaN         0.0   \n",
       "4440                   NaN         0.0   \n",
       "4441                   NaN         0.0   \n",
       "\n",
       "                                                 genres  \\\n",
       "0                                                   NaN   \n",
       "1     [{'id': 35, 'name': 'Comedy'}, {'id': 10402, '...   \n",
       "2              [{'id': 878, 'name': 'Science Fiction'}]   \n",
       "3     [{'id': 18, 'name': 'Drama'}, {'id': 28, 'name...   \n",
       "4     [{'id': 18, 'name': 'Drama'}, {'id': 10749, 'n...   \n",
       "...                                                 ...   \n",
       "4437                     [{'id': 28, 'name': 'Action'}]   \n",
       "4438                      [{'id': 18, 'name': 'Drama'}]   \n",
       "4439                                                 []   \n",
       "4440  [{'id': 35, 'name': 'Comedy'}, {'id': 18, 'nam...   \n",
       "4441  [{'id': 35, 'name': 'Comedy'}, {'id': 18, 'nam...   \n",
       "\n",
       "                                             homepage        id  \\\n",
       "0                                                 NaN       NaN   \n",
       "1                                                 NaN   62127.0   \n",
       "2                                                 NaN  110977.0   \n",
       "3                                                 NaN  442869.0   \n",
       "4                                                 NaN  579396.0   \n",
       "...                                               ...       ...   \n",
       "4437  http://www.hkcinemagic.com/en/movie.asp?id=6627  201706.0   \n",
       "4438                                              NaN  616033.0   \n",
       "4439                                              NaN  580269.0   \n",
       "4440                                              NaN  240270.0   \n",
       "4441                                              NaN  407637.0   \n",
       "\n",
       "     original_language             original_title  ... revenue  runtime  \\\n",
       "0                  NaN                        NaN  ...     NaN      NaN   \n",
       "1                   en            The Fantasticks  ...     0.0     86.0   \n",
       "2                   en              For the Cause  ...     0.0    100.0   \n",
       "3                   hi                       Gang  ...     0.0    152.0   \n",
       "4                   hi                   Karobaar  ...     0.0    180.0   \n",
       "...                ...                        ...  ...     ...      ...   \n",
       "4437                cn                       致命密函  ...     0.0     90.0   \n",
       "4438                ja  Rokushukan Private Moment  ...     0.0    102.0   \n",
       "4439                en              Gay holocaust  ...     0.0      0.0   \n",
       "4440                pt                 Copacabana  ...     0.0     90.0   \n",
       "4441                cn                       火武耀扬  ...     0.0    105.0   \n",
       "\n",
       "                                       spoken_languages    status  \\\n",
       "0                                                   NaN       NaN   \n",
       "1     [{'english_name': 'English', 'iso_639_1': 'en'...  Released   \n",
       "2     [{'english_name': 'English', 'iso_639_1': 'en'...  Released   \n",
       "3     [{'english_name': 'Hindi', 'iso_639_1': 'hi', ...  Released   \n",
       "4     [{'english_name': 'Hindi', 'iso_639_1': 'hi', ...  Released   \n",
       "...                                                 ...       ...   \n",
       "4437  [{'english_name': 'Cantonese', 'iso_639_1': 'c...  Released   \n",
       "4438  [{'english_name': 'Japanese', 'iso_639_1': 'ja...  Released   \n",
       "4439                                                 []  Released   \n",
       "4440  [{'english_name': 'Portuguese', 'iso_639_1': '...  Released   \n",
       "4441  [{'english_name': 'Cantonese', 'iso_639_1': 'c...  Released   \n",
       "\n",
       "                                            tagline  \\\n",
       "0                                               NaN   \n",
       "1     Try to remember the first time magic happened   \n",
       "2      The ultimate showdown on a forbidden planet.   \n",
       "3                                               NaN   \n",
       "4                              The Business of Love   \n",
       "...                                             ...   \n",
       "4437                                            NaN   \n",
       "4438                                            NaN   \n",
       "4439                                            NaN   \n",
       "4440                                            NaN   \n",
       "4441                                            NaN   \n",
       "\n",
       "                          title  video  vote_average vote_count certification  \n",
       "0                           NaN    NaN           NaN        NaN           NaN  \n",
       "1               The Fantasticks    0.0           5.5       22.0           NaN  \n",
       "2                 For the Cause    0.0           5.1        8.0           NaN  \n",
       "3                          Gang    0.0           0.0        0.0           NaN  \n",
       "4                      Karobaar    0.0           5.5        2.0           NaN  \n",
       "...                         ...    ...           ...        ...           ...  \n",
       "4437             Chinese Heroes    0.0           3.0        2.0           NaN  \n",
       "4438  Rokushukan Private Moment    0.0           0.0        0.0           NaN  \n",
       "4439              Gay holocaust    0.0           0.0        0.0           NaN  \n",
       "4440                 Copacabana    0.0           8.3        3.0           NaN  \n",
       "4441                Unbeatables    0.0           0.0        0.0           NaN  \n",
       "\n",
       "[4442 rows x 26 columns]"
      ]
     },
     "execution_count": 9,
     "metadata": {},
     "output_type": "execute_result"
    }
   ],
   "source": [
    "df = pd.concat([df_2000, df_2001], ignore_index=True)\n",
    "df"
   ]
  },
  {
   "cell_type": "code",
   "execution_count": 10,
   "id": "3c410f6a",
   "metadata": {},
   "outputs": [
    {
     "name": "stdout",
     "output_type": "stream",
     "text": [
      "<class 'pandas.core.frame.DataFrame'>\n",
      "RangeIndex: 4442 entries, 0 to 4441\n",
      "Data columns (total 26 columns):\n",
      " #   Column                 Non-Null Count  Dtype  \n",
      "---  ------                 --------------  -----  \n",
      " 0   imdb_id                4442 non-null   object \n",
      " 1   adult                  4440 non-null   float64\n",
      " 2   backdrop_path          1908 non-null   object \n",
      " 3   belongs_to_collection  248 non-null    object \n",
      " 4   budget                 4440 non-null   float64\n",
      " 5   genres                 4440 non-null   object \n",
      " 6   homepage               229 non-null    object \n",
      " 7   id                     4440 non-null   float64\n",
      " 8   original_language      4440 non-null   object \n",
      " 9   original_title         4440 non-null   object \n",
      " 10  overview               4072 non-null   object \n",
      " 11  popularity             4440 non-null   float64\n",
      " 12  poster_path            3725 non-null   object \n",
      " 13  production_companies   4440 non-null   object \n",
      " 14  production_countries   4440 non-null   object \n",
      " 15  release_date           4397 non-null   object \n",
      " 16  revenue                4440 non-null   float64\n",
      " 17  runtime                4440 non-null   float64\n",
      " 18  spoken_languages       4440 non-null   object \n",
      " 19  status                 4440 non-null   object \n",
      " 20  tagline                1228 non-null   object \n",
      " 21  title                  4440 non-null   object \n",
      " 22  video                  4440 non-null   float64\n",
      " 23  vote_average           4440 non-null   float64\n",
      " 24  vote_count             4440 non-null   float64\n",
      " 25  certification          816 non-null    object \n",
      "dtypes: float64(9), object(17)\n",
      "memory usage: 902.4+ KB\n"
     ]
    }
   ],
   "source": [
    "df.info()"
   ]
  },
  {
   "cell_type": "code",
   "execution_count": 11,
   "id": "602652a2",
   "metadata": {},
   "outputs": [],
   "source": [
    "df.to_csv(\"Data/df_2000_2001.csv.gz\",compression='gzip',index=False)"
   ]
  },
  {
   "cell_type": "code",
   "execution_count": 12,
   "id": "b3f5bef1",
   "metadata": {},
   "outputs": [],
   "source": [
    "#drop columns to get the data you want and resave the csv"
   ]
  },
  {
   "cell_type": "code",
   "execution_count": 13,
   "id": "ae74f401",
   "metadata": {},
   "outputs": [
    {
     "data": {
      "text/html": [
       "<div>\n",
       "<style scoped>\n",
       "    .dataframe tbody tr th:only-of-type {\n",
       "        vertical-align: middle;\n",
       "    }\n",
       "\n",
       "    .dataframe tbody tr th {\n",
       "        vertical-align: top;\n",
       "    }\n",
       "\n",
       "    .dataframe thead th {\n",
       "        text-align: right;\n",
       "    }\n",
       "</style>\n",
       "<table border=\"1\" class=\"dataframe\">\n",
       "  <thead>\n",
       "    <tr style=\"text-align: right;\">\n",
       "      <th></th>\n",
       "      <th>imdb_id</th>\n",
       "      <th>budget</th>\n",
       "      <th>revenue</th>\n",
       "      <th>title</th>\n",
       "      <th>certification</th>\n",
       "    </tr>\n",
       "  </thead>\n",
       "  <tbody>\n",
       "    <tr>\n",
       "      <th>0</th>\n",
       "      <td>0</td>\n",
       "      <td>NaN</td>\n",
       "      <td>NaN</td>\n",
       "      <td>NaN</td>\n",
       "      <td>NaN</td>\n",
       "    </tr>\n",
       "    <tr>\n",
       "      <th>1</th>\n",
       "      <td>tt0113026</td>\n",
       "      <td>10000000.0</td>\n",
       "      <td>0.0</td>\n",
       "      <td>The Fantasticks</td>\n",
       "      <td>NaN</td>\n",
       "    </tr>\n",
       "    <tr>\n",
       "      <th>2</th>\n",
       "      <td>tt0113092</td>\n",
       "      <td>0.0</td>\n",
       "      <td>0.0</td>\n",
       "      <td>For the Cause</td>\n",
       "      <td>NaN</td>\n",
       "    </tr>\n",
       "    <tr>\n",
       "      <th>3</th>\n",
       "      <td>tt0116391</td>\n",
       "      <td>0.0</td>\n",
       "      <td>0.0</td>\n",
       "      <td>Gang</td>\n",
       "      <td>NaN</td>\n",
       "    </tr>\n",
       "    <tr>\n",
       "      <th>4</th>\n",
       "      <td>tt0116748</td>\n",
       "      <td>0.0</td>\n",
       "      <td>0.0</td>\n",
       "      <td>Karobaar</td>\n",
       "      <td>NaN</td>\n",
       "    </tr>\n",
       "    <tr>\n",
       "      <th>...</th>\n",
       "      <td>...</td>\n",
       "      <td>...</td>\n",
       "      <td>...</td>\n",
       "      <td>...</td>\n",
       "      <td>...</td>\n",
       "    </tr>\n",
       "    <tr>\n",
       "      <th>4437</th>\n",
       "      <td>tt9071078</td>\n",
       "      <td>0.0</td>\n",
       "      <td>0.0</td>\n",
       "      <td>Chinese Heroes</td>\n",
       "      <td>NaN</td>\n",
       "    </tr>\n",
       "    <tr>\n",
       "      <th>4438</th>\n",
       "      <td>tt9099724</td>\n",
       "      <td>0.0</td>\n",
       "      <td>0.0</td>\n",
       "      <td>Rokushukan Private Moment</td>\n",
       "      <td>NaN</td>\n",
       "    </tr>\n",
       "    <tr>\n",
       "      <th>4439</th>\n",
       "      <td>tt9798698</td>\n",
       "      <td>0.0</td>\n",
       "      <td>0.0</td>\n",
       "      <td>Gay holocaust</td>\n",
       "      <td>NaN</td>\n",
       "    </tr>\n",
       "    <tr>\n",
       "      <th>4440</th>\n",
       "      <td>tt0286560</td>\n",
       "      <td>0.0</td>\n",
       "      <td>0.0</td>\n",
       "      <td>Copacabana</td>\n",
       "      <td>NaN</td>\n",
       "    </tr>\n",
       "    <tr>\n",
       "      <th>4441</th>\n",
       "      <td>tt0304866</td>\n",
       "      <td>0.0</td>\n",
       "      <td>0.0</td>\n",
       "      <td>Unbeatables</td>\n",
       "      <td>NaN</td>\n",
       "    </tr>\n",
       "  </tbody>\n",
       "</table>\n",
       "<p>4442 rows × 5 columns</p>\n",
       "</div>"
      ],
      "text/plain": [
       "        imdb_id      budget  revenue                      title certification\n",
       "0             0         NaN      NaN                        NaN           NaN\n",
       "1     tt0113026  10000000.0      0.0            The Fantasticks           NaN\n",
       "2     tt0113092         0.0      0.0              For the Cause           NaN\n",
       "3     tt0116391         0.0      0.0                       Gang           NaN\n",
       "4     tt0116748         0.0      0.0                   Karobaar           NaN\n",
       "...         ...         ...      ...                        ...           ...\n",
       "4437  tt9071078         0.0      0.0             Chinese Heroes           NaN\n",
       "4438  tt9099724         0.0      0.0  Rokushukan Private Moment           NaN\n",
       "4439  tt9798698         0.0      0.0              Gay holocaust           NaN\n",
       "4440  tt0286560         0.0      0.0                 Copacabana           NaN\n",
       "4441  tt0304866         0.0      0.0                Unbeatables           NaN\n",
       "\n",
       "[4442 rows x 5 columns]"
      ]
     },
     "execution_count": 13,
     "metadata": {},
     "output_type": "execute_result"
    }
   ],
   "source": [
    "df.drop(columns='adult', inplace=True)\n",
    "df.drop(columns='backdrop_path', inplace=True)\n",
    "df.drop(columns='belongs_to_collection', inplace=True)\n",
    "df.drop(columns='genres', inplace=True)\n",
    "df.drop(columns='homepage', inplace=True)\n",
    "df.drop(columns='id', inplace=True)\n",
    "df.drop(columns='original_language', inplace=True)\n",
    "df.drop(columns='overview', inplace=True)\n",
    "df.drop(columns='popularity', inplace=True)\n",
    "df.drop(columns='poster_path', inplace=True)\n",
    "df.drop(columns='production_companies', inplace=True)\n",
    "df.drop(columns='production_countries', inplace=True)\n",
    "df.drop(columns='release_date', inplace=True)\n",
    "df.drop(columns='runtime', inplace=True)\n",
    "df.drop(columns='spoken_languages', inplace=True)\n",
    "df.drop(columns='status', inplace=True)\n",
    "df.drop(columns='tagline', inplace=True)\n",
    "df.drop(columns='video', inplace=True)\n",
    "df.drop(columns='vote_average', inplace=True)\n",
    "df.drop(columns='vote_count', inplace=True)\n",
    "df.drop(columns='original_title', inplace=True)\n",
    "df"
   ]
  },
  {
   "cell_type": "code",
   "execution_count": 53,
   "id": "6bf4d2cc",
   "metadata": {},
   "outputs": [
    {
     "ename": "TypeError",
     "evalue": "drop() got an unexpected keyword argument 'rows'",
     "output_type": "error",
     "traceback": [
      "\u001b[1;31m---------------------------------------------------------------------------\u001b[0m",
      "\u001b[1;31mTypeError\u001b[0m                                 Traceback (most recent call last)",
      "Input \u001b[1;32mIn [53]\u001b[0m, in \u001b[0;36m<cell line: 1>\u001b[1;34m()\u001b[0m\n\u001b[1;32m----> 1\u001b[0m \u001b[43mdf\u001b[49m\u001b[38;5;241;43m.\u001b[39;49m\u001b[43mdrop\u001b[49m\u001b[43m(\u001b[49m\u001b[43mrows\u001b[49m\u001b[38;5;241;43m=\u001b[39;49m\u001b[38;5;241;43m0\u001b[39;49m\u001b[43m)\u001b[49m\n\u001b[0;32m      2\u001b[0m df\u001b[38;5;241m.\u001b[39mhead()\n",
      "File \u001b[1;32m~\\anaconda3\\envs\\dojo-env\\lib\\site-packages\\pandas\\util\\_decorators.py:311\u001b[0m, in \u001b[0;36mdeprecate_nonkeyword_arguments.<locals>.decorate.<locals>.wrapper\u001b[1;34m(*args, **kwargs)\u001b[0m\n\u001b[0;32m    305\u001b[0m \u001b[38;5;28;01mif\u001b[39;00m \u001b[38;5;28mlen\u001b[39m(args) \u001b[38;5;241m>\u001b[39m num_allow_args:\n\u001b[0;32m    306\u001b[0m     warnings\u001b[38;5;241m.\u001b[39mwarn(\n\u001b[0;32m    307\u001b[0m         msg\u001b[38;5;241m.\u001b[39mformat(arguments\u001b[38;5;241m=\u001b[39marguments),\n\u001b[0;32m    308\u001b[0m         \u001b[38;5;167;01mFutureWarning\u001b[39;00m,\n\u001b[0;32m    309\u001b[0m         stacklevel\u001b[38;5;241m=\u001b[39mstacklevel,\n\u001b[0;32m    310\u001b[0m     )\n\u001b[1;32m--> 311\u001b[0m \u001b[38;5;28;01mreturn\u001b[39;00m \u001b[43mfunc\u001b[49m\u001b[43m(\u001b[49m\u001b[38;5;241;43m*\u001b[39;49m\u001b[43margs\u001b[49m\u001b[43m,\u001b[49m\u001b[43m \u001b[49m\u001b[38;5;241;43m*\u001b[39;49m\u001b[38;5;241;43m*\u001b[39;49m\u001b[43mkwargs\u001b[49m\u001b[43m)\u001b[49m\n",
      "\u001b[1;31mTypeError\u001b[0m: drop() got an unexpected keyword argument 'rows'"
     ]
    }
   ],
   "source": [
    "df.drop(index=0)\n",
    "df.head()"
   ]
  },
  {
   "cell_type": "code",
   "execution_count": 14,
   "id": "d033f76e",
   "metadata": {},
   "outputs": [
    {
     "name": "stdout",
     "output_type": "stream",
     "text": [
      "<class 'pandas.core.frame.DataFrame'>\n",
      "RangeIndex: 4442 entries, 0 to 4441\n",
      "Data columns (total 5 columns):\n",
      " #   Column         Non-Null Count  Dtype  \n",
      "---  ------         --------------  -----  \n",
      " 0   imdb_id        4442 non-null   object \n",
      " 1   budget         4440 non-null   float64\n",
      " 2   revenue        4440 non-null   float64\n",
      " 3   title          4440 non-null   object \n",
      " 4   certification  816 non-null    object \n",
      "dtypes: float64(2), object(3)\n",
      "memory usage: 173.6+ KB\n"
     ]
    }
   ],
   "source": [
    "df.info()"
   ]
  },
  {
   "cell_type": "code",
   "execution_count": 15,
   "id": "6080f5a1",
   "metadata": {},
   "outputs": [],
   "source": [
    "df.to_csv(\"Data/df_2000_2001_budget_revenue_title_cert.csv.gz\",compression='gzip',index=False)"
   ]
  },
  {
   "cell_type": "code",
   "execution_count": 16,
   "id": "d0029104",
   "metadata": {},
   "outputs": [
    {
     "data": {
      "text/html": [
       "<div>\n",
       "<style scoped>\n",
       "    .dataframe tbody tr th:only-of-type {\n",
       "        vertical-align: middle;\n",
       "    }\n",
       "\n",
       "    .dataframe tbody tr th {\n",
       "        vertical-align: top;\n",
       "    }\n",
       "\n",
       "    .dataframe thead th {\n",
       "        text-align: right;\n",
       "    }\n",
       "</style>\n",
       "<table border=\"1\" class=\"dataframe\">\n",
       "  <thead>\n",
       "    <tr style=\"text-align: right;\">\n",
       "      <th></th>\n",
       "      <th>imdb_id</th>\n",
       "      <th>budget</th>\n",
       "      <th>revenue</th>\n",
       "      <th>title</th>\n",
       "      <th>certification</th>\n",
       "    </tr>\n",
       "  </thead>\n",
       "  <tbody>\n",
       "    <tr>\n",
       "      <th>0</th>\n",
       "      <td>0</td>\n",
       "      <td>NaN</td>\n",
       "      <td>NaN</td>\n",
       "      <td>NaN</td>\n",
       "      <td>NaN</td>\n",
       "    </tr>\n",
       "    <tr>\n",
       "      <th>1</th>\n",
       "      <td>tt0113026</td>\n",
       "      <td>10000000.0</td>\n",
       "      <td>0.0</td>\n",
       "      <td>The Fantasticks</td>\n",
       "      <td>NaN</td>\n",
       "    </tr>\n",
       "    <tr>\n",
       "      <th>2</th>\n",
       "      <td>tt0113092</td>\n",
       "      <td>0.0</td>\n",
       "      <td>0.0</td>\n",
       "      <td>For the Cause</td>\n",
       "      <td>NaN</td>\n",
       "    </tr>\n",
       "    <tr>\n",
       "      <th>3</th>\n",
       "      <td>tt0116391</td>\n",
       "      <td>0.0</td>\n",
       "      <td>0.0</td>\n",
       "      <td>Gang</td>\n",
       "      <td>NaN</td>\n",
       "    </tr>\n",
       "    <tr>\n",
       "      <th>4</th>\n",
       "      <td>tt0116748</td>\n",
       "      <td>0.0</td>\n",
       "      <td>0.0</td>\n",
       "      <td>Karobaar</td>\n",
       "      <td>NaN</td>\n",
       "    </tr>\n",
       "  </tbody>\n",
       "</table>\n",
       "</div>"
      ],
      "text/plain": [
       "     imdb_id      budget  revenue            title certification\n",
       "0          0         NaN      NaN              NaN           NaN\n",
       "1  tt0113026  10000000.0      0.0  The Fantasticks           NaN\n",
       "2  tt0113092         0.0      0.0    For the Cause           NaN\n",
       "3  tt0116391         0.0      0.0             Gang           NaN\n",
       "4  tt0116748         0.0      0.0         Karobaar           NaN"
      ]
     },
     "execution_count": 16,
     "metadata": {},
     "output_type": "execute_result"
    }
   ],
   "source": [
    "df = pd.read_csv('C:/Users/fid24/OneDrive/Documents/Github/Project-3-/data/df_2000_2001_budget_revenue_title_cert.csv.gz')\n",
    "df.head()"
   ]
  },
  {
   "cell_type": "code",
   "execution_count": 17,
   "id": "b0ebbdd7",
   "metadata": {},
   "outputs": [
    {
     "data": {
      "text/plain": [
       "1"
      ]
     },
     "execution_count": 17,
     "metadata": {},
     "output_type": "execute_result"
    }
   ],
   "source": [
    "df.duplicated().sum()"
   ]
  },
  {
   "cell_type": "code",
   "execution_count": 18,
   "id": "47ee76fc",
   "metadata": {},
   "outputs": [
    {
     "data": {
      "text/plain": [
       "0"
      ]
     },
     "execution_count": 18,
     "metadata": {},
     "output_type": "execute_result"
    }
   ],
   "source": [
    "df.drop_duplicates(inplace=True)\n",
    "df.duplicated().sum()"
   ]
  },
  {
   "cell_type": "code",
   "execution_count": 19,
   "id": "c1446485",
   "metadata": {},
   "outputs": [
    {
     "data": {
      "text/html": [
       "<div>\n",
       "<style scoped>\n",
       "    .dataframe tbody tr th:only-of-type {\n",
       "        vertical-align: middle;\n",
       "    }\n",
       "\n",
       "    .dataframe tbody tr th {\n",
       "        vertical-align: top;\n",
       "    }\n",
       "\n",
       "    .dataframe thead th {\n",
       "        text-align: right;\n",
       "    }\n",
       "</style>\n",
       "<table border=\"1\" class=\"dataframe\">\n",
       "  <thead>\n",
       "    <tr style=\"text-align: right;\">\n",
       "      <th></th>\n",
       "      <th>imdb_id</th>\n",
       "      <th>budget</th>\n",
       "      <th>revenue</th>\n",
       "      <th>title</th>\n",
       "      <th>certification</th>\n",
       "    </tr>\n",
       "  </thead>\n",
       "  <tbody>\n",
       "    <tr>\n",
       "      <th>1</th>\n",
       "      <td>tt0113026</td>\n",
       "      <td>10000000.0</td>\n",
       "      <td>0.0</td>\n",
       "      <td>The Fantasticks</td>\n",
       "      <td>NaN</td>\n",
       "    </tr>\n",
       "    <tr>\n",
       "      <th>2</th>\n",
       "      <td>tt0113092</td>\n",
       "      <td>0.0</td>\n",
       "      <td>0.0</td>\n",
       "      <td>For the Cause</td>\n",
       "      <td>NaN</td>\n",
       "    </tr>\n",
       "    <tr>\n",
       "      <th>3</th>\n",
       "      <td>tt0116391</td>\n",
       "      <td>0.0</td>\n",
       "      <td>0.0</td>\n",
       "      <td>Gang</td>\n",
       "      <td>NaN</td>\n",
       "    </tr>\n",
       "    <tr>\n",
       "      <th>4</th>\n",
       "      <td>tt0116748</td>\n",
       "      <td>0.0</td>\n",
       "      <td>0.0</td>\n",
       "      <td>Karobaar</td>\n",
       "      <td>NaN</td>\n",
       "    </tr>\n",
       "    <tr>\n",
       "      <th>5</th>\n",
       "      <td>tt0118694</td>\n",
       "      <td>150000.0</td>\n",
       "      <td>12854953.0</td>\n",
       "      <td>In the Mood for Love</td>\n",
       "      <td>PG</td>\n",
       "    </tr>\n",
       "  </tbody>\n",
       "</table>\n",
       "</div>"
      ],
      "text/plain": [
       "     imdb_id      budget     revenue                 title certification\n",
       "1  tt0113026  10000000.0         0.0       The Fantasticks           NaN\n",
       "2  tt0113092         0.0         0.0         For the Cause           NaN\n",
       "3  tt0116391         0.0         0.0                  Gang           NaN\n",
       "4  tt0116748         0.0         0.0              Karobaar           NaN\n",
       "5  tt0118694    150000.0  12854953.0  In the Mood for Love            PG"
      ]
     },
     "execution_count": 19,
     "metadata": {},
     "output_type": "execute_result"
    }
   ],
   "source": [
    "df.dropna(subset=['title'], inplace=True)\n",
    "df.head()"
   ]
  },
  {
   "cell_type": "code",
   "execution_count": 44,
   "id": "de4f0eb4",
   "metadata": {},
   "outputs": [
    {
     "data": {
      "text/plain": [
       "R          463\n",
       "PG-13      181\n",
       "NR          72\n",
       "PG          65\n",
       "G           26\n",
       "NC-17        7\n",
       "Unrated      1\n",
       "-            1\n",
       "Name: certification, dtype: int64"
      ]
     },
     "execution_count": 44,
     "metadata": {},
     "output_type": "execute_result"
    }
   ],
   "source": [
    "cert_count = df['certification'].value_counts()\n",
    "cert_count"
   ]
  },
  {
   "cell_type": "code",
   "execution_count": 58,
   "id": "303fd6f0",
   "metadata": {},
   "outputs": [],
   "source": [
    "cert_list = ['R','PG','PG-13','G']\n",
    "cert_filter = df['certification'].isin(cert_list)"
   ]
  },
  {
   "cell_type": "markdown",
   "id": "8e810b93",
   "metadata": {},
   "source": [
    "We have 463 rated R movies, 181 PG-13, 65 PG and 26 rated G."
   ]
  },
  {
   "cell_type": "code",
   "execution_count": 59,
   "id": "97074832",
   "metadata": {},
   "outputs": [],
   "source": [
    "plotdf = df.loc[cert_filter]"
   ]
  },
  {
   "cell_type": "code",
   "execution_count": 61,
   "id": "ff3c7a06",
   "metadata": {},
   "outputs": [
    {
     "data": {
      "text/plain": [
       "R        463\n",
       "PG-13    181\n",
       "PG        65\n",
       "G         26\n",
       "Name: certification, dtype: int64"
      ]
     },
     "execution_count": 61,
     "metadata": {},
     "output_type": "execute_result"
    }
   ],
   "source": [
    "plotdf['certification'].value_counts()"
   ]
  },
  {
   "cell_type": "code",
   "execution_count": 65,
   "id": "47856cd7",
   "metadata": {},
   "outputs": [
    {
     "data": {
      "image/png": "[encoded data removed]",
      "text/plain": [
       "<Figure size 432x288 with 1 Axes>"
      ]
     },
     "metadata": {
      "needs_background": "light"
     },
     "output_type": "display_data"
    }
   ],
   "source": [
    "sns.countplot(data=plotdf, x='certification');"
   ]
  },
  {
   "cell_type": "code",
   "execution_count": 67,
   "id": "c33c4a38",
   "metadata": {},
   "outputs": [
    {
     "data": {
      "image/png": "[encoded data removed]",
      "text/plain": [
       "<Figure size 432x288 with 1 Axes>"
      ]
     },
     "metadata": {
      "needs_background": "light"
     },
     "output_type": "display_data"
    }
   ],
   "source": [
    "sns.barplot(data=plotdf, x='certification', y= 'budget');"
   ]
  },
  {
   "cell_type": "code",
   "execution_count": 70,
   "id": "3ae265ba",
   "metadata": {},
   "outputs": [
    {
     "data": {
      "image/png": "[encoded data removed]",
      "text/plain": [
       "<Figure size 432x288 with 1 Axes>"
      ]
     },
     "metadata": {
      "needs_background": "light"
     },
     "output_type": "display_data"
    }
   ],
   "source": [
    "sns.barplot(data=plotdf, x='certification', y= 'revenue');"
   ]
  },
  {
   "cell_type": "markdown",
   "id": "73457fed",
   "metadata": {},
   "source": [
    "g_filter = df['certification'] == 'G' | df['budget'] > 0 | df['revenue'] > 0\n",
    "df_g = df.loc[g_filter]\n",
    "df_g['revenue'].mean().round(2)"
   ]
  },
  {
   "cell_type": "code",
   "execution_count": 22,
   "id": "cc9311a1",
   "metadata": {},
   "outputs": [
    {
     "data": {
      "text/plain": [
       "60489608.88"
      ]
     },
     "execution_count": 22,
     "metadata": {},
     "output_type": "execute_result"
    }
   ],
   "source": [
    "pg_filter = df['certification'] == 'PG'\n",
    "df_pg = df.loc[pg_filter]\n",
    "df_pg['revenue'].mean().round(2)"
   ]
  },
  {
   "cell_type": "code",
   "execution_count": 23,
   "id": "8d5a1467",
   "metadata": {},
   "outputs": [
    {
     "data": {
      "text/plain": [
       "nan"
      ]
     },
     "execution_count": 23,
     "metadata": {},
     "output_type": "execute_result"
    }
   ],
   "source": [
    "pg_13_filter = df['certification'] == 'PG_13'\n",
    "df_pg_13 = df.loc[pg_13_filter]\n",
    "df_pg_13['revenue'].mean()"
   ]
  },
  {
   "cell_type": "code",
   "execution_count": 24,
   "id": "62d01d6c",
   "metadata": {},
   "outputs": [
    {
     "data": {
      "text/plain": [
       "16379217.84"
      ]
     },
     "execution_count": 24,
     "metadata": {},
     "output_type": "execute_result"
    }
   ],
   "source": [
    "r_filter = df['certification'] == 'R'\n",
    "df_r = df.loc[r_filter]\n",
    "df_r['revenue'].mean().round(2)"
   ]
  },
  {
   "cell_type": "code",
   "execution_count": 25,
   "id": "53b650b4",
   "metadata": {},
   "outputs": [
    {
     "data": {
      "text/plain": [
       "22052064.46"
      ]
     },
     "execution_count": 25,
     "metadata": {},
     "output_type": "execute_result"
    }
   ],
   "source": [
    "g_filter_budget = df['certification'] == 'G'\n",
    "df_g_budget = df.loc[g_filter_budget]\n",
    "df_g_budget['budget'].mean().round(2)"
   ]
  },
  {
   "cell_type": "code",
   "execution_count": 26,
   "id": "d4b63e21",
   "metadata": {},
   "outputs": [
    {
     "data": {
      "text/plain": [
       "24219230.91"
      ]
     },
     "execution_count": 26,
     "metadata": {},
     "output_type": "execute_result"
    }
   ],
   "source": [
    "pg_filter_budget = df['certification'] == 'PG'\n",
    "df_pg_budget = df.loc[pg_filter_budget]\n",
    "df_pg_budget['budget'].mean().round(2)"
   ]
  },
  {
   "cell_type": "code",
   "execution_count": 27,
   "id": "aff1a816",
   "metadata": {},
   "outputs": [
    {
     "data": {
      "text/plain": [
       "24219230.91"
      ]
     },
     "execution_count": 27,
     "metadata": {},
     "output_type": "execute_result"
    }
   ],
   "source": [
    "pg_13_filter_budget = df['certification'] == 'PG'\n",
    "df_pg_13_budget = df.loc[pg_13_filter_budget]\n",
    "df_pg_13_budget['budget'].mean().round(2)"
   ]
  },
  {
   "cell_type": "code",
   "execution_count": 28,
   "id": "3e829701",
   "metadata": {},
   "outputs": [
    {
     "data": {
      "text/plain": [
       "9953235.3"
      ]
     },
     "execution_count": 28,
     "metadata": {},
     "output_type": "execute_result"
    }
   ],
   "source": [
    "r_filter_budget = df['certification'] == 'R'\n",
    "df_r_budget = df.loc[r_filter_budget]\n",
    "df_r_budget['budget'].mean().round(2)"
   ]
  },
  {
   "cell_type": "code",
   "execution_count": null,
   "id": "9176ee2d",
   "metadata": {},
   "outputs": [],
   "source": []
  },
  {
   "cell_type": "code",
   "execution_count": 46,
   "id": "f9d0f30d",
   "metadata": {},
   "outputs": [
    {
     "data": {
      "image/png": "[encoded data removed]",
      "text/plain": [
       "<Figure size 432x288 with 1 Axes>"
      ]
     },
     "metadata": {
      "needs_background": "light"
     },
     "output_type": "display_data"
    }
   ],
   "source": [
    "sns.barplot(data=df, x='certification', y=cert_count);"
   ]
  },
  {
   "cell_type": "code",
   "execution_count": null,
   "id": "936e2826",
   "metadata": {},
   "outputs": [],
   "source": []
  },
  {
   "cell_type": "code",
   "execution_count": 29,
   "id": "f565d434",
   "metadata": {},
   "outputs": [],
   "source": [
    "revenue_filter = df['revenue'] > 0\n",
    "budget_filter = df['budget'] > 0"
   ]
  },
  {
   "cell_type": "code",
   "execution_count": 30,
   "id": "dc4e00e1",
   "metadata": {},
   "outputs": [
    {
     "data": {
      "text/plain": [
       "False    3840\n",
       "True      600\n",
       "Name: budget, dtype: int64"
      ]
     },
     "execution_count": 30,
     "metadata": {},
     "output_type": "execute_result"
    }
   ],
   "source": [
    "budget_filter.value_counts()"
   ]
  },
  {
   "cell_type": "markdown",
   "id": "8750a507",
   "metadata": {},
   "source": [
    "600 films have a listed budget > 0."
   ]
  },
  {
   "cell_type": "code",
   "execution_count": 34,
   "id": "36fae7a1",
   "metadata": {},
   "outputs": [
    {
     "data": {
      "text/plain": [
       "False    3955\n",
       "True      485\n",
       "Name: revenue, dtype: int64"
      ]
     },
     "execution_count": 34,
     "metadata": {},
     "output_type": "execute_result"
    }
   ],
   "source": [
    "revenue_filter.value_counts()"
   ]
  },
  {
   "cell_type": "markdown",
   "id": "89e934cb",
   "metadata": {},
   "source": [
    "1085 movies have either a budget or revenue over 0."
   ]
  },
  {
   "cell_type": "code",
   "execution_count": 55,
   "id": "50d25d13",
   "metadata": {},
   "outputs": [],
   "source": [
    "filter_ = (df['budget']>0) | (df['revenue']>0)"
   ]
  },
  {
   "cell_type": "code",
   "execution_count": 56,
   "id": "71195b30",
   "metadata": {},
   "outputs": [],
   "source": [
    "plot_df = df[filter_]"
   ]
  },
  {
   "cell_type": "markdown",
   "id": "a6db1425",
   "metadata": {},
   "source": [
    "716  movies."
   ]
  },
  {
   "cell_type": "code",
   "execution_count": 37,
   "id": "c32980b5",
   "metadata": {},
   "outputs": [
    {
     "data": {
      "image/png": "[encoded data removed]",
      "text/plain": [
       "<Figure size 432x288 with 1 Axes>"
      ]
     },
     "metadata": {
      "needs_background": "light"
     },
     "output_type": "display_data"
    }
   ],
   "source": [
    "sns.barplot(data=plot_df);"
   ]
  },
  {
   "cell_type": "code",
   "execution_count": 35,
   "id": "d930b37e",
   "metadata": {},
   "outputs": [],
   "source": [
    "df.to_csv(\"Data/tmdb_results_combined.csv.gz\",compression='gzip',index=False)"
   ]
  },
  {
   "cell_type": "code",
   "execution_count": null,
   "id": "bc101567",
   "metadata": {},
   "outputs": [],
   "source": []
  }
 ],
 "metadata": {
  "kernelspec": {
   "display_name": "Python (dojo-env)",
   "language": "python",
   "name": "dojo-env"
  },
  "language_info": {
   "codemirror_mode": {
    "name": "ipython",
    "version": 3
   },
   "file_extension": ".py",
   "mimetype": "text/x-python",
   "name": "python",
   "nbconvert_exporter": "python",
   "pygments_lexer": "ipython3",
   "version": "3.8.13"
  },
  "toc": {
   "base_numbering": 1,
   "nav_menu": {},
   "number_sections": false,
   "sideBar": true,
   "skip_h1_title": false,
   "title_cell": "Table of Contents",
   "title_sidebar": "Contents",
   "toc_cell": false,
   "toc_position": {},
   "toc_section_display": true,
   "toc_window_display": false
  }
 },
 "nbformat": 4,
 "nbformat_minor": 5
}

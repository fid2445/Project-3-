{
 "cells": [
  {
   "cell_type": "code",
   "execution_count": 581,
   "id": "d47879cb",
   "metadata": {},
   "outputs": [
    {
     "data": {
      "text/html": [
       "<div>\n",
       "<style scoped>\n",
       "    .dataframe tbody tr th:only-of-type {\n",
       "        vertical-align: middle;\n",
       "    }\n",
       "\n",
       "    .dataframe tbody tr th {\n",
       "        vertical-align: top;\n",
       "    }\n",
       "\n",
       "    .dataframe thead th {\n",
       "        text-align: right;\n",
       "    }\n",
       "</style>\n",
       "<table border=\"1\" class=\"dataframe\">\n",
       "  <thead>\n",
       "    <tr style=\"text-align: right;\">\n",
       "      <th></th>\n",
       "      <th>imdb_id</th>\n",
       "      <th>budget</th>\n",
       "      <th>revenue</th>\n",
       "      <th>runtime</th>\n",
       "      <th>title</th>\n",
       "      <th>vote_average</th>\n",
       "      <th>certification</th>\n",
       "    </tr>\n",
       "  </thead>\n",
       "  <tbody>\n",
       "    <tr>\n",
       "      <th>0</th>\n",
       "      <td>tt0096056</td>\n",
       "      <td>0.0</td>\n",
       "      <td>0.0</td>\n",
       "      <td>126.0</td>\n",
       "      <td>Crime and Punishment</td>\n",
       "      <td>5.500</td>\n",
       "      <td>NaN</td>\n",
       "    </tr>\n",
       "    <tr>\n",
       "      <th>1</th>\n",
       "      <td>tt0118926</td>\n",
       "      <td>0.0</td>\n",
       "      <td>5227348.0</td>\n",
       "      <td>132.0</td>\n",
       "      <td>The Dancer Upstairs</td>\n",
       "      <td>6.294</td>\n",
       "      <td>R</td>\n",
       "    </tr>\n",
       "    <tr>\n",
       "      <th>2</th>\n",
       "      <td>tt0119980</td>\n",
       "      <td>0.0</td>\n",
       "      <td>0.0</td>\n",
       "      <td>91.0</td>\n",
       "      <td>Random Shooting in LA</td>\n",
       "      <td>0.000</td>\n",
       "      <td>NaN</td>\n",
       "    </tr>\n",
       "    <tr>\n",
       "      <th>3</th>\n",
       "      <td>tt0120679</td>\n",
       "      <td>12000000.0</td>\n",
       "      <td>56298474.0</td>\n",
       "      <td>123.0</td>\n",
       "      <td>Frida</td>\n",
       "      <td>7.455</td>\n",
       "      <td>R</td>\n",
       "    </tr>\n",
       "    <tr>\n",
       "      <th>4</th>\n",
       "      <td>tt0120804</td>\n",
       "      <td>33000000.0</td>\n",
       "      <td>102984862.0</td>\n",
       "      <td>100.0</td>\n",
       "      <td>Resident Evil</td>\n",
       "      <td>6.602</td>\n",
       "      <td>R</td>\n",
       "    </tr>\n",
       "  </tbody>\n",
       "</table>\n",
       "</div>"
      ],
      "text/plain": [
       "     imdb_id      budget      revenue  runtime                  title  \\\n",
       "0  tt0096056         0.0          0.0    126.0   Crime and Punishment   \n",
       "1  tt0118926         0.0    5227348.0    132.0    The Dancer Upstairs   \n",
       "2  tt0119980         0.0          0.0     91.0  Random Shooting in LA   \n",
       "3  tt0120679  12000000.0   56298474.0    123.0                  Frida   \n",
       "4  tt0120804  33000000.0  102984862.0    100.0          Resident Evil   \n",
       "\n",
       "   vote_average certification  \n",
       "0         5.500           NaN  \n",
       "1         6.294             R  \n",
       "2         0.000           NaN  \n",
       "3         7.455             R  \n",
       "4         6.602             R  "
      ]
     },
     "execution_count": 581,
     "metadata": {},
     "output_type": "execute_result"
    }
   ],
   "source": [
    "import pandas as pd\n",
    "import seaborn as sns\n",
    "import matplotlib.pyplot as plt\n",
    "import numpy as np\n",
    "import scipy.stats as stats\n",
    "import scipy\n",
    "scipy.__version__\n",
    "\n",
    "\n",
    "df = pd.read_csv('Data/df_2002-2014_no_2007.csv.gz', low_memory=False)\n",
    "df.head()"
   ]
  },
  {
   "cell_type": "code",
   "execution_count": 582,
   "id": "8ab7a514",
   "metadata": {},
   "outputs": [
    {
     "data": {
      "text/plain": [
       "imdb_id          0\n",
       "budget           0\n",
       "revenue          0\n",
       "runtime          0\n",
       "title            0\n",
       "vote_average     0\n",
       "certification    0\n",
       "dtype: int64"
      ]
     },
     "execution_count": 582,
     "metadata": {},
     "output_type": "execute_result"
    }
   ],
   "source": [
    "df.dropna(subset=['certification'], inplace=True)\n",
    "df.isna().sum()"
   ]
  },
  {
   "cell_type": "code",
   "execution_count": 583,
   "id": "a305468e",
   "metadata": {},
   "outputs": [
    {
     "data": {
      "text/plain": [
       "R                                  3509\n",
       "PG-13                              1863\n",
       "NR                                 1646\n",
       "PG                                  802\n",
       "G                                   252\n",
       "NC-17                                91\n",
       "UR                                    1\n",
       "Not Rated                             1\n",
       "ScreamFest Horror Film Festival       1\n",
       "12                                    1\n",
       "R                                     1\n",
       "PG-13                                 1\n",
       "10                                    1\n",
       "Name: certification, dtype: int64"
      ]
     },
     "execution_count": 583,
     "metadata": {},
     "output_type": "execute_result"
    }
   ],
   "source": [
    "df['certification'].value_counts()"
   ]
  },
  {
   "cell_type": "markdown",
   "id": "3b39c587",
   "metadata": {},
   "source": [
    "## getting only the certifications I want"
   ]
  },
  {
   "cell_type": "code",
   "execution_count": 584,
   "id": "0da2055f",
   "metadata": {},
   "outputs": [
    {
     "data": {
      "text/plain": [
       "R                                  3510\n",
       "PG-13                              1864\n",
       "NR                                 1646\n",
       "PG                                  802\n",
       "G                                   252\n",
       "NC-17                                91\n",
       "UR                                    1\n",
       "Not Rated                             1\n",
       "ScreamFest Horror Film Festival       1\n",
       "12                                    1\n",
       "10                                    1\n",
       "Name: certification, dtype: int64"
      ]
     },
     "execution_count": 584,
     "metadata": {},
     "output_type": "execute_result"
    }
   ],
   "source": [
    "df['certification'] = df['certification'].str.strip()\n",
    "df['certification'].value_counts()"
   ]
  },
  {
   "cell_type": "code",
   "execution_count": 585,
   "id": "ba530c41",
   "metadata": {},
   "outputs": [
    {
     "data": {
      "text/html": [
       "<div>\n",
       "<style scoped>\n",
       "    .dataframe tbody tr th:only-of-type {\n",
       "        vertical-align: middle;\n",
       "    }\n",
       "\n",
       "    .dataframe tbody tr th {\n",
       "        vertical-align: top;\n",
       "    }\n",
       "\n",
       "    .dataframe thead th {\n",
       "        text-align: right;\n",
       "    }\n",
       "</style>\n",
       "<table border=\"1\" class=\"dataframe\">\n",
       "  <thead>\n",
       "    <tr style=\"text-align: right;\">\n",
       "      <th></th>\n",
       "      <th>imdb_id</th>\n",
       "      <th>budget</th>\n",
       "      <th>revenue</th>\n",
       "      <th>runtime</th>\n",
       "      <th>title</th>\n",
       "      <th>vote_average</th>\n",
       "      <th>certification</th>\n",
       "    </tr>\n",
       "  </thead>\n",
       "  <tbody>\n",
       "    <tr>\n",
       "      <th>1</th>\n",
       "      <td>tt0118926</td>\n",
       "      <td>0.0</td>\n",
       "      <td>5227348.0</td>\n",
       "      <td>132.0</td>\n",
       "      <td>The Dancer Upstairs</td>\n",
       "      <td>6.294</td>\n",
       "      <td>R</td>\n",
       "    </tr>\n",
       "    <tr>\n",
       "      <th>3</th>\n",
       "      <td>tt0120679</td>\n",
       "      <td>12000000.0</td>\n",
       "      <td>56298474.0</td>\n",
       "      <td>123.0</td>\n",
       "      <td>Frida</td>\n",
       "      <td>7.455</td>\n",
       "      <td>R</td>\n",
       "    </tr>\n",
       "    <tr>\n",
       "      <th>4</th>\n",
       "      <td>tt0120804</td>\n",
       "      <td>33000000.0</td>\n",
       "      <td>102984862.0</td>\n",
       "      <td>100.0</td>\n",
       "      <td>Resident Evil</td>\n",
       "      <td>6.602</td>\n",
       "      <td>R</td>\n",
       "    </tr>\n",
       "    <tr>\n",
       "      <th>11</th>\n",
       "      <td>tt0149253</td>\n",
       "      <td>0.0</td>\n",
       "      <td>0.0</td>\n",
       "      <td>96.0</td>\n",
       "      <td>Texas '46</td>\n",
       "      <td>3.500</td>\n",
       "      <td>R</td>\n",
       "    </tr>\n",
       "    <tr>\n",
       "      <th>15</th>\n",
       "      <td>tt0160184</td>\n",
       "      <td>55000000.0</td>\n",
       "      <td>6632383.0</td>\n",
       "      <td>96.0</td>\n",
       "      <td>D-Tox</td>\n",
       "      <td>5.613</td>\n",
       "      <td>R</td>\n",
       "    </tr>\n",
       "    <tr>\n",
       "      <th>...</th>\n",
       "      <td>...</td>\n",
       "      <td>...</td>\n",
       "      <td>...</td>\n",
       "      <td>...</td>\n",
       "      <td>...</td>\n",
       "      <td>...</td>\n",
       "      <td>...</td>\n",
       "    </tr>\n",
       "    <tr>\n",
       "      <th>44307</th>\n",
       "      <td>tt4197006</td>\n",
       "      <td>0.0</td>\n",
       "      <td>0.0</td>\n",
       "      <td>70.0</td>\n",
       "      <td>The Sect</td>\n",
       "      <td>3.000</td>\n",
       "      <td>R</td>\n",
       "    </tr>\n",
       "    <tr>\n",
       "      <th>44329</th>\n",
       "      <td>tt4209020</td>\n",
       "      <td>0.0</td>\n",
       "      <td>0.0</td>\n",
       "      <td>72.0</td>\n",
       "      <td>Here kitty kitty!</td>\n",
       "      <td>5.000</td>\n",
       "      <td>R</td>\n",
       "    </tr>\n",
       "    <tr>\n",
       "      <th>44538</th>\n",
       "      <td>tt4416878</td>\n",
       "      <td>0.0</td>\n",
       "      <td>0.0</td>\n",
       "      <td>51.0</td>\n",
       "      <td>Lake Nowhere</td>\n",
       "      <td>6.000</td>\n",
       "      <td>R</td>\n",
       "    </tr>\n",
       "    <tr>\n",
       "      <th>44561</th>\n",
       "      <td>tt4473620</td>\n",
       "      <td>0.0</td>\n",
       "      <td>0.0</td>\n",
       "      <td>90.0</td>\n",
       "      <td>Witching Hour</td>\n",
       "      <td>10.000</td>\n",
       "      <td>R</td>\n",
       "    </tr>\n",
       "    <tr>\n",
       "      <th>44659</th>\n",
       "      <td>tt4768794</td>\n",
       "      <td>0.0</td>\n",
       "      <td>0.0</td>\n",
       "      <td>81.0</td>\n",
       "      <td>I Declare War</td>\n",
       "      <td>3.000</td>\n",
       "      <td>R</td>\n",
       "    </tr>\n",
       "  </tbody>\n",
       "</table>\n",
       "<p>3510 rows × 7 columns</p>\n",
       "</div>"
      ],
      "text/plain": [
       "         imdb_id      budget      revenue  runtime                title  \\\n",
       "1      tt0118926         0.0    5227348.0    132.0  The Dancer Upstairs   \n",
       "3      tt0120679  12000000.0   56298474.0    123.0                Frida   \n",
       "4      tt0120804  33000000.0  102984862.0    100.0        Resident Evil   \n",
       "11     tt0149253         0.0          0.0     96.0            Texas '46   \n",
       "15     tt0160184  55000000.0    6632383.0     96.0                D-Tox   \n",
       "...          ...         ...          ...      ...                  ...   \n",
       "44307  tt4197006         0.0          0.0     70.0             The Sect   \n",
       "44329  tt4209020         0.0          0.0     72.0    Here kitty kitty!   \n",
       "44538  tt4416878         0.0          0.0     51.0         Lake Nowhere   \n",
       "44561  tt4473620         0.0          0.0     90.0        Witching Hour   \n",
       "44659  tt4768794         0.0          0.0     81.0        I Declare War   \n",
       "\n",
       "       vote_average certification  \n",
       "1             6.294             R  \n",
       "3             7.455             R  \n",
       "4             6.602             R  \n",
       "11            3.500             R  \n",
       "15            5.613             R  \n",
       "...             ...           ...  \n",
       "44307         3.000             R  \n",
       "44329         5.000             R  \n",
       "44538         6.000             R  \n",
       "44561        10.000             R  \n",
       "44659         3.000             R  \n",
       "\n",
       "[3510 rows x 7 columns]"
      ]
     },
     "execution_count": 585,
     "metadata": {},
     "output_type": "execute_result"
    }
   ],
   "source": [
    "r_df = df.loc[(df['certification'] == 'R')]\n",
    "r_df"
   ]
  },
  {
   "cell_type": "code",
   "execution_count": 586,
   "id": "4f377ac8",
   "metadata": {},
   "outputs": [
    {
     "data": {
      "text/html": [
       "<div>\n",
       "<style scoped>\n",
       "    .dataframe tbody tr th:only-of-type {\n",
       "        vertical-align: middle;\n",
       "    }\n",
       "\n",
       "    .dataframe tbody tr th {\n",
       "        vertical-align: top;\n",
       "    }\n",
       "\n",
       "    .dataframe thead th {\n",
       "        text-align: right;\n",
       "    }\n",
       "</style>\n",
       "<table border=\"1\" class=\"dataframe\">\n",
       "  <thead>\n",
       "    <tr style=\"text-align: right;\">\n",
       "      <th></th>\n",
       "      <th>imdb_id</th>\n",
       "      <th>budget</th>\n",
       "      <th>revenue</th>\n",
       "      <th>runtime</th>\n",
       "      <th>title</th>\n",
       "      <th>vote_average</th>\n",
       "      <th>certification</th>\n",
       "    </tr>\n",
       "  </thead>\n",
       "  <tbody>\n",
       "    <tr>\n",
       "      <th>10</th>\n",
       "      <td>tt0146063</td>\n",
       "      <td>0.0</td>\n",
       "      <td>0.0</td>\n",
       "      <td>88.0</td>\n",
       "      <td>The Princess and the Pea</td>\n",
       "      <td>7.100</td>\n",
       "      <td>G</td>\n",
       "    </tr>\n",
       "    <tr>\n",
       "      <th>27</th>\n",
       "      <td>tt0166813</td>\n",
       "      <td>80000000.0</td>\n",
       "      <td>122563539.0</td>\n",
       "      <td>83.0</td>\n",
       "      <td>Spirit: Stallion of the Cimarron</td>\n",
       "      <td>7.691</td>\n",
       "      <td>G</td>\n",
       "    </tr>\n",
       "    <tr>\n",
       "      <th>115</th>\n",
       "      <td>tt0243585</td>\n",
       "      <td>120000000.0</td>\n",
       "      <td>169956806.0</td>\n",
       "      <td>78.0</td>\n",
       "      <td>Stuart Little 2</td>\n",
       "      <td>5.738</td>\n",
       "      <td>G</td>\n",
       "    </tr>\n",
       "    <tr>\n",
       "      <th>231</th>\n",
       "      <td>tt0265662</td>\n",
       "      <td>20000000.0</td>\n",
       "      <td>75597042.0</td>\n",
       "      <td>127.0</td>\n",
       "      <td>The Rookie</td>\n",
       "      <td>6.719</td>\n",
       "      <td>G</td>\n",
       "    </tr>\n",
       "    <tr>\n",
       "      <th>276</th>\n",
       "      <td>tt0271582</td>\n",
       "      <td>0.0</td>\n",
       "      <td>1347988.0</td>\n",
       "      <td>91.0</td>\n",
       "      <td>Joshua</td>\n",
       "      <td>6.500</td>\n",
       "      <td>G</td>\n",
       "    </tr>\n",
       "    <tr>\n",
       "      <th>...</th>\n",
       "      <td>...</td>\n",
       "      <td>...</td>\n",
       "      <td>...</td>\n",
       "      <td>...</td>\n",
       "      <td>...</td>\n",
       "      <td>...</td>\n",
       "      <td>...</td>\n",
       "    </tr>\n",
       "    <tr>\n",
       "      <th>44228</th>\n",
       "      <td>tt4150316</td>\n",
       "      <td>0.0</td>\n",
       "      <td>0.0</td>\n",
       "      <td>45.0</td>\n",
       "      <td>Frozen in Time</td>\n",
       "      <td>4.800</td>\n",
       "      <td>G</td>\n",
       "    </tr>\n",
       "    <tr>\n",
       "      <th>44241</th>\n",
       "      <td>tt4157940</td>\n",
       "      <td>0.0</td>\n",
       "      <td>8520000.0</td>\n",
       "      <td>87.0</td>\n",
       "      <td>The Magical Brush</td>\n",
       "      <td>4.800</td>\n",
       "      <td>G</td>\n",
       "    </tr>\n",
       "    <tr>\n",
       "      <th>44558</th>\n",
       "      <td>tt4468650</td>\n",
       "      <td>0.0</td>\n",
       "      <td>0.0</td>\n",
       "      <td>0.0</td>\n",
       "      <td>神秘世界历险记2</td>\n",
       "      <td>6.500</td>\n",
       "      <td>G</td>\n",
       "    </tr>\n",
       "    <tr>\n",
       "      <th>44615</th>\n",
       "      <td>tt4591840</td>\n",
       "      <td>10000000.0</td>\n",
       "      <td>0.0</td>\n",
       "      <td>82.0</td>\n",
       "      <td>A Christmas Star</td>\n",
       "      <td>5.000</td>\n",
       "      <td>G</td>\n",
       "    </tr>\n",
       "    <tr>\n",
       "      <th>44875</th>\n",
       "      <td>tt7266208</td>\n",
       "      <td>0.0</td>\n",
       "      <td>0.0</td>\n",
       "      <td>130.0</td>\n",
       "      <td>Lots &amp; Lots of Trains - Songs For Kids</td>\n",
       "      <td>0.000</td>\n",
       "      <td>G</td>\n",
       "    </tr>\n",
       "  </tbody>\n",
       "</table>\n",
       "<p>252 rows × 7 columns</p>\n",
       "</div>"
      ],
      "text/plain": [
       "         imdb_id       budget      revenue  runtime  \\\n",
       "10     tt0146063          0.0          0.0     88.0   \n",
       "27     tt0166813   80000000.0  122563539.0     83.0   \n",
       "115    tt0243585  120000000.0  169956806.0     78.0   \n",
       "231    tt0265662   20000000.0   75597042.0    127.0   \n",
       "276    tt0271582          0.0    1347988.0     91.0   \n",
       "...          ...          ...          ...      ...   \n",
       "44228  tt4150316          0.0          0.0     45.0   \n",
       "44241  tt4157940          0.0    8520000.0     87.0   \n",
       "44558  tt4468650          0.0          0.0      0.0   \n",
       "44615  tt4591840   10000000.0          0.0     82.0   \n",
       "44875  tt7266208          0.0          0.0    130.0   \n",
       "\n",
       "                                        title  vote_average certification  \n",
       "10                   The Princess and the Pea         7.100             G  \n",
       "27           Spirit: Stallion of the Cimarron         7.691             G  \n",
       "115                           Stuart Little 2         5.738             G  \n",
       "231                                The Rookie         6.719             G  \n",
       "276                                    Joshua         6.500             G  \n",
       "...                                       ...           ...           ...  \n",
       "44228                          Frozen in Time         4.800             G  \n",
       "44241                       The Magical Brush         4.800             G  \n",
       "44558                                神秘世界历险记2         6.500             G  \n",
       "44615                        A Christmas Star         5.000             G  \n",
       "44875  Lots & Lots of Trains - Songs For Kids         0.000             G  \n",
       "\n",
       "[252 rows x 7 columns]"
      ]
     },
     "execution_count": 586,
     "metadata": {},
     "output_type": "execute_result"
    }
   ],
   "source": [
    "g_df = df.loc[(df['certification'] == 'G')]\n",
    "g_df"
   ]
  },
  {
   "cell_type": "code",
   "execution_count": 587,
   "id": "df373392",
   "metadata": {},
   "outputs": [
    {
     "data": {
      "text/html": [
       "<div>\n",
       "<style scoped>\n",
       "    .dataframe tbody tr th:only-of-type {\n",
       "        vertical-align: middle;\n",
       "    }\n",
       "\n",
       "    .dataframe tbody tr th {\n",
       "        vertical-align: top;\n",
       "    }\n",
       "\n",
       "    .dataframe thead th {\n",
       "        text-align: right;\n",
       "    }\n",
       "</style>\n",
       "<table border=\"1\" class=\"dataframe\">\n",
       "  <thead>\n",
       "    <tr style=\"text-align: right;\">\n",
       "      <th></th>\n",
       "      <th>imdb_id</th>\n",
       "      <th>budget</th>\n",
       "      <th>revenue</th>\n",
       "      <th>runtime</th>\n",
       "      <th>title</th>\n",
       "      <th>vote_average</th>\n",
       "      <th>certification</th>\n",
       "    </tr>\n",
       "  </thead>\n",
       "  <tbody>\n",
       "    <tr>\n",
       "      <th>6</th>\n",
       "      <td>tt0121765</td>\n",
       "      <td>120000000.0</td>\n",
       "      <td>649398328.0</td>\n",
       "      <td>142.0</td>\n",
       "      <td>Star Wars: Episode II - Attack of the Clones</td>\n",
       "      <td>6.542</td>\n",
       "      <td>PG</td>\n",
       "    </tr>\n",
       "    <tr>\n",
       "      <th>8</th>\n",
       "      <td>tt0133240</td>\n",
       "      <td>140000000.0</td>\n",
       "      <td>109578115.0</td>\n",
       "      <td>95.0</td>\n",
       "      <td>Treasure Planet</td>\n",
       "      <td>7.530</td>\n",
       "      <td>PG</td>\n",
       "    </tr>\n",
       "    <tr>\n",
       "      <th>14</th>\n",
       "      <td>tt0157472</td>\n",
       "      <td>26000000.0</td>\n",
       "      <td>38793283.0</td>\n",
       "      <td>94.0</td>\n",
       "      <td>Clockstoppers</td>\n",
       "      <td>5.255</td>\n",
       "      <td>PG</td>\n",
       "    </tr>\n",
       "    <tr>\n",
       "      <th>140</th>\n",
       "      <td>tt0248169</td>\n",
       "      <td>0.0</td>\n",
       "      <td>505675.0</td>\n",
       "      <td>119.0</td>\n",
       "      <td>Manna from Heaven</td>\n",
       "      <td>0.000</td>\n",
       "      <td>PG</td>\n",
       "    </tr>\n",
       "    <tr>\n",
       "      <th>148</th>\n",
       "      <td>tt0250223</td>\n",
       "      <td>58500000.0</td>\n",
       "      <td>111127553.0</td>\n",
       "      <td>108.0</td>\n",
       "      <td>Asterix &amp; Obelix: Mission Cleopatra</td>\n",
       "      <td>7.355</td>\n",
       "      <td>PG</td>\n",
       "    </tr>\n",
       "    <tr>\n",
       "      <th>...</th>\n",
       "      <td>...</td>\n",
       "      <td>...</td>\n",
       "      <td>...</td>\n",
       "      <td>...</td>\n",
       "      <td>...</td>\n",
       "      <td>...</td>\n",
       "      <td>...</td>\n",
       "    </tr>\n",
       "    <tr>\n",
       "      <th>43883</th>\n",
       "      <td>tt3949650</td>\n",
       "      <td>33989696.0</td>\n",
       "      <td>0.0</td>\n",
       "      <td>109.0</td>\n",
       "      <td>Doraemon: New Nobita's Great Demon – Peko and ...</td>\n",
       "      <td>7.044</td>\n",
       "      <td>PG</td>\n",
       "    </tr>\n",
       "    <tr>\n",
       "      <th>44036</th>\n",
       "      <td>tt4044488</td>\n",
       "      <td>0.0</td>\n",
       "      <td>0.0</td>\n",
       "      <td>95.0</td>\n",
       "      <td>Message of Hope</td>\n",
       "      <td>0.000</td>\n",
       "      <td>PG</td>\n",
       "    </tr>\n",
       "    <tr>\n",
       "      <th>44042</th>\n",
       "      <td>tt4045666</td>\n",
       "      <td>0.0</td>\n",
       "      <td>0.0</td>\n",
       "      <td>120.0</td>\n",
       "      <td>Mumbai Delhi Mumbai</td>\n",
       "      <td>6.300</td>\n",
       "      <td>PG</td>\n",
       "    </tr>\n",
       "    <tr>\n",
       "      <th>44072</th>\n",
       "      <td>tt4061848</td>\n",
       "      <td>0.0</td>\n",
       "      <td>0.0</td>\n",
       "      <td>53.0</td>\n",
       "      <td>Alpha and Omega: The Legend of the Saw Tooth Cave</td>\n",
       "      <td>6.476</td>\n",
       "      <td>PG</td>\n",
       "    </tr>\n",
       "    <tr>\n",
       "      <th>44488</th>\n",
       "      <td>tt4329098</td>\n",
       "      <td>0.0</td>\n",
       "      <td>0.0</td>\n",
       "      <td>88.0</td>\n",
       "      <td>Sugar Daddies</td>\n",
       "      <td>4.600</td>\n",
       "      <td>PG</td>\n",
       "    </tr>\n",
       "  </tbody>\n",
       "</table>\n",
       "<p>802 rows × 7 columns</p>\n",
       "</div>"
      ],
      "text/plain": [
       "         imdb_id       budget      revenue  runtime  \\\n",
       "6      tt0121765  120000000.0  649398328.0    142.0   \n",
       "8      tt0133240  140000000.0  109578115.0     95.0   \n",
       "14     tt0157472   26000000.0   38793283.0     94.0   \n",
       "140    tt0248169          0.0     505675.0    119.0   \n",
       "148    tt0250223   58500000.0  111127553.0    108.0   \n",
       "...          ...          ...          ...      ...   \n",
       "43883  tt3949650   33989696.0          0.0    109.0   \n",
       "44036  tt4044488          0.0          0.0     95.0   \n",
       "44042  tt4045666          0.0          0.0    120.0   \n",
       "44072  tt4061848          0.0          0.0     53.0   \n",
       "44488  tt4329098          0.0          0.0     88.0   \n",
       "\n",
       "                                                   title  vote_average  \\\n",
       "6           Star Wars: Episode II - Attack of the Clones         6.542   \n",
       "8                                        Treasure Planet         7.530   \n",
       "14                                         Clockstoppers         5.255   \n",
       "140                                    Manna from Heaven         0.000   \n",
       "148                  Asterix & Obelix: Mission Cleopatra         7.355   \n",
       "...                                                  ...           ...   \n",
       "43883  Doraemon: New Nobita's Great Demon – Peko and ...         7.044   \n",
       "44036                                    Message of Hope         0.000   \n",
       "44042                                Mumbai Delhi Mumbai         6.300   \n",
       "44072  Alpha and Omega: The Legend of the Saw Tooth Cave         6.476   \n",
       "44488                                      Sugar Daddies         4.600   \n",
       "\n",
       "      certification  \n",
       "6                PG  \n",
       "8                PG  \n",
       "14               PG  \n",
       "140              PG  \n",
       "148              PG  \n",
       "...             ...  \n",
       "43883            PG  \n",
       "44036            PG  \n",
       "44042            PG  \n",
       "44072            PG  \n",
       "44488            PG  \n",
       "\n",
       "[802 rows x 7 columns]"
      ]
     },
     "execution_count": 587,
     "metadata": {},
     "output_type": "execute_result"
    }
   ],
   "source": [
    "pg_df = df.loc[(df['certification'] == 'PG')]\n",
    "pg_df"
   ]
  },
  {
   "cell_type": "code",
   "execution_count": 588,
   "id": "e3399bf4",
   "metadata": {},
   "outputs": [
    {
     "data": {
      "text/html": [
       "<div>\n",
       "<style scoped>\n",
       "    .dataframe tbody tr th:only-of-type {\n",
       "        vertical-align: middle;\n",
       "    }\n",
       "\n",
       "    .dataframe tbody tr th {\n",
       "        vertical-align: top;\n",
       "    }\n",
       "\n",
       "    .dataframe thead th {\n",
       "        text-align: right;\n",
       "    }\n",
       "</style>\n",
       "<table border=\"1\" class=\"dataframe\">\n",
       "  <thead>\n",
       "    <tr style=\"text-align: right;\">\n",
       "      <th></th>\n",
       "      <th>imdb_id</th>\n",
       "      <th>budget</th>\n",
       "      <th>revenue</th>\n",
       "      <th>runtime</th>\n",
       "      <th>title</th>\n",
       "      <th>vote_average</th>\n",
       "      <th>certification</th>\n",
       "    </tr>\n",
       "  </thead>\n",
       "  <tbody>\n",
       "    <tr>\n",
       "      <th>5</th>\n",
       "      <td>tt0120912</td>\n",
       "      <td>140000000.0</td>\n",
       "      <td>445135288.0</td>\n",
       "      <td>88.0</td>\n",
       "      <td>Men in Black II</td>\n",
       "      <td>6.348</td>\n",
       "      <td>PG-13</td>\n",
       "    </tr>\n",
       "    <tr>\n",
       "      <th>9</th>\n",
       "      <td>tt0145487</td>\n",
       "      <td>139000000.0</td>\n",
       "      <td>821708551.0</td>\n",
       "      <td>121.0</td>\n",
       "      <td>Spider-Man</td>\n",
       "      <td>7.248</td>\n",
       "      <td>PG-13</td>\n",
       "    </tr>\n",
       "    <tr>\n",
       "      <th>23</th>\n",
       "      <td>tt0164184</td>\n",
       "      <td>68000000.0</td>\n",
       "      <td>193921372.0</td>\n",
       "      <td>124.0</td>\n",
       "      <td>The Sum of All Fears</td>\n",
       "      <td>6.290</td>\n",
       "      <td>PG-13</td>\n",
       "    </tr>\n",
       "    <tr>\n",
       "      <th>29</th>\n",
       "      <td>tt0167261</td>\n",
       "      <td>79000000.0</td>\n",
       "      <td>926287400.0</td>\n",
       "      <td>179.0</td>\n",
       "      <td>The Lord of the Rings: The Two Towers</td>\n",
       "      <td>8.368</td>\n",
       "      <td>PG-13</td>\n",
       "    </tr>\n",
       "    <tr>\n",
       "      <th>34</th>\n",
       "      <td>tt0179098</td>\n",
       "      <td>21000000.0</td>\n",
       "      <td>10011050.0</td>\n",
       "      <td>117.0</td>\n",
       "      <td>Moonlight Mile</td>\n",
       "      <td>6.305</td>\n",
       "      <td>PG-13</td>\n",
       "    </tr>\n",
       "    <tr>\n",
       "      <th>...</th>\n",
       "      <td>...</td>\n",
       "      <td>...</td>\n",
       "      <td>...</td>\n",
       "      <td>...</td>\n",
       "      <td>...</td>\n",
       "      <td>...</td>\n",
       "      <td>...</td>\n",
       "    </tr>\n",
       "    <tr>\n",
       "      <th>44007</th>\n",
       "      <td>tt4027422</td>\n",
       "      <td>0.0</td>\n",
       "      <td>0.0</td>\n",
       "      <td>91.0</td>\n",
       "      <td>Subways</td>\n",
       "      <td>4.000</td>\n",
       "      <td>PG-13</td>\n",
       "    </tr>\n",
       "    <tr>\n",
       "      <th>44390</th>\n",
       "      <td>tt4246856</td>\n",
       "      <td>0.0</td>\n",
       "      <td>0.0</td>\n",
       "      <td>92.0</td>\n",
       "      <td>Wildflower</td>\n",
       "      <td>5.300</td>\n",
       "      <td>PG-13</td>\n",
       "    </tr>\n",
       "    <tr>\n",
       "      <th>44430</th>\n",
       "      <td>tt4288542</td>\n",
       "      <td>0.0</td>\n",
       "      <td>1695006.0</td>\n",
       "      <td>93.0</td>\n",
       "      <td>Viejos amigos</td>\n",
       "      <td>6.400</td>\n",
       "      <td>PG-13</td>\n",
       "    </tr>\n",
       "    <tr>\n",
       "      <th>44638</th>\n",
       "      <td>tt4684268</td>\n",
       "      <td>0.0</td>\n",
       "      <td>0.0</td>\n",
       "      <td>71.0</td>\n",
       "      <td>The Coffin Footage</td>\n",
       "      <td>3.200</td>\n",
       "      <td>PG-13</td>\n",
       "    </tr>\n",
       "    <tr>\n",
       "      <th>44685</th>\n",
       "      <td>tt4873226</td>\n",
       "      <td>0.0</td>\n",
       "      <td>0.0</td>\n",
       "      <td>88.0</td>\n",
       "      <td>Just a Measure of Faith</td>\n",
       "      <td>0.000</td>\n",
       "      <td>PG-13</td>\n",
       "    </tr>\n",
       "  </tbody>\n",
       "</table>\n",
       "<p>1864 rows × 7 columns</p>\n",
       "</div>"
      ],
      "text/plain": [
       "         imdb_id       budget      revenue  runtime  \\\n",
       "5      tt0120912  140000000.0  445135288.0     88.0   \n",
       "9      tt0145487  139000000.0  821708551.0    121.0   \n",
       "23     tt0164184   68000000.0  193921372.0    124.0   \n",
       "29     tt0167261   79000000.0  926287400.0    179.0   \n",
       "34     tt0179098   21000000.0   10011050.0    117.0   \n",
       "...          ...          ...          ...      ...   \n",
       "44007  tt4027422          0.0          0.0     91.0   \n",
       "44390  tt4246856          0.0          0.0     92.0   \n",
       "44430  tt4288542          0.0    1695006.0     93.0   \n",
       "44638  tt4684268          0.0          0.0     71.0   \n",
       "44685  tt4873226          0.0          0.0     88.0   \n",
       "\n",
       "                                       title  vote_average certification  \n",
       "5                            Men in Black II         6.348         PG-13  \n",
       "9                                 Spider-Man         7.248         PG-13  \n",
       "23                      The Sum of All Fears         6.290         PG-13  \n",
       "29     The Lord of the Rings: The Two Towers         8.368         PG-13  \n",
       "34                            Moonlight Mile         6.305         PG-13  \n",
       "...                                      ...           ...           ...  \n",
       "44007                                Subways         4.000         PG-13  \n",
       "44390                             Wildflower         5.300         PG-13  \n",
       "44430                          Viejos amigos         6.400         PG-13  \n",
       "44638                     The Coffin Footage         3.200         PG-13  \n",
       "44685                Just a Measure of Faith         0.000         PG-13  \n",
       "\n",
       "[1864 rows x 7 columns]"
      ]
     },
     "execution_count": 588,
     "metadata": {},
     "output_type": "execute_result"
    }
   ],
   "source": [
    "pg_13_df = df.loc[(df['certification'] == 'PG-13')]\n",
    "pg_13_df"
   ]
  },
  {
   "cell_type": "markdown",
   "id": "83a8c815",
   "metadata": {},
   "source": [
    "### Convert back to single df"
   ]
  },
  {
   "cell_type": "code",
   "execution_count": 589,
   "id": "d3ad3d98",
   "metadata": {},
   "outputs": [
    {
     "data": {
      "text/html": [
       "<div>\n",
       "<style scoped>\n",
       "    .dataframe tbody tr th:only-of-type {\n",
       "        vertical-align: middle;\n",
       "    }\n",
       "\n",
       "    .dataframe tbody tr th {\n",
       "        vertical-align: top;\n",
       "    }\n",
       "\n",
       "    .dataframe thead th {\n",
       "        text-align: right;\n",
       "    }\n",
       "</style>\n",
       "<table border=\"1\" class=\"dataframe\">\n",
       "  <thead>\n",
       "    <tr style=\"text-align: right;\">\n",
       "      <th></th>\n",
       "      <th>imdb_id</th>\n",
       "      <th>budget</th>\n",
       "      <th>revenue</th>\n",
       "      <th>runtime</th>\n",
       "      <th>title</th>\n",
       "      <th>vote_average</th>\n",
       "      <th>certification</th>\n",
       "    </tr>\n",
       "  </thead>\n",
       "  <tbody>\n",
       "    <tr>\n",
       "      <th>0</th>\n",
       "      <td>tt0146063</td>\n",
       "      <td>0.0</td>\n",
       "      <td>0.0</td>\n",
       "      <td>88.0</td>\n",
       "      <td>The Princess and the Pea</td>\n",
       "      <td>7.100</td>\n",
       "      <td>G</td>\n",
       "    </tr>\n",
       "    <tr>\n",
       "      <th>1</th>\n",
       "      <td>tt0166813</td>\n",
       "      <td>80000000.0</td>\n",
       "      <td>122563539.0</td>\n",
       "      <td>83.0</td>\n",
       "      <td>Spirit: Stallion of the Cimarron</td>\n",
       "      <td>7.691</td>\n",
       "      <td>G</td>\n",
       "    </tr>\n",
       "    <tr>\n",
       "      <th>2</th>\n",
       "      <td>tt0243585</td>\n",
       "      <td>120000000.0</td>\n",
       "      <td>169956806.0</td>\n",
       "      <td>78.0</td>\n",
       "      <td>Stuart Little 2</td>\n",
       "      <td>5.738</td>\n",
       "      <td>G</td>\n",
       "    </tr>\n",
       "    <tr>\n",
       "      <th>3</th>\n",
       "      <td>tt0265662</td>\n",
       "      <td>20000000.0</td>\n",
       "      <td>75597042.0</td>\n",
       "      <td>127.0</td>\n",
       "      <td>The Rookie</td>\n",
       "      <td>6.719</td>\n",
       "      <td>G</td>\n",
       "    </tr>\n",
       "    <tr>\n",
       "      <th>4</th>\n",
       "      <td>tt0271582</td>\n",
       "      <td>0.0</td>\n",
       "      <td>1347988.0</td>\n",
       "      <td>91.0</td>\n",
       "      <td>Joshua</td>\n",
       "      <td>6.500</td>\n",
       "      <td>G</td>\n",
       "    </tr>\n",
       "    <tr>\n",
       "      <th>...</th>\n",
       "      <td>...</td>\n",
       "      <td>...</td>\n",
       "      <td>...</td>\n",
       "      <td>...</td>\n",
       "      <td>...</td>\n",
       "      <td>...</td>\n",
       "      <td>...</td>\n",
       "    </tr>\n",
       "    <tr>\n",
       "      <th>6423</th>\n",
       "      <td>tt4197006</td>\n",
       "      <td>0.0</td>\n",
       "      <td>0.0</td>\n",
       "      <td>70.0</td>\n",
       "      <td>The Sect</td>\n",
       "      <td>3.000</td>\n",
       "      <td>R</td>\n",
       "    </tr>\n",
       "    <tr>\n",
       "      <th>6424</th>\n",
       "      <td>tt4209020</td>\n",
       "      <td>0.0</td>\n",
       "      <td>0.0</td>\n",
       "      <td>72.0</td>\n",
       "      <td>Here kitty kitty!</td>\n",
       "      <td>5.000</td>\n",
       "      <td>R</td>\n",
       "    </tr>\n",
       "    <tr>\n",
       "      <th>6425</th>\n",
       "      <td>tt4416878</td>\n",
       "      <td>0.0</td>\n",
       "      <td>0.0</td>\n",
       "      <td>51.0</td>\n",
       "      <td>Lake Nowhere</td>\n",
       "      <td>6.000</td>\n",
       "      <td>R</td>\n",
       "    </tr>\n",
       "    <tr>\n",
       "      <th>6426</th>\n",
       "      <td>tt4473620</td>\n",
       "      <td>0.0</td>\n",
       "      <td>0.0</td>\n",
       "      <td>90.0</td>\n",
       "      <td>Witching Hour</td>\n",
       "      <td>10.000</td>\n",
       "      <td>R</td>\n",
       "    </tr>\n",
       "    <tr>\n",
       "      <th>6427</th>\n",
       "      <td>tt4768794</td>\n",
       "      <td>0.0</td>\n",
       "      <td>0.0</td>\n",
       "      <td>81.0</td>\n",
       "      <td>I Declare War</td>\n",
       "      <td>3.000</td>\n",
       "      <td>R</td>\n",
       "    </tr>\n",
       "  </tbody>\n",
       "</table>\n",
       "<p>6428 rows × 7 columns</p>\n",
       "</div>"
      ],
      "text/plain": [
       "        imdb_id       budget      revenue  runtime  \\\n",
       "0     tt0146063          0.0          0.0     88.0   \n",
       "1     tt0166813   80000000.0  122563539.0     83.0   \n",
       "2     tt0243585  120000000.0  169956806.0     78.0   \n",
       "3     tt0265662   20000000.0   75597042.0    127.0   \n",
       "4     tt0271582          0.0    1347988.0     91.0   \n",
       "...         ...          ...          ...      ...   \n",
       "6423  tt4197006          0.0          0.0     70.0   \n",
       "6424  tt4209020          0.0          0.0     72.0   \n",
       "6425  tt4416878          0.0          0.0     51.0   \n",
       "6426  tt4473620          0.0          0.0     90.0   \n",
       "6427  tt4768794          0.0          0.0     81.0   \n",
       "\n",
       "                                 title  vote_average certification  \n",
       "0             The Princess and the Pea         7.100             G  \n",
       "1     Spirit: Stallion of the Cimarron         7.691             G  \n",
       "2                      Stuart Little 2         5.738             G  \n",
       "3                           The Rookie         6.719             G  \n",
       "4                               Joshua         6.500             G  \n",
       "...                                ...           ...           ...  \n",
       "6423                          The Sect         3.000             R  \n",
       "6424                 Here kitty kitty!         5.000             R  \n",
       "6425                      Lake Nowhere         6.000             R  \n",
       "6426                     Witching Hour        10.000             R  \n",
       "6427                     I Declare War         3.000             R  \n",
       "\n",
       "[6428 rows x 7 columns]"
      ]
     },
     "execution_count": 589,
     "metadata": {},
     "output_type": "execute_result"
    }
   ],
   "source": [
    "df = pd.concat([g_df,pg_df,pg_13_df,r_df], ignore_index=True)\n",
    "df"
   ]
  },
  {
   "cell_type": "code",
   "execution_count": 590,
   "id": "eb3eecb6",
   "metadata": {},
   "outputs": [],
   "source": [
    "df1 = df.copy() #a copy for question 3"
   ]
  },
  {
   "cell_type": "code",
   "execution_count": 591,
   "id": "f60d02ca",
   "metadata": {},
   "outputs": [
    {
     "data": {
      "text/plain": [
       "R        3510\n",
       "PG-13    1864\n",
       "PG        802\n",
       "G         252\n",
       "Name: certification, dtype: int64"
      ]
     },
     "execution_count": 591,
     "metadata": {},
     "output_type": "execute_result"
    }
   ],
   "source": [
    "df['certification'].value_counts()"
   ]
  },
  {
   "cell_type": "markdown",
   "id": "d7ed9c80",
   "metadata": {},
   "source": [
    "## Questions to Answer\n",
    "\n",
    "\n",
    "The stakeholder's first question is: does the MPAA rating of a movie (G/PG/PG-13/R) affect how much revenue the movie generates?"
   ]
  },
  {
   "cell_type": "markdown",
   "id": "1bae7e2b",
   "metadata": {},
   "source": [
    "Null Hypothesis:  Different MPAA Ratings all have the same revenues.\n",
    "\n",
    "Alternative Hypothesis: Different MPAA Ratings have different Revenues. \n",
    "\n",
    "Using an alpha=.05\n",
    "\n",
    "Going to perform the ANOVA test"
   ]
  },
  {
   "cell_type": "markdown",
   "id": "3d5ce780",
   "metadata": {},
   "source": [
    "## Testing Assumptions"
   ]
  },
  {
   "cell_type": "markdown",
   "id": "22c5f9ed",
   "metadata": {},
   "source": [
    "## Outliers"
   ]
  },
  {
   "cell_type": "code",
   "execution_count": 592,
   "id": "e76ef29b",
   "metadata": {},
   "outputs": [],
   "source": [
    "p = df.loc[ df['certification']=='P',\"revenue\"]\n",
    "pg = df.loc[ df['certification']=='PG',\"revenue\"]\n",
    "pg_13 = df.loc[ df['certification']=='PG-13',\"revenue\"]\n",
    "r = df.loc[ df['certification']=='R',\"revenue\"]"
   ]
  },
  {
   "cell_type": "code",
   "execution_count": 593,
   "id": "4cbe69b6",
   "metadata": {},
   "outputs": [
    {
     "data": {
      "text/plain": [
       "0"
      ]
     },
     "execution_count": 593,
     "metadata": {},
     "output_type": "execute_result"
    }
   ],
   "source": [
    "zscores_f = stats.zscore(p)\n",
    "outliers_p = abs(zscores_f)>3\n",
    "np.sum(outliers_p)"
   ]
  },
  {
   "cell_type": "markdown",
   "id": "eee5b2dd",
   "metadata": {},
   "source": [
    "Perfect, no outliers to remove."
   ]
  },
  {
   "cell_type": "code",
   "execution_count": 594,
   "id": "90123d89",
   "metadata": {},
   "outputs": [
    {
     "data": {
      "text/plain": [
       "27"
      ]
     },
     "execution_count": 594,
     "metadata": {},
     "output_type": "execute_result"
    }
   ],
   "source": [
    "zscores_f = stats.zscore(pg)\n",
    "outliers_pg = abs(zscores_f)>3\n",
    "np.sum(outliers_pg)"
   ]
  },
  {
   "cell_type": "code",
   "execution_count": 595,
   "id": "bb94590e",
   "metadata": {},
   "outputs": [
    {
     "data": {
      "text/plain": [
       "253     109578115.0\n",
       "254      38793283.0\n",
       "255        505675.0\n",
       "256     111127553.0\n",
       "257             0.0\n",
       "           ...     \n",
       "1049            0.0\n",
       "1050            0.0\n",
       "1051            0.0\n",
       "1052            0.0\n",
       "1053            0.0\n",
       "Name: revenue, Length: 775, dtype: float64"
      ]
     },
     "execution_count": 595,
     "metadata": {},
     "output_type": "execute_result"
    }
   ],
   "source": [
    "pg[~outliers_pg]"
   ]
  },
  {
   "cell_type": "code",
   "execution_count": 596,
   "id": "343f07ea",
   "metadata": {},
   "outputs": [],
   "source": [
    "pg = pg[~outliers_pg]"
   ]
  },
  {
   "cell_type": "code",
   "execution_count": 597,
   "id": "55f1e96e",
   "metadata": {},
   "outputs": [
    {
     "data": {
      "text/plain": [
       "52"
      ]
     },
     "execution_count": 597,
     "metadata": {},
     "output_type": "execute_result"
    }
   ],
   "source": [
    "zscores_f = stats.zscore(pg_13)\n",
    "outliers_pg_13 = abs(zscores_f)>3\n",
    "np.sum(outliers_pg_13)"
   ]
  },
  {
   "cell_type": "code",
   "execution_count": 598,
   "id": "f8bd7cd2",
   "metadata": {},
   "outputs": [
    {
     "data": {
      "text/plain": [
       "1054    445135288.0\n",
       "1056    193921372.0\n",
       "1058     10011050.0\n",
       "1059      7103973.0\n",
       "1060    358372926.0\n",
       "           ...     \n",
       "2913            0.0\n",
       "2914            0.0\n",
       "2915      1695006.0\n",
       "2916            0.0\n",
       "2917            0.0\n",
       "Name: revenue, Length: 1812, dtype: float64"
      ]
     },
     "execution_count": 598,
     "metadata": {},
     "output_type": "execute_result"
    }
   ],
   "source": [
    "pg_13[~outliers_pg_13]"
   ]
  },
  {
   "cell_type": "code",
   "execution_count": 599,
   "id": "23a78340",
   "metadata": {},
   "outputs": [],
   "source": [
    "pg_13 = pg_13[~outliers_pg_13]"
   ]
  },
  {
   "cell_type": "code",
   "execution_count": 600,
   "id": "a023af0b",
   "metadata": {},
   "outputs": [
    {
     "data": {
      "text/plain": [
       "82"
      ]
     },
     "execution_count": 600,
     "metadata": {},
     "output_type": "execute_result"
    }
   ],
   "source": [
    "zscores_f = stats.zscore(r)\n",
    "outliers_r = abs(zscores_f)>3\n",
    "np.sum(outliers_r)"
   ]
  },
  {
   "cell_type": "code",
   "execution_count": 601,
   "id": "faadad63",
   "metadata": {},
   "outputs": [
    {
     "data": {
      "text/plain": [
       "2918      5227348.0\n",
       "2919     56298474.0\n",
       "2920    102984862.0\n",
       "2921            0.0\n",
       "2922      6632383.0\n",
       "           ...     \n",
       "6423            0.0\n",
       "6424            0.0\n",
       "6425            0.0\n",
       "6426            0.0\n",
       "6427            0.0\n",
       "Name: revenue, Length: 3428, dtype: float64"
      ]
     },
     "execution_count": 601,
     "metadata": {},
     "output_type": "execute_result"
    }
   ],
   "source": [
    "r[~outliers_r]"
   ]
  },
  {
   "cell_type": "code",
   "execution_count": 602,
   "id": "0bf82746",
   "metadata": {},
   "outputs": [],
   "source": [
    "r = r[~outliers_r]"
   ]
  },
  {
   "cell_type": "markdown",
   "id": "cb6f5523",
   "metadata": {},
   "source": [
    "## Assumption of normality"
   ]
  },
  {
   "cell_type": "code",
   "execution_count": 603,
   "id": "c268800a",
   "metadata": {},
   "outputs": [
    {
     "data": {
      "text/plain": [
       "dict_keys(['G', 'PG', 'PG-13', 'R'])"
      ]
     },
     "execution_count": 603,
     "metadata": {},
     "output_type": "execute_result"
    }
   ],
   "source": [
    "## Create groups dictionary.\n",
    "groups = {}\n",
    "## Loop through all unique categories\n",
    "for i in df['certification'].unique():\n",
    "    ## Get series for group and rename\n",
    "    data = df.loc[df['certification']==i,'revenue'].copy()\n",
    "    \n",
    "    # save into the dictionary\n",
    "    groups[i] = data\n",
    "groups.keys()"
   ]
  },
  {
   "cell_type": "code",
   "execution_count": 604,
   "id": "a1ae2313",
   "metadata": {},
   "outputs": [
    {
     "data": {
      "text/html": [
       "<div>\n",
       "<style scoped>\n",
       "    .dataframe tbody tr th:only-of-type {\n",
       "        vertical-align: middle;\n",
       "    }\n",
       "\n",
       "    .dataframe tbody tr th {\n",
       "        vertical-align: top;\n",
       "    }\n",
       "\n",
       "    .dataframe thead th {\n",
       "        text-align: right;\n",
       "    }\n",
       "</style>\n",
       "<table border=\"1\" class=\"dataframe\">\n",
       "  <thead>\n",
       "    <tr style=\"text-align: right;\">\n",
       "      <th></th>\n",
       "      <th>n</th>\n",
       "      <th>p</th>\n",
       "      <th>test stat</th>\n",
       "    </tr>\n",
       "  </thead>\n",
       "  <tbody>\n",
       "    <tr>\n",
       "      <th>G</th>\n",
       "      <td>252.0</td>\n",
       "      <td>4.894786e-61</td>\n",
       "      <td>277.739040</td>\n",
       "    </tr>\n",
       "    <tr>\n",
       "      <th>PG</th>\n",
       "      <td>802.0</td>\n",
       "      <td>2.583671e-134</td>\n",
       "      <td>615.194382</td>\n",
       "    </tr>\n",
       "    <tr>\n",
       "      <th>PG-13</th>\n",
       "      <td>1864.0</td>\n",
       "      <td>0.000000e+00</td>\n",
       "      <td>2067.031888</td>\n",
       "    </tr>\n",
       "    <tr>\n",
       "      <th>R</th>\n",
       "      <td>3510.0</td>\n",
       "      <td>0.000000e+00</td>\n",
       "      <td>3927.693039</td>\n",
       "    </tr>\n",
       "  </tbody>\n",
       "</table>\n",
       "</div>"
      ],
      "text/plain": [
       "            n              p    test stat\n",
       "G       252.0   4.894786e-61   277.739040\n",
       "PG      802.0  2.583671e-134   615.194382\n",
       "PG-13  1864.0   0.000000e+00  2067.031888\n",
       "R      3510.0   0.000000e+00  3927.693039"
      ]
     },
     "execution_count": 604,
     "metadata": {},
     "output_type": "execute_result"
    }
   ],
   "source": [
    "## Running normal test on each group and confirming there are >20 in each group\n",
    "norm_results = {}\n",
    "for i, data in groups.items():\n",
    "    stat, p = stats.normaltest(data)\n",
    "    ## save the p val, test statistic, and the size of the group\n",
    "    norm_results[i] = {'n': len(data),\n",
    "                             'p':p,\n",
    "                             'test stat':stat,}\n",
    "## convert to a dataframe\n",
    "norm_results_df = pd.DataFrame(norm_results).T\n",
    "norm_results_df"
   ]
  },
  {
   "cell_type": "code",
   "execution_count": 605,
   "id": "e794e896",
   "metadata": {},
   "outputs": [
    {
     "data": {
      "text/html": [
       "<div>\n",
       "<style scoped>\n",
       "    .dataframe tbody tr th:only-of-type {\n",
       "        vertical-align: middle;\n",
       "    }\n",
       "\n",
       "    .dataframe tbody tr th {\n",
       "        vertical-align: top;\n",
       "    }\n",
       "\n",
       "    .dataframe thead th {\n",
       "        text-align: right;\n",
       "    }\n",
       "</style>\n",
       "<table border=\"1\" class=\"dataframe\">\n",
       "  <thead>\n",
       "    <tr style=\"text-align: right;\">\n",
       "      <th></th>\n",
       "      <th>n</th>\n",
       "      <th>p</th>\n",
       "      <th>test stat</th>\n",
       "      <th>sig</th>\n",
       "    </tr>\n",
       "  </thead>\n",
       "  <tbody>\n",
       "    <tr>\n",
       "      <th>G</th>\n",
       "      <td>252.0</td>\n",
       "      <td>4.894786e-61</td>\n",
       "      <td>277.739040</td>\n",
       "      <td>True</td>\n",
       "    </tr>\n",
       "    <tr>\n",
       "      <th>PG</th>\n",
       "      <td>802.0</td>\n",
       "      <td>2.583671e-134</td>\n",
       "      <td>615.194382</td>\n",
       "      <td>True</td>\n",
       "    </tr>\n",
       "    <tr>\n",
       "      <th>PG-13</th>\n",
       "      <td>1864.0</td>\n",
       "      <td>0.000000e+00</td>\n",
       "      <td>2067.031888</td>\n",
       "      <td>True</td>\n",
       "    </tr>\n",
       "    <tr>\n",
       "      <th>R</th>\n",
       "      <td>3510.0</td>\n",
       "      <td>0.000000e+00</td>\n",
       "      <td>3927.693039</td>\n",
       "      <td>True</td>\n",
       "    </tr>\n",
       "  </tbody>\n",
       "</table>\n",
       "</div>"
      ],
      "text/plain": [
       "            n              p    test stat   sig\n",
       "G       252.0   4.894786e-61   277.739040  True\n",
       "PG      802.0  2.583671e-134   615.194382  True\n",
       "PG-13  1864.0   0.000000e+00  2067.031888  True\n",
       "R      3510.0   0.000000e+00  3927.693039  True"
      ]
     },
     "execution_count": 605,
     "metadata": {},
     "output_type": "execute_result"
    }
   ],
   "source": [
    "### checking sig with pandas \n",
    "norm_results_df['sig'] = norm_results_df['p'] < .05 \n",
    "norm_results_df"
   ]
  },
  {
   "cell_type": "markdown",
   "id": "9d87b5c0",
   "metadata": {},
   "source": [
    "#### The data is not normally distributed but because of our data size we can safely ignore this."
   ]
  },
  {
   "cell_type": "markdown",
   "id": "9c526cba",
   "metadata": {},
   "source": [
    "## Test Assumption of Equal Variance"
   ]
  },
  {
   "cell_type": "code",
   "execution_count": 606,
   "id": "ff48b59b",
   "metadata": {},
   "outputs": [
    {
     "data": {
      "text/plain": [
       "LeveneResult(statistic=103.52523004815562, pvalue=1.8971317837887724e-65)"
      ]
     },
     "execution_count": 606,
     "metadata": {},
     "output_type": "execute_result"
    }
   ],
   "source": [
    "# with the * operator \n",
    "stats.levene(*groups.values())\n",
    "# not using * operator, entering each group manually\n",
    "#stats.levene(groups[p],\n",
    "           # groups[pg],\n",
    "           # groups[pg_13]\n",
    "           # groups[r])"
   ]
  },
  {
   "cell_type": "markdown",
   "id": "e283e0bc",
   "metadata": {},
   "source": [
    "Our P value is less then our alpha of .05.  I reject the null hypothesis.  There is significant difference between our groups."
   ]
  },
  {
   "cell_type": "code",
   "execution_count": 607,
   "id": "962fecea",
   "metadata": {},
   "outputs": [
    {
     "data": {
      "text/plain": [
       "F_onewayResult(statistic=103.19011944196846, pvalue=3.0597325071304903e-65)"
      ]
     },
     "execution_count": 607,
     "metadata": {},
     "output_type": "execute_result"
    }
   ],
   "source": [
    "# perform the correct hypothesis test\n",
    "# note again the use of the * operator for convenience\n",
    "result = stats.f_oneway( *groups.values())\n",
    "result"
   ]
  },
  {
   "cell_type": "markdown",
   "id": "d3a50bfd",
   "metadata": {},
   "source": [
    "Significant result, with such a low p value we know there are differences between our groups revenue, now to find out which groups are different."
   ]
  },
  {
   "cell_type": "markdown",
   "id": "41bac4df",
   "metadata": {},
   "source": [
    "## Post-hoc multiple comparison tests"
   ]
  },
  {
   "cell_type": "code",
   "execution_count": 608,
   "id": "b29443b5",
   "metadata": {},
   "outputs": [],
   "source": [
    "from statsmodels.stats.multicomp import pairwise_tukeyhsd\n",
    "## save the values as revenue and the labels to the certification\n",
    "values = df['revenue']\n",
    "labels = df['certification']"
   ]
  },
  {
   "cell_type": "code",
   "execution_count": 609,
   "id": "668eaa67",
   "metadata": {},
   "outputs": [
    {
     "data": {
      "text/html": [
       "<table class=\"simpletable\">\n",
       "<caption>Multiple Comparison of Means - Tukey HSD, FWER=0.05</caption>\n",
       "<tr>\n",
       "  <th>group1</th> <th>group2</th>    <th>meandiff</th>     <th>p-adj</th>      <th>lower</th>          <th>upper</th>     <th>reject</th>\n",
       "</tr>\n",
       "<tr>\n",
       "     <td>G</td>     <td>PG</td>    <td>25692793.9513</td> <td>0.0143</td>  <td>3701996.9562</td>   <td>47683590.9463</td>  <td>True</td> \n",
       "</tr>\n",
       "<tr>\n",
       "     <td>G</td>    <td>PG-13</td>  <td>26792458.1475</td> <td>0.0042</td>  <td>6354254.3288</td>   <td>47230661.9663</td>  <td>True</td> \n",
       "</tr>\n",
       "<tr>\n",
       "     <td>G</td>      <td>R</td>   <td>-27074922.9739</td> <td>0.0026</td> <td>-46934211.5001</td>  <td>-7215634.4477</td>  <td>True</td> \n",
       "</tr>\n",
       "<tr>\n",
       "    <td>PG</td>    <td>PG-13</td>  <td>1099664.1963</td>  <td>0.9963</td> <td>-11759953.3604</td>  <td>13959281.7529</td>  <td>False</td>\n",
       "</tr>\n",
       "<tr>\n",
       "    <td>PG</td>      <td>R</td>   <td>-52767716.9252</td>  <td>-0.0</td>  <td>-64685809.4375</td> <td>-40849624.4128</td>  <td>True</td> \n",
       "</tr>\n",
       "<tr>\n",
       "   <td>PG-13</td>    <td>R</td>   <td>-53867381.1214</td>  <td>-0.0</td>   <td>-62594691.818</td> <td>-45140070.4249</td>  <td>True</td> \n",
       "</tr>\n",
       "</table>"
      ],
      "text/plain": [
       "<class 'statsmodels.iolib.table.SimpleTable'>"
      ]
     },
     "execution_count": 609,
     "metadata": {},
     "output_type": "execute_result"
    }
   ],
   "source": [
    "## perform tukey's multiple comparison test and display the summary\n",
    "tukeys_results = pairwise_tukeyhsd(values,labels)\n",
    "tukeys_results.summary()"
   ]
  },
  {
   "cell_type": "markdown",
   "id": "d87c031c",
   "metadata": {},
   "source": [
    "5 significant differences, all our groups are different in terms of revenue except for PG and PG-13."
   ]
  },
  {
   "cell_type": "code",
   "execution_count": 610,
   "id": "f015da1e",
   "metadata": {},
   "outputs": [
    {
     "data": {
      "image/png": "[encoded data removed]",
      "text/plain": [
       "<Figure size 432x288 with 1 Axes>"
      ]
     },
     "metadata": {
      "needs_background": "light"
     },
     "output_type": "display_data"
    }
   ],
   "source": [
    "sns.barplot(data=df, x='certification', y= 'revenue')\n",
    "plt.xticks(rotation = 45)\n",
    "plt.title('Average Revenue By MPAA')\n",
    "plt.xlabel('MPAA Rating')\n",
    "plt.ylabel('Revenue');"
   ]
  },
  {
   "cell_type": "markdown",
   "id": "bc88a33c",
   "metadata": {},
   "source": [
    "Here we see that movies rated PG and PG-13 attain the highest amount of revenue and we have statistically backed that up with the ANOVA test."
   ]
  },
  {
   "cell_type": "markdown",
   "id": "02244610",
   "metadata": {},
   "source": [
    "### To answer the stackholders question we reject the null hypothesis as we see there is a significant difference in revenue based on a movies MPAA rating."
   ]
  },
  {
   "cell_type": "markdown",
   "id": "aa661475",
   "metadata": {},
   "source": [
    "## Question 2\n",
    "Does movie runtime affect revenue?\n",
    "\n",
    "Null Hypothesis:  Runtime has no effect on a movies revenue.\n",
    "\n",
    "Alternative Hypothesis: Runtime has a significant effect on movies revenue.\n",
    "\n",
    "Using an alpha=.05\n",
    "\n",
    "Going to perform a t test."
   ]
  },
  {
   "cell_type": "code",
   "execution_count": 611,
   "id": "763e2725",
   "metadata": {},
   "outputs": [
    {
     "data": {
      "text/html": [
       "<div>\n",
       "<style scoped>\n",
       "    .dataframe tbody tr th:only-of-type {\n",
       "        vertical-align: middle;\n",
       "    }\n",
       "\n",
       "    .dataframe tbody tr th {\n",
       "        vertical-align: top;\n",
       "    }\n",
       "\n",
       "    .dataframe thead th {\n",
       "        text-align: right;\n",
       "    }\n",
       "</style>\n",
       "<table border=\"1\" class=\"dataframe\">\n",
       "  <thead>\n",
       "    <tr style=\"text-align: right;\">\n",
       "      <th></th>\n",
       "      <th>imdb_id</th>\n",
       "      <th>budget</th>\n",
       "      <th>revenue</th>\n",
       "      <th>runtime</th>\n",
       "      <th>title</th>\n",
       "      <th>vote_average</th>\n",
       "      <th>certification</th>\n",
       "    </tr>\n",
       "  </thead>\n",
       "  <tbody>\n",
       "    <tr>\n",
       "      <th>0</th>\n",
       "      <td>tt0096056</td>\n",
       "      <td>0.0</td>\n",
       "      <td>0.0</td>\n",
       "      <td>126.0</td>\n",
       "      <td>Crime and Punishment</td>\n",
       "      <td>5.500</td>\n",
       "      <td>NaN</td>\n",
       "    </tr>\n",
       "    <tr>\n",
       "      <th>1</th>\n",
       "      <td>tt0118926</td>\n",
       "      <td>0.0</td>\n",
       "      <td>5227348.0</td>\n",
       "      <td>132.0</td>\n",
       "      <td>The Dancer Upstairs</td>\n",
       "      <td>6.294</td>\n",
       "      <td>R</td>\n",
       "    </tr>\n",
       "    <tr>\n",
       "      <th>2</th>\n",
       "      <td>tt0119980</td>\n",
       "      <td>0.0</td>\n",
       "      <td>0.0</td>\n",
       "      <td>91.0</td>\n",
       "      <td>Random Shooting in LA</td>\n",
       "      <td>0.000</td>\n",
       "      <td>NaN</td>\n",
       "    </tr>\n",
       "    <tr>\n",
       "      <th>3</th>\n",
       "      <td>tt0120679</td>\n",
       "      <td>12000000.0</td>\n",
       "      <td>56298474.0</td>\n",
       "      <td>123.0</td>\n",
       "      <td>Frida</td>\n",
       "      <td>7.455</td>\n",
       "      <td>R</td>\n",
       "    </tr>\n",
       "    <tr>\n",
       "      <th>4</th>\n",
       "      <td>tt0120804</td>\n",
       "      <td>33000000.0</td>\n",
       "      <td>102984862.0</td>\n",
       "      <td>100.0</td>\n",
       "      <td>Resident Evil</td>\n",
       "      <td>6.602</td>\n",
       "      <td>R</td>\n",
       "    </tr>\n",
       "  </tbody>\n",
       "</table>\n",
       "</div>"
      ],
      "text/plain": [
       "     imdb_id      budget      revenue  runtime                  title  \\\n",
       "0  tt0096056         0.0          0.0    126.0   Crime and Punishment   \n",
       "1  tt0118926         0.0    5227348.0    132.0    The Dancer Upstairs   \n",
       "2  tt0119980         0.0          0.0     91.0  Random Shooting in LA   \n",
       "3  tt0120679  12000000.0   56298474.0    123.0                  Frida   \n",
       "4  tt0120804  33000000.0  102984862.0    100.0          Resident Evil   \n",
       "\n",
       "   vote_average certification  \n",
       "0         5.500           NaN  \n",
       "1         6.294             R  \n",
       "2         0.000           NaN  \n",
       "3         7.455             R  \n",
       "4         6.602             R  "
      ]
     },
     "execution_count": 611,
     "metadata": {},
     "output_type": "execute_result"
    }
   ],
   "source": [
    "df = pd.read_csv('Data/df_2002-2014_no_2007.csv.gz', low_memory=False)\n",
    "df.head()"
   ]
  },
  {
   "cell_type": "code",
   "execution_count": 612,
   "id": "a57339f0",
   "metadata": {},
   "outputs": [],
   "source": [
    "# remove unwanted columns\n",
    "df = df.drop(columns = ['budget', 'vote_average','certification'])"
   ]
  },
  {
   "cell_type": "markdown",
   "id": "9447fab3",
   "metadata": {},
   "source": [
    "## Going to split this into two groups using the median of the runtime column.\n",
    "\n",
    "First I'm going to get all the movies that have an listed revenue."
   ]
  },
  {
   "cell_type": "code",
   "execution_count": 613,
   "id": "8afaecbd",
   "metadata": {},
   "outputs": [],
   "source": [
    "rev_filter = df['revenue'] > 0"
   ]
  },
  {
   "cell_type": "code",
   "execution_count": 614,
   "id": "848a1f62",
   "metadata": {},
   "outputs": [
    {
     "data": {
      "text/html": [
       "<div>\n",
       "<style scoped>\n",
       "    .dataframe tbody tr th:only-of-type {\n",
       "        vertical-align: middle;\n",
       "    }\n",
       "\n",
       "    .dataframe tbody tr th {\n",
       "        vertical-align: top;\n",
       "    }\n",
       "\n",
       "    .dataframe thead th {\n",
       "        text-align: right;\n",
       "    }\n",
       "</style>\n",
       "<table border=\"1\" class=\"dataframe\">\n",
       "  <thead>\n",
       "    <tr style=\"text-align: right;\">\n",
       "      <th></th>\n",
       "      <th>imdb_id</th>\n",
       "      <th>revenue</th>\n",
       "      <th>runtime</th>\n",
       "      <th>title</th>\n",
       "    </tr>\n",
       "  </thead>\n",
       "  <tbody>\n",
       "    <tr>\n",
       "      <th>1</th>\n",
       "      <td>tt0118926</td>\n",
       "      <td>5227348.0</td>\n",
       "      <td>132.0</td>\n",
       "      <td>The Dancer Upstairs</td>\n",
       "    </tr>\n",
       "    <tr>\n",
       "      <th>3</th>\n",
       "      <td>tt0120679</td>\n",
       "      <td>56298474.0</td>\n",
       "      <td>123.0</td>\n",
       "      <td>Frida</td>\n",
       "    </tr>\n",
       "    <tr>\n",
       "      <th>4</th>\n",
       "      <td>tt0120804</td>\n",
       "      <td>102984862.0</td>\n",
       "      <td>100.0</td>\n",
       "      <td>Resident Evil</td>\n",
       "    </tr>\n",
       "    <tr>\n",
       "      <th>5</th>\n",
       "      <td>tt0120912</td>\n",
       "      <td>445135288.0</td>\n",
       "      <td>88.0</td>\n",
       "      <td>Men in Black II</td>\n",
       "    </tr>\n",
       "    <tr>\n",
       "      <th>6</th>\n",
       "      <td>tt0121765</td>\n",
       "      <td>649398328.0</td>\n",
       "      <td>142.0</td>\n",
       "      <td>Star Wars: Episode II - Attack of the Clones</td>\n",
       "    </tr>\n",
       "    <tr>\n",
       "      <th>...</th>\n",
       "      <td>...</td>\n",
       "      <td>...</td>\n",
       "      <td>...</td>\n",
       "      <td>...</td>\n",
       "    </tr>\n",
       "    <tr>\n",
       "      <th>44744</th>\n",
       "      <td>tt5232522</td>\n",
       "      <td>1958955.0</td>\n",
       "      <td>119.0</td>\n",
       "      <td>Dandelion</td>\n",
       "    </tr>\n",
       "    <tr>\n",
       "      <th>44758</th>\n",
       "      <td>tt5311228</td>\n",
       "      <td>9185.0</td>\n",
       "      <td>86.0</td>\n",
       "      <td>Smiley</td>\n",
       "    </tr>\n",
       "    <tr>\n",
       "      <th>44761</th>\n",
       "      <td>tt5320892</td>\n",
       "      <td>296000.0</td>\n",
       "      <td>80.0</td>\n",
       "      <td>Pat &amp; Mat in a Movie</td>\n",
       "    </tr>\n",
       "    <tr>\n",
       "      <th>44770</th>\n",
       "      <td>tt5364756</td>\n",
       "      <td>1.0</td>\n",
       "      <td>96.0</td>\n",
       "      <td>Broadcasting Girl</td>\n",
       "    </tr>\n",
       "    <tr>\n",
       "      <th>44921</th>\n",
       "      <td>tt9085782</td>\n",
       "      <td>6293794.0</td>\n",
       "      <td>173.0</td>\n",
       "      <td>Power</td>\n",
       "    </tr>\n",
       "  </tbody>\n",
       "</table>\n",
       "<p>4873 rows × 4 columns</p>\n",
       "</div>"
      ],
      "text/plain": [
       "         imdb_id      revenue  runtime  \\\n",
       "1      tt0118926    5227348.0    132.0   \n",
       "3      tt0120679   56298474.0    123.0   \n",
       "4      tt0120804  102984862.0    100.0   \n",
       "5      tt0120912  445135288.0     88.0   \n",
       "6      tt0121765  649398328.0    142.0   \n",
       "...          ...          ...      ...   \n",
       "44744  tt5232522    1958955.0    119.0   \n",
       "44758  tt5311228       9185.0     86.0   \n",
       "44761  tt5320892     296000.0     80.0   \n",
       "44770  tt5364756          1.0     96.0   \n",
       "44921  tt9085782    6293794.0    173.0   \n",
       "\n",
       "                                              title  \n",
       "1                               The Dancer Upstairs  \n",
       "3                                             Frida  \n",
       "4                                     Resident Evil  \n",
       "5                                   Men in Black II  \n",
       "6      Star Wars: Episode II - Attack of the Clones  \n",
       "...                                             ...  \n",
       "44744                                     Dandelion  \n",
       "44758                                        Smiley  \n",
       "44761                          Pat & Mat in a Movie  \n",
       "44770                             Broadcasting Girl  \n",
       "44921                                         Power  \n",
       "\n",
       "[4873 rows x 4 columns]"
      ]
     },
     "execution_count": 614,
     "metadata": {},
     "output_type": "execute_result"
    }
   ],
   "source": [
    "rev_df = df[rev_filter]\n",
    "rev_df"
   ]
  },
  {
   "cell_type": "code",
   "execution_count": 615,
   "id": "a777b5d0",
   "metadata": {},
   "outputs": [
    {
     "data": {
      "text/plain": [
       "103.0"
      ]
     },
     "execution_count": 615,
     "metadata": {},
     "output_type": "execute_result"
    }
   ],
   "source": [
    "rev_df['runtime'].median()"
   ]
  },
  {
   "cell_type": "markdown",
   "id": "a39a202a",
   "metadata": {},
   "source": [
    "Now I'm splitting the data by the median."
   ]
  },
  {
   "cell_type": "code",
   "execution_count": 616,
   "id": "b353c626",
   "metadata": {},
   "outputs": [
    {
     "data": {
      "text/plain": [
       "True     2439\n",
       "False    2434\n",
       "Name: runtime, dtype: int64"
      ]
     },
     "execution_count": 616,
     "metadata": {},
     "output_type": "execute_result"
    }
   ],
   "source": [
    "high_run_filter = rev_df['runtime'] >= 103\n",
    "high_run_filter.value_counts()"
   ]
  },
  {
   "cell_type": "code",
   "execution_count": 617,
   "id": "026bf90f",
   "metadata": {},
   "outputs": [
    {
     "data": {
      "text/html": [
       "<div>\n",
       "<style scoped>\n",
       "    .dataframe tbody tr th:only-of-type {\n",
       "        vertical-align: middle;\n",
       "    }\n",
       "\n",
       "    .dataframe tbody tr th {\n",
       "        vertical-align: top;\n",
       "    }\n",
       "\n",
       "    .dataframe thead th {\n",
       "        text-align: right;\n",
       "    }\n",
       "</style>\n",
       "<table border=\"1\" class=\"dataframe\">\n",
       "  <thead>\n",
       "    <tr style=\"text-align: right;\">\n",
       "      <th></th>\n",
       "      <th>imdb_id</th>\n",
       "      <th>revenue</th>\n",
       "      <th>runtime</th>\n",
       "      <th>title</th>\n",
       "    </tr>\n",
       "  </thead>\n",
       "  <tbody>\n",
       "    <tr>\n",
       "      <th>1</th>\n",
       "      <td>tt0118926</td>\n",
       "      <td>5227348.0</td>\n",
       "      <td>132.0</td>\n",
       "      <td>The Dancer Upstairs</td>\n",
       "    </tr>\n",
       "    <tr>\n",
       "      <th>3</th>\n",
       "      <td>tt0120679</td>\n",
       "      <td>56298474.0</td>\n",
       "      <td>123.0</td>\n",
       "      <td>Frida</td>\n",
       "    </tr>\n",
       "    <tr>\n",
       "      <th>6</th>\n",
       "      <td>tt0121765</td>\n",
       "      <td>649398328.0</td>\n",
       "      <td>142.0</td>\n",
       "      <td>Star Wars: Episode II - Attack of the Clones</td>\n",
       "    </tr>\n",
       "    <tr>\n",
       "      <th>9</th>\n",
       "      <td>tt0145487</td>\n",
       "      <td>821708551.0</td>\n",
       "      <td>121.0</td>\n",
       "      <td>Spider-Man</td>\n",
       "    </tr>\n",
       "    <tr>\n",
       "      <th>23</th>\n",
       "      <td>tt0164184</td>\n",
       "      <td>193921372.0</td>\n",
       "      <td>124.0</td>\n",
       "      <td>The Sum of All Fears</td>\n",
       "    </tr>\n",
       "    <tr>\n",
       "      <th>...</th>\n",
       "      <td>...</td>\n",
       "      <td>...</td>\n",
       "      <td>...</td>\n",
       "      <td>...</td>\n",
       "    </tr>\n",
       "    <tr>\n",
       "      <th>44507</th>\n",
       "      <td>tt4345774</td>\n",
       "      <td>25000.0</td>\n",
       "      <td>120.0</td>\n",
       "      <td>The Lies We Tell But the Secrets We Keep Part 3</td>\n",
       "    </tr>\n",
       "    <tr>\n",
       "      <th>44550</th>\n",
       "      <td>tt4443924</td>\n",
       "      <td>590000.0</td>\n",
       "      <td>130.0</td>\n",
       "      <td>Happy Journey</td>\n",
       "    </tr>\n",
       "    <tr>\n",
       "      <th>44661</th>\n",
       "      <td>tt4773112</td>\n",
       "      <td>910000.0</td>\n",
       "      <td>160.0</td>\n",
       "      <td>Bindaas</td>\n",
       "    </tr>\n",
       "    <tr>\n",
       "      <th>44744</th>\n",
       "      <td>tt5232522</td>\n",
       "      <td>1958955.0</td>\n",
       "      <td>119.0</td>\n",
       "      <td>Dandelion</td>\n",
       "    </tr>\n",
       "    <tr>\n",
       "      <th>44921</th>\n",
       "      <td>tt9085782</td>\n",
       "      <td>6293794.0</td>\n",
       "      <td>173.0</td>\n",
       "      <td>Power</td>\n",
       "    </tr>\n",
       "  </tbody>\n",
       "</table>\n",
       "<p>2439 rows × 4 columns</p>\n",
       "</div>"
      ],
      "text/plain": [
       "         imdb_id      revenue  runtime  \\\n",
       "1      tt0118926    5227348.0    132.0   \n",
       "3      tt0120679   56298474.0    123.0   \n",
       "6      tt0121765  649398328.0    142.0   \n",
       "9      tt0145487  821708551.0    121.0   \n",
       "23     tt0164184  193921372.0    124.0   \n",
       "...          ...          ...      ...   \n",
       "44507  tt4345774      25000.0    120.0   \n",
       "44550  tt4443924     590000.0    130.0   \n",
       "44661  tt4773112     910000.0    160.0   \n",
       "44744  tt5232522    1958955.0    119.0   \n",
       "44921  tt9085782    6293794.0    173.0   \n",
       "\n",
       "                                                 title  \n",
       "1                                  The Dancer Upstairs  \n",
       "3                                                Frida  \n",
       "6         Star Wars: Episode II - Attack of the Clones  \n",
       "9                                           Spider-Man  \n",
       "23                                The Sum of All Fears  \n",
       "...                                                ...  \n",
       "44507  The Lies We Tell But the Secrets We Keep Part 3  \n",
       "44550                                    Happy Journey  \n",
       "44661                                          Bindaas  \n",
       "44744                                        Dandelion  \n",
       "44921                                            Power  \n",
       "\n",
       "[2439 rows x 4 columns]"
      ]
     },
     "execution_count": 617,
     "metadata": {},
     "output_type": "execute_result"
    }
   ],
   "source": [
    "high_run_df = rev_df[high_run_filter]\n",
    "high_run_df"
   ]
  },
  {
   "cell_type": "code",
   "execution_count": 618,
   "id": "4522ba19",
   "metadata": {},
   "outputs": [
    {
     "data": {
      "text/html": [
       "<div>\n",
       "<style scoped>\n",
       "    .dataframe tbody tr th:only-of-type {\n",
       "        vertical-align: middle;\n",
       "    }\n",
       "\n",
       "    .dataframe tbody tr th {\n",
       "        vertical-align: top;\n",
       "    }\n",
       "\n",
       "    .dataframe thead th {\n",
       "        text-align: right;\n",
       "    }\n",
       "</style>\n",
       "<table border=\"1\" class=\"dataframe\">\n",
       "  <thead>\n",
       "    <tr style=\"text-align: right;\">\n",
       "      <th></th>\n",
       "      <th>imdb_id</th>\n",
       "      <th>revenue</th>\n",
       "      <th>runtime</th>\n",
       "      <th>title</th>\n",
       "    </tr>\n",
       "  </thead>\n",
       "  <tbody>\n",
       "    <tr>\n",
       "      <th>4</th>\n",
       "      <td>tt0120804</td>\n",
       "      <td>102984862.0</td>\n",
       "      <td>100.0</td>\n",
       "      <td>Resident Evil</td>\n",
       "    </tr>\n",
       "    <tr>\n",
       "      <th>5</th>\n",
       "      <td>tt0120912</td>\n",
       "      <td>445135288.0</td>\n",
       "      <td>88.0</td>\n",
       "      <td>Men in Black II</td>\n",
       "    </tr>\n",
       "    <tr>\n",
       "      <th>8</th>\n",
       "      <td>tt0133240</td>\n",
       "      <td>109578115.0</td>\n",
       "      <td>95.0</td>\n",
       "      <td>Treasure Planet</td>\n",
       "    </tr>\n",
       "    <tr>\n",
       "      <th>14</th>\n",
       "      <td>tt0157472</td>\n",
       "      <td>38793283.0</td>\n",
       "      <td>94.0</td>\n",
       "      <td>Clockstoppers</td>\n",
       "    </tr>\n",
       "    <tr>\n",
       "      <th>15</th>\n",
       "      <td>tt0160184</td>\n",
       "      <td>6632383.0</td>\n",
       "      <td>96.0</td>\n",
       "      <td>D-Tox</td>\n",
       "    </tr>\n",
       "    <tr>\n",
       "      <th>...</th>\n",
       "      <td>...</td>\n",
       "      <td>...</td>\n",
       "      <td>...</td>\n",
       "      <td>...</td>\n",
       "    </tr>\n",
       "    <tr>\n",
       "      <th>44652</th>\n",
       "      <td>tt4727514</td>\n",
       "      <td>27.0</td>\n",
       "      <td>90.0</td>\n",
       "      <td>The Last Avatar</td>\n",
       "    </tr>\n",
       "    <tr>\n",
       "      <th>44666</th>\n",
       "      <td>tt4799538</td>\n",
       "      <td>4240000.0</td>\n",
       "      <td>99.0</td>\n",
       "      <td>Night of Adventure</td>\n",
       "    </tr>\n",
       "    <tr>\n",
       "      <th>44758</th>\n",
       "      <td>tt5311228</td>\n",
       "      <td>9185.0</td>\n",
       "      <td>86.0</td>\n",
       "      <td>Smiley</td>\n",
       "    </tr>\n",
       "    <tr>\n",
       "      <th>44761</th>\n",
       "      <td>tt5320892</td>\n",
       "      <td>296000.0</td>\n",
       "      <td>80.0</td>\n",
       "      <td>Pat &amp; Mat in a Movie</td>\n",
       "    </tr>\n",
       "    <tr>\n",
       "      <th>44770</th>\n",
       "      <td>tt5364756</td>\n",
       "      <td>1.0</td>\n",
       "      <td>96.0</td>\n",
       "      <td>Broadcasting Girl</td>\n",
       "    </tr>\n",
       "  </tbody>\n",
       "</table>\n",
       "<p>2434 rows × 4 columns</p>\n",
       "</div>"
      ],
      "text/plain": [
       "         imdb_id      revenue  runtime                 title\n",
       "4      tt0120804  102984862.0    100.0         Resident Evil\n",
       "5      tt0120912  445135288.0     88.0       Men in Black II\n",
       "8      tt0133240  109578115.0     95.0       Treasure Planet\n",
       "14     tt0157472   38793283.0     94.0         Clockstoppers\n",
       "15     tt0160184    6632383.0     96.0                 D-Tox\n",
       "...          ...          ...      ...                   ...\n",
       "44652  tt4727514         27.0     90.0       The Last Avatar\n",
       "44666  tt4799538    4240000.0     99.0    Night of Adventure\n",
       "44758  tt5311228       9185.0     86.0                Smiley\n",
       "44761  tt5320892     296000.0     80.0  Pat & Mat in a Movie\n",
       "44770  tt5364756          1.0     96.0     Broadcasting Girl\n",
       "\n",
       "[2434 rows x 4 columns]"
      ]
     },
     "execution_count": 618,
     "metadata": {},
     "output_type": "execute_result"
    }
   ],
   "source": [
    "low_run_df = rev_df[~high_run_filter]\n",
    "low_run_df"
   ]
  },
  {
   "cell_type": "code",
   "execution_count": 619,
   "id": "120146db",
   "metadata": {},
   "outputs": [
    {
     "data": {
      "image/png": "[encoded data removed]",
      "text/plain": [
       "<Figure size 1080x432 with 1 Axes>"
      ]
     },
     "metadata": {
      "needs_background": "light"
     },
     "output_type": "display_data"
    }
   ],
   "source": [
    "data = rev_df['runtime'].copy()\n",
    "mean = np.mean(data)\n",
    "med = np.median(data)\n",
    "## Make figure and plot histogram\n",
    "fig, ax = plt.subplots(figsize=(15,6))\n",
    "sns.histplot(x=data, kde=True, ax=ax, stat='density')\n",
    "ax.set_title('Overall Distribution of Movie Runtimes')\n",
    "## Annotate mean and median\n",
    "ax.axvline(mean,ls=':', color='black', lw=3, label =f\"Mean: {mean:.2f}\")\n",
    "ax.axvline(med,ls='--', color='green', lw=3, label =f\"Median: {med:.2f}\")\n",
    "ax.legend();"
   ]
  },
  {
   "cell_type": "code",
   "execution_count": 620,
   "id": "a36cf466",
   "metadata": {},
   "outputs": [
    {
     "data": {
      "image/png": "[encoded data removed]",
      "text/plain": [
       "<Figure size 1080x432 with 1 Axes>"
      ]
     },
     "metadata": {
      "needs_background": "light"
     },
     "output_type": "display_data"
    }
   ],
   "source": [
    "## Slice out data and calc stats\n",
    "data = high_run_df['runtime'].copy()\n",
    "mean = np.mean(data)\n",
    "med = np.median(data)\n",
    "## Make figure and plot histogram\n",
    "fig, ax = plt.subplots(figsize=(15,6))\n",
    "sns.histplot(x=data, kde=True, ax=ax, stat='density')\n",
    "ax.set_title('Distribution of High Movie Runtimes')\n",
    "## Annotate mean and median\n",
    "ax.axvline(mean,ls=':', color='black', lw=3, label =f\"Mean: {mean:.2f}\")\n",
    "ax.axvline(med,ls='--', color='green', lw=3, label =f\"Median: {med:.2f}\")\n",
    "ax.legend();"
   ]
  },
  {
   "cell_type": "code",
   "execution_count": 621,
   "id": "167a4a1d",
   "metadata": {},
   "outputs": [
    {
     "data": {
      "image/png": "[encoded data removed]",
      "text/plain": [
       "<Figure size 1080x432 with 1 Axes>"
      ]
     },
     "metadata": {
      "needs_background": "light"
     },
     "output_type": "display_data"
    }
   ],
   "source": [
    "data = low_run_df['runtime'].copy()\n",
    "mean = np.mean(data)\n",
    "med = np.median(data)\n",
    "## Make figure and plot histogram\n",
    "fig, ax = plt.subplots(figsize=(15,6))\n",
    "sns.histplot(x=data, kde=True, ax=ax, stat='density')\n",
    "ax.set_title('Distribution of Low Movie Runtimes')\n",
    "## Annotate mean and median\n",
    "ax.axvline(mean,ls=':', color='black', lw=3, label =f\"Mean: {mean:.2f}\")\n",
    "ax.axvline(med,ls='--', color='green', lw=3, label =f\"Median: {med:.2f}\")\n",
    "ax.legend();"
   ]
  },
  {
   "cell_type": "markdown",
   "id": "203a8d17",
   "metadata": {},
   "source": [
    "### Now that we visualized our overall data and the two sub sets lets begin checking assumptions.\n",
    "\n",
    "## Testing Assumptions"
   ]
  },
  {
   "cell_type": "markdown",
   "id": "aaad9eb6",
   "metadata": {},
   "source": [
    "## Outliers"
   ]
  },
  {
   "cell_type": "code",
   "execution_count": 622,
   "id": "b493a1f8",
   "metadata": {},
   "outputs": [
    {
     "data": {
      "text/plain": [
       "1         True\n",
       "3         True\n",
       "4        False\n",
       "5        False\n",
       "6         True\n",
       "         ...  \n",
       "44744     True\n",
       "44758    False\n",
       "44761    False\n",
       "44770    False\n",
       "44921     True\n",
       "Name: runtime, Length: 4873, dtype: bool"
      ]
     },
     "execution_count": 622,
     "metadata": {},
     "output_type": "execute_result"
    }
   ],
   "source": [
    "filter_ = rev_df['runtime'] > 103\n",
    "filter_"
   ]
  },
  {
   "cell_type": "code",
   "execution_count": 623,
   "id": "4263c51d",
   "metadata": {},
   "outputs": [
    {
     "data": {
      "text/plain": [
       "False    2523\n",
       "True     2350\n",
       "Name: runtime, dtype: int64"
      ]
     },
     "execution_count": 623,
     "metadata": {},
     "output_type": "execute_result"
    }
   ],
   "source": [
    "filter_.value_counts()"
   ]
  },
  {
   "cell_type": "code",
   "execution_count": 624,
   "id": "f2567395",
   "metadata": {},
   "outputs": [],
   "source": [
    "h_df = rev_df.loc[filter_].copy()\n",
    "l_df = rev_df.loc[~filter_].copy()"
   ]
  },
  {
   "cell_type": "code",
   "execution_count": 625,
   "id": "96becf00",
   "metadata": {},
   "outputs": [],
   "source": [
    "high_run = h_df['revenue']\n",
    "low_run = l_df['revenue']"
   ]
  },
  {
   "cell_type": "code",
   "execution_count": 626,
   "id": "19c9d22c",
   "metadata": {},
   "outputs": [
    {
     "data": {
      "text/plain": [
       "1          5227348.0\n",
       "3         56298474.0\n",
       "6        649398328.0\n",
       "9        821708551.0\n",
       "23       193921372.0\n",
       "            ...     \n",
       "44507        25000.0\n",
       "44550       590000.0\n",
       "44661       910000.0\n",
       "44744      1958955.0\n",
       "44921      6293794.0\n",
       "Name: revenue, Length: 2350, dtype: float64"
      ]
     },
     "execution_count": 626,
     "metadata": {},
     "output_type": "execute_result"
    }
   ],
   "source": [
    "high_run"
   ]
  },
  {
   "cell_type": "code",
   "execution_count": 627,
   "id": "437ff483",
   "metadata": {},
   "outputs": [
    {
     "data": {
      "text/plain": [
       "4        102984862.0\n",
       "5        445135288.0\n",
       "8        109578115.0\n",
       "14        38793283.0\n",
       "15         6632383.0\n",
       "            ...     \n",
       "44652           27.0\n",
       "44666      4240000.0\n",
       "44758         9185.0\n",
       "44761       296000.0\n",
       "44770            1.0\n",
       "Name: revenue, Length: 2523, dtype: float64"
      ]
     },
     "execution_count": 627,
     "metadata": {},
     "output_type": "execute_result"
    }
   ],
   "source": [
    "low_run"
   ]
  },
  {
   "cell_type": "code",
   "execution_count": 628,
   "id": "e28f63b9",
   "metadata": {},
   "outputs": [
    {
     "data": {
      "text/plain": [
       "64"
      ]
     },
     "execution_count": 628,
     "metadata": {},
     "output_type": "execute_result"
    }
   ],
   "source": [
    "zscores= stats.zscore(high_run)\n",
    "outliers = abs(zscores)>3\n",
    "np.sum(outliers)"
   ]
  },
  {
   "cell_type": "code",
   "execution_count": 629,
   "id": "2c8a9df5",
   "metadata": {},
   "outputs": [],
   "source": [
    "high_run= high_run[(np.abs(stats.zscore(high_run))< 3)]"
   ]
  },
  {
   "cell_type": "code",
   "execution_count": 630,
   "id": "9e9570dc",
   "metadata": {},
   "outputs": [
    {
     "data": {
      "text/plain": [
       "53"
      ]
     },
     "execution_count": 630,
     "metadata": {},
     "output_type": "execute_result"
    }
   ],
   "source": [
    "zscores= stats.zscore(low_run)\n",
    "outliers_low = abs(zscores)>3\n",
    "np.sum(outliers_low)"
   ]
  },
  {
   "cell_type": "code",
   "execution_count": 631,
   "id": "614d0e55",
   "metadata": {},
   "outputs": [],
   "source": [
    "low_run= low_run[(np.abs(stats.zscore(low_run))< 3)]"
   ]
  },
  {
   "cell_type": "markdown",
   "id": "c8bf85b0",
   "metadata": {},
   "source": [
    "Outliers dealt with."
   ]
  },
  {
   "cell_type": "markdown",
   "id": "87068e26",
   "metadata": {},
   "source": [
    "## Checking Normality"
   ]
  },
  {
   "cell_type": "code",
   "execution_count": 632,
   "id": "f941517e",
   "metadata": {},
   "outputs": [
    {
     "data": {
      "text/plain": [
       "NormaltestResult(statistic=1262.4962819869313, pvalue=7.11894528197581e-275)"
      ]
     },
     "execution_count": 632,
     "metadata": {},
     "output_type": "execute_result"
    }
   ],
   "source": [
    "result_high_run = stats.normaltest(high_run)\n",
    "result_high_run"
   ]
  },
  {
   "cell_type": "code",
   "execution_count": 633,
   "id": "1fe35b8d",
   "metadata": {},
   "outputs": [
    {
     "data": {
      "text/plain": [
       "NormaltestResult(statistic=1545.808509139459, pvalue=0.0)"
      ]
     },
     "execution_count": 633,
     "metadata": {},
     "output_type": "execute_result"
    }
   ],
   "source": [
    "result_low_run = stats.normaltest(low_run)\n",
    "result_low_run"
   ]
  },
  {
   "cell_type": "markdown",
   "id": "642e7187",
   "metadata": {},
   "source": [
    "Extremely low p values for both sets of data we know the data is not normally distributed.  However we have a large enough sample size to ignore this. "
   ]
  },
  {
   "cell_type": "markdown",
   "id": "44059965",
   "metadata": {},
   "source": [
    "## Checking for Equal Variance"
   ]
  },
  {
   "cell_type": "code",
   "execution_count": 634,
   "id": "a877f7a7",
   "metadata": {},
   "outputs": [
    {
     "data": {
      "text/plain": [
       "LeveneResult(statistic=146.13976604841255, pvalue=3.692526475625232e-33)"
      ]
     },
     "execution_count": 634,
     "metadata": {},
     "output_type": "execute_result"
    }
   ],
   "source": [
    "# Test for equal variance\n",
    "result = stats.levene(high_run, low_run)\n",
    "result"
   ]
  },
  {
   "cell_type": "markdown",
   "id": "a4095f84",
   "metadata": {},
   "source": [
    "We do not have equal variance so we will include \"equal_var = False\" when we perform our t-test."
   ]
  },
  {
   "cell_type": "markdown",
   "id": "593ca304",
   "metadata": {},
   "source": [
    "## T Test"
   ]
  },
  {
   "cell_type": "code",
   "execution_count": 635,
   "id": "a224cc2f",
   "metadata": {},
   "outputs": [
    {
     "data": {
      "text/plain": [
       "Ttest_indResult(statistic=12.542269786117775, pvalue=2.4359859732585343e-35)"
      ]
     },
     "execution_count": 635,
     "metadata": {},
     "output_type": "execute_result"
    }
   ],
   "source": [
    "# Independent t-test with equal_var set to False\n",
    "result = stats.ttest_ind(high_run, low_run, equal_var = False)\n",
    "result"
   ]
  },
  {
   "cell_type": "markdown",
   "id": "226369d1",
   "metadata": {},
   "source": [
    "### Our p value < alpha (0.05), so we reject the null hypothesis and support the alternative hypothesis that there is a significant difference between the revenue of movies who have runtime > 103 minutes and those who do not."
   ]
  },
  {
   "cell_type": "code",
   "execution_count": 665,
   "id": "962ac588",
   "metadata": {},
   "outputs": [],
   "source": [
    "y = high_run_df['revenue'].mean().round(2)"
   ]
  },
  {
   "cell_type": "code",
   "execution_count": 666,
   "id": "f303407b",
   "metadata": {},
   "outputs": [],
   "source": [
    "x = low_run_df['revenue'].mean().round(2)"
   ]
  },
  {
   "cell_type": "code",
   "execution_count": 673,
   "id": "65445750",
   "metadata": {},
   "outputs": [
    {
     "ename": "AttributeError",
     "evalue": "'numpy.float64' object has no attribute 'barplot'",
     "output_type": "error",
     "traceback": [
      "\u001b[1;31m---------------------------------------------------------------------------\u001b[0m",
      "\u001b[1;31mAttributeError\u001b[0m                            Traceback (most recent call last)",
      "Input \u001b[1;32mIn [673]\u001b[0m, in \u001b[0;36m<cell line: 2>\u001b[1;34m()\u001b[0m\n\u001b[0;32m      1\u001b[0m fig, ax \u001b[38;5;241m=\u001b[39m plt\u001b[38;5;241m.\u001b[39msubplots()\n\u001b[1;32m----> 2\u001b[0m \u001b[43mhigh_run_df\u001b[49m\u001b[43m[\u001b[49m\u001b[38;5;124;43m'\u001b[39;49m\u001b[38;5;124;43mrevenue\u001b[39;49m\u001b[38;5;124;43m'\u001b[39;49m\u001b[43m]\u001b[49m\u001b[38;5;241;43m.\u001b[39;49m\u001b[43mmean\u001b[49m\u001b[43m(\u001b[49m\u001b[43m)\u001b[49m\u001b[38;5;241;43m.\u001b[39;49m\u001b[43mround\u001b[49m\u001b[43m(\u001b[49m\u001b[43m)\u001b[49m\u001b[38;5;241;43m.\u001b[39;49m\u001b[43mbarplot\u001b[49m()\n\u001b[0;32m      3\u001b[0m low_run_df[\u001b[38;5;124m'\u001b[39m\u001b[38;5;124mrevenue\u001b[39m\u001b[38;5;124m'\u001b[39m]\u001b[38;5;241m.\u001b[39mmean()\u001b[38;5;241m.\u001b[39mround()\u001b[38;5;241m.\u001b[39mbarplot()\n\u001b[0;32m      4\u001b[0m ax\u001b[38;5;241m.\u001b[39mset_xlabel(\u001b[38;5;124m\"\u001b[39m\u001b[38;5;124mAmount budget or revenue in $\u001b[39m\u001b[38;5;124m\"\u001b[39m)\n",
      "\u001b[1;31mAttributeError\u001b[0m: 'numpy.float64' object has no attribute 'barplot'"
     ]
    },
    {
     "data": {
      "image/png": "[encoded data removed]",
      "text/plain": [
       "<Figure size 432x288 with 1 Axes>"
      ]
     },
     "metadata": {
      "needs_background": "light"
     },
     "output_type": "display_data"
    }
   ],
   "source": [
    "fig, ax = plt.subplots()\n",
    "high_run_df['revenue'].mean().round().barplot()\n",
    "low_run_df['revenue'].mean().round().barplot()\n",
    "ax.set_xlabel(\"Amount budget or revenue in $\")\n",
    "ax.set_ylabel(\"Count\")"
   ]
  },
  {
   "cell_type": "code",
   "execution_count": null,
   "id": "4522cfe8",
   "metadata": {},
   "outputs": [],
   "source": []
  },
  {
   "cell_type": "code",
   "execution_count": null,
   "id": "109b5d94",
   "metadata": {},
   "outputs": [],
   "source": []
  },
  {
   "cell_type": "code",
   "execution_count": null,
   "id": "ee1dc4e4",
   "metadata": {},
   "outputs": [],
   "source": []
  },
  {
   "cell_type": "code",
   "execution_count": null,
   "id": "2627b7ef",
   "metadata": {},
   "outputs": [],
   "source": []
  },
  {
   "cell_type": "code",
   "execution_count": null,
   "id": "8b5bd695",
   "metadata": {},
   "outputs": [],
   "source": []
  },
  {
   "cell_type": "code",
   "execution_count": null,
   "id": "52f29ff9",
   "metadata": {},
   "outputs": [],
   "source": []
  },
  {
   "cell_type": "code",
   "execution_count": null,
   "id": "f8b267d0",
   "metadata": {},
   "outputs": [],
   "source": []
  },
  {
   "cell_type": "code",
   "execution_count": null,
   "id": "51c40146",
   "metadata": {},
   "outputs": [],
   "source": []
  },
  {
   "cell_type": "code",
   "execution_count": null,
   "id": "0c4e5fbc",
   "metadata": {},
   "outputs": [],
   "source": []
  },
  {
   "cell_type": "code",
   "execution_count": null,
   "id": "ec6a1bc9",
   "metadata": {},
   "outputs": [],
   "source": []
  },
  {
   "cell_type": "code",
   "execution_count": null,
   "id": "28f07a5b",
   "metadata": {},
   "outputs": [],
   "source": []
  },
  {
   "cell_type": "markdown",
   "id": "292e675c",
   "metadata": {},
   "source": [
    "## Question 3\n",
    "Does a movies MPAA rating affect the movies budget?\n",
    "\n",
    "Null Hypothesis:  MPAA rating has no effect on a movies vote budget.\n",
    "\n",
    "Alternative Hypothesis: MPAA Rating has a significant effect on movies budget.\n",
    "\n",
    "Using an alpha=.05\n",
    "\n",
    "Going to perform a ANOVA Test."
   ]
  },
  {
   "cell_type": "code",
   "execution_count": 638,
   "id": "a006d049",
   "metadata": {},
   "outputs": [
    {
     "data": {
      "text/html": [
       "<div>\n",
       "<style scoped>\n",
       "    .dataframe tbody tr th:only-of-type {\n",
       "        vertical-align: middle;\n",
       "    }\n",
       "\n",
       "    .dataframe tbody tr th {\n",
       "        vertical-align: top;\n",
       "    }\n",
       "\n",
       "    .dataframe thead th {\n",
       "        text-align: right;\n",
       "    }\n",
       "</style>\n",
       "<table border=\"1\" class=\"dataframe\">\n",
       "  <thead>\n",
       "    <tr style=\"text-align: right;\">\n",
       "      <th></th>\n",
       "      <th>imdb_id</th>\n",
       "      <th>budget</th>\n",
       "      <th>revenue</th>\n",
       "      <th>runtime</th>\n",
       "      <th>title</th>\n",
       "      <th>vote_average</th>\n",
       "      <th>certification</th>\n",
       "    </tr>\n",
       "  </thead>\n",
       "  <tbody>\n",
       "    <tr>\n",
       "      <th>0</th>\n",
       "      <td>tt0146063</td>\n",
       "      <td>0.0</td>\n",
       "      <td>0.0</td>\n",
       "      <td>88.0</td>\n",
       "      <td>The Princess and the Pea</td>\n",
       "      <td>7.100</td>\n",
       "      <td>G</td>\n",
       "    </tr>\n",
       "    <tr>\n",
       "      <th>1</th>\n",
       "      <td>tt0166813</td>\n",
       "      <td>80000000.0</td>\n",
       "      <td>122563539.0</td>\n",
       "      <td>83.0</td>\n",
       "      <td>Spirit: Stallion of the Cimarron</td>\n",
       "      <td>7.691</td>\n",
       "      <td>G</td>\n",
       "    </tr>\n",
       "    <tr>\n",
       "      <th>2</th>\n",
       "      <td>tt0243585</td>\n",
       "      <td>120000000.0</td>\n",
       "      <td>169956806.0</td>\n",
       "      <td>78.0</td>\n",
       "      <td>Stuart Little 2</td>\n",
       "      <td>5.738</td>\n",
       "      <td>G</td>\n",
       "    </tr>\n",
       "    <tr>\n",
       "      <th>3</th>\n",
       "      <td>tt0265662</td>\n",
       "      <td>20000000.0</td>\n",
       "      <td>75597042.0</td>\n",
       "      <td>127.0</td>\n",
       "      <td>The Rookie</td>\n",
       "      <td>6.719</td>\n",
       "      <td>G</td>\n",
       "    </tr>\n",
       "    <tr>\n",
       "      <th>4</th>\n",
       "      <td>tt0271582</td>\n",
       "      <td>0.0</td>\n",
       "      <td>1347988.0</td>\n",
       "      <td>91.0</td>\n",
       "      <td>Joshua</td>\n",
       "      <td>6.500</td>\n",
       "      <td>G</td>\n",
       "    </tr>\n",
       "  </tbody>\n",
       "</table>\n",
       "</div>"
      ],
      "text/plain": [
       "     imdb_id       budget      revenue  runtime  \\\n",
       "0  tt0146063          0.0          0.0     88.0   \n",
       "1  tt0166813   80000000.0  122563539.0     83.0   \n",
       "2  tt0243585  120000000.0  169956806.0     78.0   \n",
       "3  tt0265662   20000000.0   75597042.0    127.0   \n",
       "4  tt0271582          0.0    1347988.0     91.0   \n",
       "\n",
       "                              title  vote_average certification  \n",
       "0          The Princess and the Pea         7.100             G  \n",
       "1  Spirit: Stallion of the Cimarron         7.691             G  \n",
       "2                   Stuart Little 2         5.738             G  \n",
       "3                        The Rookie         6.719             G  \n",
       "4                            Joshua         6.500             G  "
      ]
     },
     "execution_count": 638,
     "metadata": {},
     "output_type": "execute_result"
    }
   ],
   "source": [
    "df1.head()"
   ]
  },
  {
   "cell_type": "markdown",
   "id": "dafac2ff",
   "metadata": {},
   "source": [
    "## Testing Assumptions"
   ]
  },
  {
   "cell_type": "markdown",
   "id": "131e8d90",
   "metadata": {},
   "source": [
    "### Outliers"
   ]
  },
  {
   "cell_type": "code",
   "execution_count": 639,
   "id": "6f422174",
   "metadata": {},
   "outputs": [],
   "source": [
    "p = df1.loc[ df1['certification']=='P',\"budget\"]\n",
    "pg = df1.loc[ df1['certification']=='PG',\"budget\"]\n",
    "pg_13 = df1.loc[ df1['certification']=='PG-13',\"budget\"]\n",
    "r = df1.loc[ df1['certification']=='R',\"budget\"]"
   ]
  },
  {
   "cell_type": "code",
   "execution_count": 640,
   "id": "0e46be30",
   "metadata": {},
   "outputs": [
    {
     "data": {
      "text/plain": [
       "0"
      ]
     },
     "execution_count": 640,
     "metadata": {},
     "output_type": "execute_result"
    }
   ],
   "source": [
    "zscores_f = stats.zscore(p)\n",
    "outliers_p = abs(zscores_f)>3\n",
    "np.sum(outliers_p)"
   ]
  },
  {
   "cell_type": "code",
   "execution_count": 641,
   "id": "504ff916",
   "metadata": {},
   "outputs": [
    {
     "data": {
      "text/plain": [
       "18"
      ]
     },
     "execution_count": 641,
     "metadata": {},
     "output_type": "execute_result"
    }
   ],
   "source": [
    "zscores_f = stats.zscore(pg)\n",
    "outliers_pg = abs(zscores_f)>3\n",
    "np.sum(outliers_pg)"
   ]
  },
  {
   "cell_type": "code",
   "execution_count": 642,
   "id": "5a2faac2",
   "metadata": {},
   "outputs": [
    {
     "data": {
      "text/plain": [
       "252     120000000.0\n",
       "253     140000000.0\n",
       "254      26000000.0\n",
       "255             0.0\n",
       "256      58500000.0\n",
       "           ...     \n",
       "1049     33989696.0\n",
       "1050            0.0\n",
       "1051            0.0\n",
       "1052            0.0\n",
       "1053            0.0\n",
       "Name: budget, Length: 784, dtype: float64"
      ]
     },
     "execution_count": 642,
     "metadata": {},
     "output_type": "execute_result"
    }
   ],
   "source": [
    "pg[~outliers_pg]"
   ]
  },
  {
   "cell_type": "code",
   "execution_count": 643,
   "id": "3d386df1",
   "metadata": {},
   "outputs": [],
   "source": [
    "pg = pg[~outliers_pg]"
   ]
  },
  {
   "cell_type": "code",
   "execution_count": 644,
   "id": "e59829da",
   "metadata": {},
   "outputs": [
    {
     "data": {
      "text/plain": [
       "54"
      ]
     },
     "execution_count": 644,
     "metadata": {},
     "output_type": "execute_result"
    }
   ],
   "source": [
    "zscores_f = stats.zscore(pg_13)\n",
    "outliers_pg_13 = abs(zscores_f)>3\n",
    "np.sum(outliers_pg_13)"
   ]
  },
  {
   "cell_type": "code",
   "execution_count": 645,
   "id": "4c73de13",
   "metadata": {},
   "outputs": [
    {
     "data": {
      "text/plain": [
       "1054    140000000.0\n",
       "1055    139000000.0\n",
       "1056     68000000.0\n",
       "1057     79000000.0\n",
       "1058     21000000.0\n",
       "           ...     \n",
       "2913            0.0\n",
       "2914            0.0\n",
       "2915            0.0\n",
       "2916            0.0\n",
       "2917            0.0\n",
       "Name: budget, Length: 1810, dtype: float64"
      ]
     },
     "execution_count": 645,
     "metadata": {},
     "output_type": "execute_result"
    }
   ],
   "source": [
    "pg_13[~outliers_pg_13]"
   ]
  },
  {
   "cell_type": "code",
   "execution_count": 646,
   "id": "b9d22b02",
   "metadata": {},
   "outputs": [],
   "source": [
    "pg_13 = pg_13[~outliers_pg_13]"
   ]
  },
  {
   "cell_type": "code",
   "execution_count": 647,
   "id": "2b2f1b9c",
   "metadata": {},
   "outputs": [
    {
     "data": {
      "text/plain": [
       "84"
      ]
     },
     "execution_count": 647,
     "metadata": {},
     "output_type": "execute_result"
    }
   ],
   "source": [
    "zscores_f = stats.zscore(r)\n",
    "outliers_r = abs(zscores_f)>3\n",
    "np.sum(outliers_r)"
   ]
  },
  {
   "cell_type": "code",
   "execution_count": 648,
   "id": "65d7364b",
   "metadata": {},
   "outputs": [
    {
     "data": {
      "text/plain": [
       "2918           0.0\n",
       "2919    12000000.0\n",
       "2920    33000000.0\n",
       "2921           0.0\n",
       "2922    55000000.0\n",
       "           ...    \n",
       "6423           0.0\n",
       "6424           0.0\n",
       "6425           0.0\n",
       "6426           0.0\n",
       "6427           0.0\n",
       "Name: budget, Length: 3426, dtype: float64"
      ]
     },
     "execution_count": 648,
     "metadata": {},
     "output_type": "execute_result"
    }
   ],
   "source": [
    "r[~outliers_r]"
   ]
  },
  {
   "cell_type": "code",
   "execution_count": 649,
   "id": "14ba78df",
   "metadata": {},
   "outputs": [],
   "source": [
    "r = r[~outliers_r]"
   ]
  },
  {
   "cell_type": "markdown",
   "id": "6aa53a36",
   "metadata": {},
   "source": [
    "### Outliers dealt with"
   ]
  },
  {
   "cell_type": "markdown",
   "id": "4f7ca46a",
   "metadata": {},
   "source": [
    "## Assumption of normality"
   ]
  },
  {
   "cell_type": "code",
   "execution_count": 650,
   "id": "4a3389f1",
   "metadata": {},
   "outputs": [
    {
     "data": {
      "text/plain": [
       "dict_keys(['G', 'PG', 'PG-13', 'R'])"
      ]
     },
     "execution_count": 650,
     "metadata": {},
     "output_type": "execute_result"
    }
   ],
   "source": [
    "groups = {}\n",
    "## Loop through all unique categories\n",
    "for i in df1['certification'].unique():\n",
    "    ## Get series for group and rename\n",
    "    data = df1.loc[df1['certification']==i,'budget'].copy()\n",
    "    \n",
    "    # save into the dictionary\n",
    "    groups[i] = data\n",
    "groups.keys()"
   ]
  },
  {
   "cell_type": "code",
   "execution_count": 651,
   "id": "43887afd",
   "metadata": {},
   "outputs": [
    {
     "data": {
      "text/html": [
       "<div>\n",
       "<style scoped>\n",
       "    .dataframe tbody tr th:only-of-type {\n",
       "        vertical-align: middle;\n",
       "    }\n",
       "\n",
       "    .dataframe tbody tr th {\n",
       "        vertical-align: top;\n",
       "    }\n",
       "\n",
       "    .dataframe thead th {\n",
       "        text-align: right;\n",
       "    }\n",
       "</style>\n",
       "<table border=\"1\" class=\"dataframe\">\n",
       "  <thead>\n",
       "    <tr style=\"text-align: right;\">\n",
       "      <th></th>\n",
       "      <th>n</th>\n",
       "      <th>p</th>\n",
       "      <th>test stat</th>\n",
       "    </tr>\n",
       "  </thead>\n",
       "  <tbody>\n",
       "    <tr>\n",
       "      <th>G</th>\n",
       "      <td>252.0</td>\n",
       "      <td>2.869015e-45</td>\n",
       "      <td>205.124721</td>\n",
       "    </tr>\n",
       "    <tr>\n",
       "      <th>PG</th>\n",
       "      <td>802.0</td>\n",
       "      <td>3.240645e-85</td>\n",
       "      <td>389.087921</td>\n",
       "    </tr>\n",
       "    <tr>\n",
       "      <th>PG-13</th>\n",
       "      <td>1864.0</td>\n",
       "      <td>2.464636e-236</td>\n",
       "      <td>1085.016076</td>\n",
       "    </tr>\n",
       "    <tr>\n",
       "      <th>R</th>\n",
       "      <td>3510.0</td>\n",
       "      <td>0.000000e+00</td>\n",
       "      <td>3000.247283</td>\n",
       "    </tr>\n",
       "  </tbody>\n",
       "</table>\n",
       "</div>"
      ],
      "text/plain": [
       "            n              p    test stat\n",
       "G       252.0   2.869015e-45   205.124721\n",
       "PG      802.0   3.240645e-85   389.087921\n",
       "PG-13  1864.0  2.464636e-236  1085.016076\n",
       "R      3510.0   0.000000e+00  3000.247283"
      ]
     },
     "execution_count": 651,
     "metadata": {},
     "output_type": "execute_result"
    }
   ],
   "source": [
    "## Running normal test on each group and confirming there are >20 in each group\n",
    "norm_results = {}\n",
    "for i, data in groups.items():\n",
    "    stat, p = stats.normaltest(data)\n",
    "    ## save the p val, test statistic, and the size of the group\n",
    "    norm_results[i] = {'n': len(data),\n",
    "                             'p':p,\n",
    "                             'test stat':stat,}\n",
    "## convert to a dataframe\n",
    "norm_results_df = pd.DataFrame(norm_results).T\n",
    "norm_results_df"
   ]
  },
  {
   "cell_type": "markdown",
   "id": "dd2a9988",
   "metadata": {},
   "source": [
    "Plenty of data to work with."
   ]
  },
  {
   "cell_type": "code",
   "execution_count": 652,
   "id": "4f017bd1",
   "metadata": {},
   "outputs": [
    {
     "data": {
      "text/html": [
       "<div>\n",
       "<style scoped>\n",
       "    .dataframe tbody tr th:only-of-type {\n",
       "        vertical-align: middle;\n",
       "    }\n",
       "\n",
       "    .dataframe tbody tr th {\n",
       "        vertical-align: top;\n",
       "    }\n",
       "\n",
       "    .dataframe thead th {\n",
       "        text-align: right;\n",
       "    }\n",
       "</style>\n",
       "<table border=\"1\" class=\"dataframe\">\n",
       "  <thead>\n",
       "    <tr style=\"text-align: right;\">\n",
       "      <th></th>\n",
       "      <th>n</th>\n",
       "      <th>p</th>\n",
       "      <th>test stat</th>\n",
       "      <th>sig</th>\n",
       "    </tr>\n",
       "  </thead>\n",
       "  <tbody>\n",
       "    <tr>\n",
       "      <th>G</th>\n",
       "      <td>252.0</td>\n",
       "      <td>2.869015e-45</td>\n",
       "      <td>205.124721</td>\n",
       "      <td>True</td>\n",
       "    </tr>\n",
       "    <tr>\n",
       "      <th>PG</th>\n",
       "      <td>802.0</td>\n",
       "      <td>3.240645e-85</td>\n",
       "      <td>389.087921</td>\n",
       "      <td>True</td>\n",
       "    </tr>\n",
       "    <tr>\n",
       "      <th>PG-13</th>\n",
       "      <td>1864.0</td>\n",
       "      <td>2.464636e-236</td>\n",
       "      <td>1085.016076</td>\n",
       "      <td>True</td>\n",
       "    </tr>\n",
       "    <tr>\n",
       "      <th>R</th>\n",
       "      <td>3510.0</td>\n",
       "      <td>0.000000e+00</td>\n",
       "      <td>3000.247283</td>\n",
       "      <td>True</td>\n",
       "    </tr>\n",
       "  </tbody>\n",
       "</table>\n",
       "</div>"
      ],
      "text/plain": [
       "            n              p    test stat   sig\n",
       "G       252.0   2.869015e-45   205.124721  True\n",
       "PG      802.0   3.240645e-85   389.087921  True\n",
       "PG-13  1864.0  2.464636e-236  1085.016076  True\n",
       "R      3510.0   0.000000e+00  3000.247283  True"
      ]
     },
     "execution_count": 652,
     "metadata": {},
     "output_type": "execute_result"
    }
   ],
   "source": [
    "### checking sig with pandas \n",
    "norm_results_df['sig'] = norm_results_df['p'] < .05 \n",
    "norm_results_df"
   ]
  },
  {
   "cell_type": "markdown",
   "id": "93ffaeac",
   "metadata": {},
   "source": [
    "#### Again the data is not normally distributed but because of our data size we can safely ignore this."
   ]
  },
  {
   "cell_type": "markdown",
   "id": "15c22ee7",
   "metadata": {},
   "source": [
    "## Equal Variance"
   ]
  },
  {
   "cell_type": "code",
   "execution_count": 653,
   "id": "0ad53a30",
   "metadata": {},
   "outputs": [
    {
     "data": {
      "text/plain": [
       "LeveneResult(statistic=148.37311260816296, pvalue=5.725501369805577e-93)"
      ]
     },
     "execution_count": 653,
     "metadata": {},
     "output_type": "execute_result"
    }
   ],
   "source": [
    "stats.levene(*groups.values())"
   ]
  },
  {
   "cell_type": "markdown",
   "id": "12fa84f6",
   "metadata": {},
   "source": [
    "Our P value is less then our alpha of .05.  I reject the null hypothesis.  There is significant difference between our groups."
   ]
  },
  {
   "cell_type": "code",
   "execution_count": 654,
   "id": "d8bc319d",
   "metadata": {},
   "outputs": [
    {
     "data": {
      "text/plain": [
       "F_onewayResult(statistic=144.2719462234508, pvalue=1.7903190969995275e-90)"
      ]
     },
     "execution_count": 654,
     "metadata": {},
     "output_type": "execute_result"
    }
   ],
   "source": [
    "bud_result = stats.f_oneway( *groups.values())\n",
    "bud_result"
   ]
  },
  {
   "cell_type": "markdown",
   "id": "55457ff7",
   "metadata": {},
   "source": [
    "With such a low p value there is this is a significant result, meaning I reject the null hypothesis as we have supported the alternative hypothesis.  Now to find out which groups are different."
   ]
  },
  {
   "cell_type": "markdown",
   "id": "1db0a867",
   "metadata": {},
   "source": [
    "## Post-hoc multiple comparison tests"
   ]
  },
  {
   "cell_type": "code",
   "execution_count": 655,
   "id": "83310756",
   "metadata": {},
   "outputs": [],
   "source": [
    "## save the values as budget and the labels to the certification\n",
    "values = df1['budget']\n",
    "labels = df1['certification']"
   ]
  },
  {
   "cell_type": "code",
   "execution_count": 656,
   "id": "4cb75611",
   "metadata": {},
   "outputs": [
    {
     "data": {
      "text/html": [
       "<table class=\"simpletable\">\n",
       "<caption>Multiple Comparison of Means - Tukey HSD, FWER=0.05</caption>\n",
       "<tr>\n",
       "  <th>group1</th> <th>group2</th>    <th>meandiff</th>     <th>p-adj</th>      <th>lower</th>          <th>upper</th>     <th>reject</th>\n",
       "</tr>\n",
       "<tr>\n",
       "     <td>G</td>     <td>PG</td>    <td>10239033.8725</td> <td>0.0001</td>  <td>4324147.1515</td>   <td>16153920.5935</td>  <td>True</td> \n",
       "</tr>\n",
       "<tr>\n",
       "     <td>G</td>    <td>PG-13</td>  <td>11084133.0184</td>   <td>0.0</td>    <td>5586848.841</td>   <td>16581417.1958</td>  <td>True</td> \n",
       "</tr>\n",
       "<tr>\n",
       "     <td>G</td>      <td>R</td>    <td>-6191448.8903</td> <td>0.0154</td> <td>-11533021.6409</td>  <td>-849876.1397</td>   <td>True</td> \n",
       "</tr>\n",
       "<tr>\n",
       "    <td>PG</td>    <td>PG-13</td>   <td>845099.1459</td>  <td>0.9231</td>  <td>-2613765.0845</td>  <td>4303963.3763</td>   <td>False</td>\n",
       "</tr>\n",
       "<tr>\n",
       "    <td>PG</td>      <td>R</td>   <td>-16430482.7628</td>  <td>-0.0</td>  <td>-19636104.0578</td> <td>-13224861.4678</td>  <td>True</td> \n",
       "</tr>\n",
       "<tr>\n",
       "   <td>PG-13</td>    <td>R</td>   <td>-17275581.9087</td>  <td>-0.0</td>  <td>-19622975.4188</td> <td>-14928188.3985</td>  <td>True</td> \n",
       "</tr>\n",
       "</table>"
      ],
      "text/plain": [
       "<class 'statsmodels.iolib.table.SimpleTable'>"
      ]
     },
     "execution_count": 656,
     "metadata": {},
     "output_type": "execute_result"
    }
   ],
   "source": [
    "tukeys_results = pairwise_tukeyhsd(values,labels)\n",
    "tukeys_results.summary()"
   ]
  },
  {
   "cell_type": "markdown",
   "id": "752c28f7",
   "metadata": {},
   "source": [
    "Similar to what we saw with the revenue test, 5 significant differences, all our groups are different in terms of revenue except for PG and PG-13."
   ]
  },
  {
   "cell_type": "code",
   "execution_count": 658,
   "id": "4308cc2b",
   "metadata": {},
   "outputs": [
    {
     "data": {
      "image/png": "[encoded data removed]",
      "text/plain": [
       "<Figure size 432x288 with 1 Axes>"
      ]
     },
     "metadata": {
      "needs_background": "light"
     },
     "output_type": "display_data"
    }
   ],
   "source": [
    "sns.barplot(data=df1, x='certification', y= 'budget')\n",
    "plt.xticks(rotation = 45)\n",
    "plt.title('Average Budget By MPAA')\n",
    "plt.xlabel('MPAA Rating')\n",
    "plt.ylabel('Budget');"
   ]
  },
  {
   "cell_type": "markdown",
   "id": "55cacd91",
   "metadata": {},
   "source": [
    "This bar plot shows us what I had surmised but now supported that different MPAA Ratings get different budgets."
   ]
  },
  {
   "cell_type": "code",
   "execution_count": null,
   "id": "7f9e72d2",
   "metadata": {},
   "outputs": [],
   "source": []
  }
 ],
 "metadata": {
  "kernelspec": {
   "display_name": "Python (dojo-env)",
   "language": "python",
   "name": "dojo-env"
  },
  "language_info": {
   "codemirror_mode": {
    "name": "ipython",
    "version": 3
   },
   "file_extension": ".py",
   "mimetype": "text/x-python",
   "name": "python",
   "nbconvert_exporter": "python",
   "pygments_lexer": "ipython3",
   "version": "3.8.13"
  },
  "toc": {
   "base_numbering": 1,
   "nav_menu": {},
   "number_sections": false,
   "sideBar": true,
   "skip_h1_title": false,
   "title_cell": "Table of Contents",
   "title_sidebar": "Contents",
   "toc_cell": false,
   "toc_position": {},
   "toc_section_display": true,
   "toc_window_display": false
  }
 },
 "nbformat": 4,
 "nbformat_minor": 5
}

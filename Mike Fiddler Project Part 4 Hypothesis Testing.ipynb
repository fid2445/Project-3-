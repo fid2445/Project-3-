{
 "cells": [
  {
   "cell_type": "code",
   "execution_count": 217,
   "id": "66035884",
   "metadata": {},
   "outputs": [
    {
     "data": {
      "text/html": [
       "<div>\n",
       "<style scoped>\n",
       "    .dataframe tbody tr th:only-of-type {\n",
       "        vertical-align: middle;\n",
       "    }\n",
       "\n",
       "    .dataframe tbody tr th {\n",
       "        vertical-align: top;\n",
       "    }\n",
       "\n",
       "    .dataframe thead th {\n",
       "        text-align: right;\n",
       "    }\n",
       "</style>\n",
       "<table border=\"1\" class=\"dataframe\">\n",
       "  <thead>\n",
       "    <tr style=\"text-align: right;\">\n",
       "      <th></th>\n",
       "      <th>imdb_id</th>\n",
       "      <th>budget</th>\n",
       "      <th>revenue</th>\n",
       "      <th>runtime</th>\n",
       "      <th>title</th>\n",
       "      <th>vote_average</th>\n",
       "      <th>certification</th>\n",
       "    </tr>\n",
       "  </thead>\n",
       "  <tbody>\n",
       "    <tr>\n",
       "      <th>0</th>\n",
       "      <td>tt0096056</td>\n",
       "      <td>0.0</td>\n",
       "      <td>0.0</td>\n",
       "      <td>126.0</td>\n",
       "      <td>Crime and Punishment</td>\n",
       "      <td>5.500</td>\n",
       "      <td>NaN</td>\n",
       "    </tr>\n",
       "    <tr>\n",
       "      <th>1</th>\n",
       "      <td>tt0118926</td>\n",
       "      <td>0.0</td>\n",
       "      <td>5227348.0</td>\n",
       "      <td>132.0</td>\n",
       "      <td>The Dancer Upstairs</td>\n",
       "      <td>6.294</td>\n",
       "      <td>R</td>\n",
       "    </tr>\n",
       "    <tr>\n",
       "      <th>2</th>\n",
       "      <td>tt0119980</td>\n",
       "      <td>0.0</td>\n",
       "      <td>0.0</td>\n",
       "      <td>91.0</td>\n",
       "      <td>Random Shooting in LA</td>\n",
       "      <td>0.000</td>\n",
       "      <td>NaN</td>\n",
       "    </tr>\n",
       "    <tr>\n",
       "      <th>3</th>\n",
       "      <td>tt0120679</td>\n",
       "      <td>12000000.0</td>\n",
       "      <td>56298474.0</td>\n",
       "      <td>123.0</td>\n",
       "      <td>Frida</td>\n",
       "      <td>7.455</td>\n",
       "      <td>R</td>\n",
       "    </tr>\n",
       "    <tr>\n",
       "      <th>4</th>\n",
       "      <td>tt0120804</td>\n",
       "      <td>33000000.0</td>\n",
       "      <td>102984862.0</td>\n",
       "      <td>100.0</td>\n",
       "      <td>Resident Evil</td>\n",
       "      <td>6.602</td>\n",
       "      <td>R</td>\n",
       "    </tr>\n",
       "  </tbody>\n",
       "</table>\n",
       "</div>"
      ],
      "text/plain": [
       "     imdb_id      budget      revenue  runtime                  title  \\\n",
       "0  tt0096056         0.0          0.0    126.0   Crime and Punishment   \n",
       "1  tt0118926         0.0    5227348.0    132.0    The Dancer Upstairs   \n",
       "2  tt0119980         0.0          0.0     91.0  Random Shooting in LA   \n",
       "3  tt0120679  12000000.0   56298474.0    123.0                  Frida   \n",
       "4  tt0120804  33000000.0  102984862.0    100.0          Resident Evil   \n",
       "\n",
       "   vote_average certification  \n",
       "0         5.500           NaN  \n",
       "1         6.294             R  \n",
       "2         0.000           NaN  \n",
       "3         7.455             R  \n",
       "4         6.602             R  "
      ]
     },
     "execution_count": 217,
     "metadata": {},
     "output_type": "execute_result"
    }
   ],
   "source": [
    "import pandas as pd\n",
    "import seaborn as sns\n",
    "import matplotlib.pyplot as plt\n",
    "import numpy as np\n",
    "import scipy.stats as stats\n",
    "import scipy\n",
    "scipy.__version__\n",
    "\n",
    "\n",
    "df = pd.read_csv('Data/df_2002-2014_no_2007.csv.gz', low_memory=False)\n",
    "df.head()"
   ]
  },
  {
   "cell_type": "code",
   "execution_count": 218,
   "id": "5389ce95",
   "metadata": {},
   "outputs": [
    {
     "data": {
      "text/plain": [
       "imdb_id          0\n",
       "budget           0\n",
       "revenue          0\n",
       "runtime          0\n",
       "title            0\n",
       "vote_average     0\n",
       "certification    0\n",
       "dtype: int64"
      ]
     },
     "execution_count": 218,
     "metadata": {},
     "output_type": "execute_result"
    }
   ],
   "source": [
    "df.dropna(subset=['certification'], inplace=True)\n",
    "df.isna().sum()"
   ]
  },
  {
   "cell_type": "code",
   "execution_count": 219,
   "id": "38bc08ed",
   "metadata": {},
   "outputs": [
    {
     "data": {
      "text/plain": [
       "R                                  3509\n",
       "PG-13                              1863\n",
       "NR                                 1646\n",
       "PG                                  802\n",
       "G                                   252\n",
       "NC-17                                91\n",
       "UR                                    1\n",
       "Not Rated                             1\n",
       "ScreamFest Horror Film Festival       1\n",
       "12                                    1\n",
       "R                                     1\n",
       "PG-13                                 1\n",
       "10                                    1\n",
       "Name: certification, dtype: int64"
      ]
     },
     "execution_count": 219,
     "metadata": {},
     "output_type": "execute_result"
    }
   ],
   "source": [
    "df['certification'].value_counts()"
   ]
  },
  {
   "cell_type": "markdown",
   "id": "d2d3e18d",
   "metadata": {},
   "source": [
    "## getting only the certifications I want"
   ]
  },
  {
   "cell_type": "code",
   "execution_count": 220,
   "id": "05ef8410",
   "metadata": {},
   "outputs": [
    {
     "data": {
      "text/plain": [
       "R                                  3510\n",
       "PG-13                              1864\n",
       "NR                                 1646\n",
       "PG                                  802\n",
       "G                                   252\n",
       "NC-17                                91\n",
       "UR                                    1\n",
       "Not Rated                             1\n",
       "ScreamFest Horror Film Festival       1\n",
       "12                                    1\n",
       "10                                    1\n",
       "Name: certification, dtype: int64"
      ]
     },
     "execution_count": 220,
     "metadata": {},
     "output_type": "execute_result"
    }
   ],
   "source": [
    "df['certification'] = df['certification'].str.strip()\n",
    "df['certification'].value_counts()"
   ]
  },
  {
   "cell_type": "code",
   "execution_count": 221,
   "id": "920556f4",
   "metadata": {},
   "outputs": [
    {
     "data": {
      "text/html": [
       "<div>\n",
       "<style scoped>\n",
       "    .dataframe tbody tr th:only-of-type {\n",
       "        vertical-align: middle;\n",
       "    }\n",
       "\n",
       "    .dataframe tbody tr th {\n",
       "        vertical-align: top;\n",
       "    }\n",
       "\n",
       "    .dataframe thead th {\n",
       "        text-align: right;\n",
       "    }\n",
       "</style>\n",
       "<table border=\"1\" class=\"dataframe\">\n",
       "  <thead>\n",
       "    <tr style=\"text-align: right;\">\n",
       "      <th></th>\n",
       "      <th>imdb_id</th>\n",
       "      <th>budget</th>\n",
       "      <th>revenue</th>\n",
       "      <th>runtime</th>\n",
       "      <th>title</th>\n",
       "      <th>vote_average</th>\n",
       "      <th>certification</th>\n",
       "    </tr>\n",
       "  </thead>\n",
       "  <tbody>\n",
       "    <tr>\n",
       "      <th>1</th>\n",
       "      <td>tt0118926</td>\n",
       "      <td>0.0</td>\n",
       "      <td>5227348.0</td>\n",
       "      <td>132.0</td>\n",
       "      <td>The Dancer Upstairs</td>\n",
       "      <td>6.294</td>\n",
       "      <td>R</td>\n",
       "    </tr>\n",
       "    <tr>\n",
       "      <th>3</th>\n",
       "      <td>tt0120679</td>\n",
       "      <td>12000000.0</td>\n",
       "      <td>56298474.0</td>\n",
       "      <td>123.0</td>\n",
       "      <td>Frida</td>\n",
       "      <td>7.455</td>\n",
       "      <td>R</td>\n",
       "    </tr>\n",
       "    <tr>\n",
       "      <th>4</th>\n",
       "      <td>tt0120804</td>\n",
       "      <td>33000000.0</td>\n",
       "      <td>102984862.0</td>\n",
       "      <td>100.0</td>\n",
       "      <td>Resident Evil</td>\n",
       "      <td>6.602</td>\n",
       "      <td>R</td>\n",
       "    </tr>\n",
       "    <tr>\n",
       "      <th>11</th>\n",
       "      <td>tt0149253</td>\n",
       "      <td>0.0</td>\n",
       "      <td>0.0</td>\n",
       "      <td>96.0</td>\n",
       "      <td>Texas '46</td>\n",
       "      <td>3.500</td>\n",
       "      <td>R</td>\n",
       "    </tr>\n",
       "    <tr>\n",
       "      <th>15</th>\n",
       "      <td>tt0160184</td>\n",
       "      <td>55000000.0</td>\n",
       "      <td>6632383.0</td>\n",
       "      <td>96.0</td>\n",
       "      <td>D-Tox</td>\n",
       "      <td>5.613</td>\n",
       "      <td>R</td>\n",
       "    </tr>\n",
       "    <tr>\n",
       "      <th>...</th>\n",
       "      <td>...</td>\n",
       "      <td>...</td>\n",
       "      <td>...</td>\n",
       "      <td>...</td>\n",
       "      <td>...</td>\n",
       "      <td>...</td>\n",
       "      <td>...</td>\n",
       "    </tr>\n",
       "    <tr>\n",
       "      <th>44307</th>\n",
       "      <td>tt4197006</td>\n",
       "      <td>0.0</td>\n",
       "      <td>0.0</td>\n",
       "      <td>70.0</td>\n",
       "      <td>The Sect</td>\n",
       "      <td>3.000</td>\n",
       "      <td>R</td>\n",
       "    </tr>\n",
       "    <tr>\n",
       "      <th>44329</th>\n",
       "      <td>tt4209020</td>\n",
       "      <td>0.0</td>\n",
       "      <td>0.0</td>\n",
       "      <td>72.0</td>\n",
       "      <td>Here kitty kitty!</td>\n",
       "      <td>5.000</td>\n",
       "      <td>R</td>\n",
       "    </tr>\n",
       "    <tr>\n",
       "      <th>44538</th>\n",
       "      <td>tt4416878</td>\n",
       "      <td>0.0</td>\n",
       "      <td>0.0</td>\n",
       "      <td>51.0</td>\n",
       "      <td>Lake Nowhere</td>\n",
       "      <td>6.000</td>\n",
       "      <td>R</td>\n",
       "    </tr>\n",
       "    <tr>\n",
       "      <th>44561</th>\n",
       "      <td>tt4473620</td>\n",
       "      <td>0.0</td>\n",
       "      <td>0.0</td>\n",
       "      <td>90.0</td>\n",
       "      <td>Witching Hour</td>\n",
       "      <td>10.000</td>\n",
       "      <td>R</td>\n",
       "    </tr>\n",
       "    <tr>\n",
       "      <th>44659</th>\n",
       "      <td>tt4768794</td>\n",
       "      <td>0.0</td>\n",
       "      <td>0.0</td>\n",
       "      <td>81.0</td>\n",
       "      <td>I Declare War</td>\n",
       "      <td>3.000</td>\n",
       "      <td>R</td>\n",
       "    </tr>\n",
       "  </tbody>\n",
       "</table>\n",
       "<p>3510 rows × 7 columns</p>\n",
       "</div>"
      ],
      "text/plain": [
       "         imdb_id      budget      revenue  runtime                title  \\\n",
       "1      tt0118926         0.0    5227348.0    132.0  The Dancer Upstairs   \n",
       "3      tt0120679  12000000.0   56298474.0    123.0                Frida   \n",
       "4      tt0120804  33000000.0  102984862.0    100.0        Resident Evil   \n",
       "11     tt0149253         0.0          0.0     96.0            Texas '46   \n",
       "15     tt0160184  55000000.0    6632383.0     96.0                D-Tox   \n",
       "...          ...         ...          ...      ...                  ...   \n",
       "44307  tt4197006         0.0          0.0     70.0             The Sect   \n",
       "44329  tt4209020         0.0          0.0     72.0    Here kitty kitty!   \n",
       "44538  tt4416878         0.0          0.0     51.0         Lake Nowhere   \n",
       "44561  tt4473620         0.0          0.0     90.0        Witching Hour   \n",
       "44659  tt4768794         0.0          0.0     81.0        I Declare War   \n",
       "\n",
       "       vote_average certification  \n",
       "1             6.294             R  \n",
       "3             7.455             R  \n",
       "4             6.602             R  \n",
       "11            3.500             R  \n",
       "15            5.613             R  \n",
       "...             ...           ...  \n",
       "44307         3.000             R  \n",
       "44329         5.000             R  \n",
       "44538         6.000             R  \n",
       "44561        10.000             R  \n",
       "44659         3.000             R  \n",
       "\n",
       "[3510 rows x 7 columns]"
      ]
     },
     "execution_count": 221,
     "metadata": {},
     "output_type": "execute_result"
    }
   ],
   "source": [
    "r_df = df.loc[(df['certification'] == 'R')]\n",
    "r_df"
   ]
  },
  {
   "cell_type": "code",
   "execution_count": 222,
   "id": "19a7d802",
   "metadata": {},
   "outputs": [
    {
     "data": {
      "text/html": [
       "<div>\n",
       "<style scoped>\n",
       "    .dataframe tbody tr th:only-of-type {\n",
       "        vertical-align: middle;\n",
       "    }\n",
       "\n",
       "    .dataframe tbody tr th {\n",
       "        vertical-align: top;\n",
       "    }\n",
       "\n",
       "    .dataframe thead th {\n",
       "        text-align: right;\n",
       "    }\n",
       "</style>\n",
       "<table border=\"1\" class=\"dataframe\">\n",
       "  <thead>\n",
       "    <tr style=\"text-align: right;\">\n",
       "      <th></th>\n",
       "      <th>imdb_id</th>\n",
       "      <th>budget</th>\n",
       "      <th>revenue</th>\n",
       "      <th>runtime</th>\n",
       "      <th>title</th>\n",
       "      <th>vote_average</th>\n",
       "      <th>certification</th>\n",
       "    </tr>\n",
       "  </thead>\n",
       "  <tbody>\n",
       "    <tr>\n",
       "      <th>10</th>\n",
       "      <td>tt0146063</td>\n",
       "      <td>0.0</td>\n",
       "      <td>0.0</td>\n",
       "      <td>88.0</td>\n",
       "      <td>The Princess and the Pea</td>\n",
       "      <td>7.100</td>\n",
       "      <td>G</td>\n",
       "    </tr>\n",
       "    <tr>\n",
       "      <th>27</th>\n",
       "      <td>tt0166813</td>\n",
       "      <td>80000000.0</td>\n",
       "      <td>122563539.0</td>\n",
       "      <td>83.0</td>\n",
       "      <td>Spirit: Stallion of the Cimarron</td>\n",
       "      <td>7.691</td>\n",
       "      <td>G</td>\n",
       "    </tr>\n",
       "    <tr>\n",
       "      <th>115</th>\n",
       "      <td>tt0243585</td>\n",
       "      <td>120000000.0</td>\n",
       "      <td>169956806.0</td>\n",
       "      <td>78.0</td>\n",
       "      <td>Stuart Little 2</td>\n",
       "      <td>5.738</td>\n",
       "      <td>G</td>\n",
       "    </tr>\n",
       "    <tr>\n",
       "      <th>231</th>\n",
       "      <td>tt0265662</td>\n",
       "      <td>20000000.0</td>\n",
       "      <td>75597042.0</td>\n",
       "      <td>127.0</td>\n",
       "      <td>The Rookie</td>\n",
       "      <td>6.719</td>\n",
       "      <td>G</td>\n",
       "    </tr>\n",
       "    <tr>\n",
       "      <th>276</th>\n",
       "      <td>tt0271582</td>\n",
       "      <td>0.0</td>\n",
       "      <td>1347988.0</td>\n",
       "      <td>91.0</td>\n",
       "      <td>Joshua</td>\n",
       "      <td>6.500</td>\n",
       "      <td>G</td>\n",
       "    </tr>\n",
       "    <tr>\n",
       "      <th>...</th>\n",
       "      <td>...</td>\n",
       "      <td>...</td>\n",
       "      <td>...</td>\n",
       "      <td>...</td>\n",
       "      <td>...</td>\n",
       "      <td>...</td>\n",
       "      <td>...</td>\n",
       "    </tr>\n",
       "    <tr>\n",
       "      <th>44228</th>\n",
       "      <td>tt4150316</td>\n",
       "      <td>0.0</td>\n",
       "      <td>0.0</td>\n",
       "      <td>45.0</td>\n",
       "      <td>Frozen in Time</td>\n",
       "      <td>4.800</td>\n",
       "      <td>G</td>\n",
       "    </tr>\n",
       "    <tr>\n",
       "      <th>44241</th>\n",
       "      <td>tt4157940</td>\n",
       "      <td>0.0</td>\n",
       "      <td>8520000.0</td>\n",
       "      <td>87.0</td>\n",
       "      <td>The Magical Brush</td>\n",
       "      <td>4.800</td>\n",
       "      <td>G</td>\n",
       "    </tr>\n",
       "    <tr>\n",
       "      <th>44558</th>\n",
       "      <td>tt4468650</td>\n",
       "      <td>0.0</td>\n",
       "      <td>0.0</td>\n",
       "      <td>0.0</td>\n",
       "      <td>神秘世界历险记2</td>\n",
       "      <td>6.500</td>\n",
       "      <td>G</td>\n",
       "    </tr>\n",
       "    <tr>\n",
       "      <th>44615</th>\n",
       "      <td>tt4591840</td>\n",
       "      <td>10000000.0</td>\n",
       "      <td>0.0</td>\n",
       "      <td>82.0</td>\n",
       "      <td>A Christmas Star</td>\n",
       "      <td>5.000</td>\n",
       "      <td>G</td>\n",
       "    </tr>\n",
       "    <tr>\n",
       "      <th>44875</th>\n",
       "      <td>tt7266208</td>\n",
       "      <td>0.0</td>\n",
       "      <td>0.0</td>\n",
       "      <td>130.0</td>\n",
       "      <td>Lots &amp; Lots of Trains - Songs For Kids</td>\n",
       "      <td>0.000</td>\n",
       "      <td>G</td>\n",
       "    </tr>\n",
       "  </tbody>\n",
       "</table>\n",
       "<p>252 rows × 7 columns</p>\n",
       "</div>"
      ],
      "text/plain": [
       "         imdb_id       budget      revenue  runtime  \\\n",
       "10     tt0146063          0.0          0.0     88.0   \n",
       "27     tt0166813   80000000.0  122563539.0     83.0   \n",
       "115    tt0243585  120000000.0  169956806.0     78.0   \n",
       "231    tt0265662   20000000.0   75597042.0    127.0   \n",
       "276    tt0271582          0.0    1347988.0     91.0   \n",
       "...          ...          ...          ...      ...   \n",
       "44228  tt4150316          0.0          0.0     45.0   \n",
       "44241  tt4157940          0.0    8520000.0     87.0   \n",
       "44558  tt4468650          0.0          0.0      0.0   \n",
       "44615  tt4591840   10000000.0          0.0     82.0   \n",
       "44875  tt7266208          0.0          0.0    130.0   \n",
       "\n",
       "                                        title  vote_average certification  \n",
       "10                   The Princess and the Pea         7.100             G  \n",
       "27           Spirit: Stallion of the Cimarron         7.691             G  \n",
       "115                           Stuart Little 2         5.738             G  \n",
       "231                                The Rookie         6.719             G  \n",
       "276                                    Joshua         6.500             G  \n",
       "...                                       ...           ...           ...  \n",
       "44228                          Frozen in Time         4.800             G  \n",
       "44241                       The Magical Brush         4.800             G  \n",
       "44558                                神秘世界历险记2         6.500             G  \n",
       "44615                        A Christmas Star         5.000             G  \n",
       "44875  Lots & Lots of Trains - Songs For Kids         0.000             G  \n",
       "\n",
       "[252 rows x 7 columns]"
      ]
     },
     "execution_count": 222,
     "metadata": {},
     "output_type": "execute_result"
    }
   ],
   "source": [
    "g_df = df.loc[(df['certification'] == 'G')]\n",
    "g_df"
   ]
  },
  {
   "cell_type": "code",
   "execution_count": 223,
   "id": "21277e30",
   "metadata": {},
   "outputs": [
    {
     "data": {
      "text/html": [
       "<div>\n",
       "<style scoped>\n",
       "    .dataframe tbody tr th:only-of-type {\n",
       "        vertical-align: middle;\n",
       "    }\n",
       "\n",
       "    .dataframe tbody tr th {\n",
       "        vertical-align: top;\n",
       "    }\n",
       "\n",
       "    .dataframe thead th {\n",
       "        text-align: right;\n",
       "    }\n",
       "</style>\n",
       "<table border=\"1\" class=\"dataframe\">\n",
       "  <thead>\n",
       "    <tr style=\"text-align: right;\">\n",
       "      <th></th>\n",
       "      <th>imdb_id</th>\n",
       "      <th>budget</th>\n",
       "      <th>revenue</th>\n",
       "      <th>runtime</th>\n",
       "      <th>title</th>\n",
       "      <th>vote_average</th>\n",
       "      <th>certification</th>\n",
       "    </tr>\n",
       "  </thead>\n",
       "  <tbody>\n",
       "    <tr>\n",
       "      <th>6</th>\n",
       "      <td>tt0121765</td>\n",
       "      <td>120000000.0</td>\n",
       "      <td>649398328.0</td>\n",
       "      <td>142.0</td>\n",
       "      <td>Star Wars: Episode II - Attack of the Clones</td>\n",
       "      <td>6.542</td>\n",
       "      <td>PG</td>\n",
       "    </tr>\n",
       "    <tr>\n",
       "      <th>8</th>\n",
       "      <td>tt0133240</td>\n",
       "      <td>140000000.0</td>\n",
       "      <td>109578115.0</td>\n",
       "      <td>95.0</td>\n",
       "      <td>Treasure Planet</td>\n",
       "      <td>7.530</td>\n",
       "      <td>PG</td>\n",
       "    </tr>\n",
       "    <tr>\n",
       "      <th>14</th>\n",
       "      <td>tt0157472</td>\n",
       "      <td>26000000.0</td>\n",
       "      <td>38793283.0</td>\n",
       "      <td>94.0</td>\n",
       "      <td>Clockstoppers</td>\n",
       "      <td>5.255</td>\n",
       "      <td>PG</td>\n",
       "    </tr>\n",
       "    <tr>\n",
       "      <th>140</th>\n",
       "      <td>tt0248169</td>\n",
       "      <td>0.0</td>\n",
       "      <td>505675.0</td>\n",
       "      <td>119.0</td>\n",
       "      <td>Manna from Heaven</td>\n",
       "      <td>0.000</td>\n",
       "      <td>PG</td>\n",
       "    </tr>\n",
       "    <tr>\n",
       "      <th>148</th>\n",
       "      <td>tt0250223</td>\n",
       "      <td>58500000.0</td>\n",
       "      <td>111127553.0</td>\n",
       "      <td>108.0</td>\n",
       "      <td>Asterix &amp; Obelix: Mission Cleopatra</td>\n",
       "      <td>7.355</td>\n",
       "      <td>PG</td>\n",
       "    </tr>\n",
       "    <tr>\n",
       "      <th>...</th>\n",
       "      <td>...</td>\n",
       "      <td>...</td>\n",
       "      <td>...</td>\n",
       "      <td>...</td>\n",
       "      <td>...</td>\n",
       "      <td>...</td>\n",
       "      <td>...</td>\n",
       "    </tr>\n",
       "    <tr>\n",
       "      <th>43883</th>\n",
       "      <td>tt3949650</td>\n",
       "      <td>33989696.0</td>\n",
       "      <td>0.0</td>\n",
       "      <td>109.0</td>\n",
       "      <td>Doraemon: New Nobita's Great Demon – Peko and ...</td>\n",
       "      <td>7.044</td>\n",
       "      <td>PG</td>\n",
       "    </tr>\n",
       "    <tr>\n",
       "      <th>44036</th>\n",
       "      <td>tt4044488</td>\n",
       "      <td>0.0</td>\n",
       "      <td>0.0</td>\n",
       "      <td>95.0</td>\n",
       "      <td>Message of Hope</td>\n",
       "      <td>0.000</td>\n",
       "      <td>PG</td>\n",
       "    </tr>\n",
       "    <tr>\n",
       "      <th>44042</th>\n",
       "      <td>tt4045666</td>\n",
       "      <td>0.0</td>\n",
       "      <td>0.0</td>\n",
       "      <td>120.0</td>\n",
       "      <td>Mumbai Delhi Mumbai</td>\n",
       "      <td>6.300</td>\n",
       "      <td>PG</td>\n",
       "    </tr>\n",
       "    <tr>\n",
       "      <th>44072</th>\n",
       "      <td>tt4061848</td>\n",
       "      <td>0.0</td>\n",
       "      <td>0.0</td>\n",
       "      <td>53.0</td>\n",
       "      <td>Alpha and Omega: The Legend of the Saw Tooth Cave</td>\n",
       "      <td>6.476</td>\n",
       "      <td>PG</td>\n",
       "    </tr>\n",
       "    <tr>\n",
       "      <th>44488</th>\n",
       "      <td>tt4329098</td>\n",
       "      <td>0.0</td>\n",
       "      <td>0.0</td>\n",
       "      <td>88.0</td>\n",
       "      <td>Sugar Daddies</td>\n",
       "      <td>4.600</td>\n",
       "      <td>PG</td>\n",
       "    </tr>\n",
       "  </tbody>\n",
       "</table>\n",
       "<p>802 rows × 7 columns</p>\n",
       "</div>"
      ],
      "text/plain": [
       "         imdb_id       budget      revenue  runtime  \\\n",
       "6      tt0121765  120000000.0  649398328.0    142.0   \n",
       "8      tt0133240  140000000.0  109578115.0     95.0   \n",
       "14     tt0157472   26000000.0   38793283.0     94.0   \n",
       "140    tt0248169          0.0     505675.0    119.0   \n",
       "148    tt0250223   58500000.0  111127553.0    108.0   \n",
       "...          ...          ...          ...      ...   \n",
       "43883  tt3949650   33989696.0          0.0    109.0   \n",
       "44036  tt4044488          0.0          0.0     95.0   \n",
       "44042  tt4045666          0.0          0.0    120.0   \n",
       "44072  tt4061848          0.0          0.0     53.0   \n",
       "44488  tt4329098          0.0          0.0     88.0   \n",
       "\n",
       "                                                   title  vote_average  \\\n",
       "6           Star Wars: Episode II - Attack of the Clones         6.542   \n",
       "8                                        Treasure Planet         7.530   \n",
       "14                                         Clockstoppers         5.255   \n",
       "140                                    Manna from Heaven         0.000   \n",
       "148                  Asterix & Obelix: Mission Cleopatra         7.355   \n",
       "...                                                  ...           ...   \n",
       "43883  Doraemon: New Nobita's Great Demon – Peko and ...         7.044   \n",
       "44036                                    Message of Hope         0.000   \n",
       "44042                                Mumbai Delhi Mumbai         6.300   \n",
       "44072  Alpha and Omega: The Legend of the Saw Tooth Cave         6.476   \n",
       "44488                                      Sugar Daddies         4.600   \n",
       "\n",
       "      certification  \n",
       "6                PG  \n",
       "8                PG  \n",
       "14               PG  \n",
       "140              PG  \n",
       "148              PG  \n",
       "...             ...  \n",
       "43883            PG  \n",
       "44036            PG  \n",
       "44042            PG  \n",
       "44072            PG  \n",
       "44488            PG  \n",
       "\n",
       "[802 rows x 7 columns]"
      ]
     },
     "execution_count": 223,
     "metadata": {},
     "output_type": "execute_result"
    }
   ],
   "source": [
    "pg_df = df.loc[(df['certification'] == 'PG')]\n",
    "pg_df"
   ]
  },
  {
   "cell_type": "code",
   "execution_count": 224,
   "id": "ec1bb908",
   "metadata": {},
   "outputs": [
    {
     "data": {
      "text/html": [
       "<div>\n",
       "<style scoped>\n",
       "    .dataframe tbody tr th:only-of-type {\n",
       "        vertical-align: middle;\n",
       "    }\n",
       "\n",
       "    .dataframe tbody tr th {\n",
       "        vertical-align: top;\n",
       "    }\n",
       "\n",
       "    .dataframe thead th {\n",
       "        text-align: right;\n",
       "    }\n",
       "</style>\n",
       "<table border=\"1\" class=\"dataframe\">\n",
       "  <thead>\n",
       "    <tr style=\"text-align: right;\">\n",
       "      <th></th>\n",
       "      <th>imdb_id</th>\n",
       "      <th>budget</th>\n",
       "      <th>revenue</th>\n",
       "      <th>runtime</th>\n",
       "      <th>title</th>\n",
       "      <th>vote_average</th>\n",
       "      <th>certification</th>\n",
       "    </tr>\n",
       "  </thead>\n",
       "  <tbody>\n",
       "    <tr>\n",
       "      <th>5</th>\n",
       "      <td>tt0120912</td>\n",
       "      <td>140000000.0</td>\n",
       "      <td>445135288.0</td>\n",
       "      <td>88.0</td>\n",
       "      <td>Men in Black II</td>\n",
       "      <td>6.348</td>\n",
       "      <td>PG-13</td>\n",
       "    </tr>\n",
       "    <tr>\n",
       "      <th>9</th>\n",
       "      <td>tt0145487</td>\n",
       "      <td>139000000.0</td>\n",
       "      <td>821708551.0</td>\n",
       "      <td>121.0</td>\n",
       "      <td>Spider-Man</td>\n",
       "      <td>7.248</td>\n",
       "      <td>PG-13</td>\n",
       "    </tr>\n",
       "    <tr>\n",
       "      <th>23</th>\n",
       "      <td>tt0164184</td>\n",
       "      <td>68000000.0</td>\n",
       "      <td>193921372.0</td>\n",
       "      <td>124.0</td>\n",
       "      <td>The Sum of All Fears</td>\n",
       "      <td>6.290</td>\n",
       "      <td>PG-13</td>\n",
       "    </tr>\n",
       "    <tr>\n",
       "      <th>29</th>\n",
       "      <td>tt0167261</td>\n",
       "      <td>79000000.0</td>\n",
       "      <td>926287400.0</td>\n",
       "      <td>179.0</td>\n",
       "      <td>The Lord of the Rings: The Two Towers</td>\n",
       "      <td>8.368</td>\n",
       "      <td>PG-13</td>\n",
       "    </tr>\n",
       "    <tr>\n",
       "      <th>34</th>\n",
       "      <td>tt0179098</td>\n",
       "      <td>21000000.0</td>\n",
       "      <td>10011050.0</td>\n",
       "      <td>117.0</td>\n",
       "      <td>Moonlight Mile</td>\n",
       "      <td>6.305</td>\n",
       "      <td>PG-13</td>\n",
       "    </tr>\n",
       "    <tr>\n",
       "      <th>...</th>\n",
       "      <td>...</td>\n",
       "      <td>...</td>\n",
       "      <td>...</td>\n",
       "      <td>...</td>\n",
       "      <td>...</td>\n",
       "      <td>...</td>\n",
       "      <td>...</td>\n",
       "    </tr>\n",
       "    <tr>\n",
       "      <th>44007</th>\n",
       "      <td>tt4027422</td>\n",
       "      <td>0.0</td>\n",
       "      <td>0.0</td>\n",
       "      <td>91.0</td>\n",
       "      <td>Subways</td>\n",
       "      <td>4.000</td>\n",
       "      <td>PG-13</td>\n",
       "    </tr>\n",
       "    <tr>\n",
       "      <th>44390</th>\n",
       "      <td>tt4246856</td>\n",
       "      <td>0.0</td>\n",
       "      <td>0.0</td>\n",
       "      <td>92.0</td>\n",
       "      <td>Wildflower</td>\n",
       "      <td>5.300</td>\n",
       "      <td>PG-13</td>\n",
       "    </tr>\n",
       "    <tr>\n",
       "      <th>44430</th>\n",
       "      <td>tt4288542</td>\n",
       "      <td>0.0</td>\n",
       "      <td>1695006.0</td>\n",
       "      <td>93.0</td>\n",
       "      <td>Viejos amigos</td>\n",
       "      <td>6.400</td>\n",
       "      <td>PG-13</td>\n",
       "    </tr>\n",
       "    <tr>\n",
       "      <th>44638</th>\n",
       "      <td>tt4684268</td>\n",
       "      <td>0.0</td>\n",
       "      <td>0.0</td>\n",
       "      <td>71.0</td>\n",
       "      <td>The Coffin Footage</td>\n",
       "      <td>3.200</td>\n",
       "      <td>PG-13</td>\n",
       "    </tr>\n",
       "    <tr>\n",
       "      <th>44685</th>\n",
       "      <td>tt4873226</td>\n",
       "      <td>0.0</td>\n",
       "      <td>0.0</td>\n",
       "      <td>88.0</td>\n",
       "      <td>Just a Measure of Faith</td>\n",
       "      <td>0.000</td>\n",
       "      <td>PG-13</td>\n",
       "    </tr>\n",
       "  </tbody>\n",
       "</table>\n",
       "<p>1864 rows × 7 columns</p>\n",
       "</div>"
      ],
      "text/plain": [
       "         imdb_id       budget      revenue  runtime  \\\n",
       "5      tt0120912  140000000.0  445135288.0     88.0   \n",
       "9      tt0145487  139000000.0  821708551.0    121.0   \n",
       "23     tt0164184   68000000.0  193921372.0    124.0   \n",
       "29     tt0167261   79000000.0  926287400.0    179.0   \n",
       "34     tt0179098   21000000.0   10011050.0    117.0   \n",
       "...          ...          ...          ...      ...   \n",
       "44007  tt4027422          0.0          0.0     91.0   \n",
       "44390  tt4246856          0.0          0.0     92.0   \n",
       "44430  tt4288542          0.0    1695006.0     93.0   \n",
       "44638  tt4684268          0.0          0.0     71.0   \n",
       "44685  tt4873226          0.0          0.0     88.0   \n",
       "\n",
       "                                       title  vote_average certification  \n",
       "5                            Men in Black II         6.348         PG-13  \n",
       "9                                 Spider-Man         7.248         PG-13  \n",
       "23                      The Sum of All Fears         6.290         PG-13  \n",
       "29     The Lord of the Rings: The Two Towers         8.368         PG-13  \n",
       "34                            Moonlight Mile         6.305         PG-13  \n",
       "...                                      ...           ...           ...  \n",
       "44007                                Subways         4.000         PG-13  \n",
       "44390                             Wildflower         5.300         PG-13  \n",
       "44430                          Viejos amigos         6.400         PG-13  \n",
       "44638                     The Coffin Footage         3.200         PG-13  \n",
       "44685                Just a Measure of Faith         0.000         PG-13  \n",
       "\n",
       "[1864 rows x 7 columns]"
      ]
     },
     "execution_count": 224,
     "metadata": {},
     "output_type": "execute_result"
    }
   ],
   "source": [
    "pg_13_df = df.loc[(df['certification'] == 'PG-13')]\n",
    "pg_13_df"
   ]
  },
  {
   "cell_type": "markdown",
   "id": "18cbc69e",
   "metadata": {},
   "source": [
    "### Convert back to single df"
   ]
  },
  {
   "cell_type": "code",
   "execution_count": 225,
   "id": "ae101e7a",
   "metadata": {},
   "outputs": [
    {
     "data": {
      "text/html": [
       "<div>\n",
       "<style scoped>\n",
       "    .dataframe tbody tr th:only-of-type {\n",
       "        vertical-align: middle;\n",
       "    }\n",
       "\n",
       "    .dataframe tbody tr th {\n",
       "        vertical-align: top;\n",
       "    }\n",
       "\n",
       "    .dataframe thead th {\n",
       "        text-align: right;\n",
       "    }\n",
       "</style>\n",
       "<table border=\"1\" class=\"dataframe\">\n",
       "  <thead>\n",
       "    <tr style=\"text-align: right;\">\n",
       "      <th></th>\n",
       "      <th>imdb_id</th>\n",
       "      <th>budget</th>\n",
       "      <th>revenue</th>\n",
       "      <th>runtime</th>\n",
       "      <th>title</th>\n",
       "      <th>vote_average</th>\n",
       "      <th>certification</th>\n",
       "    </tr>\n",
       "  </thead>\n",
       "  <tbody>\n",
       "    <tr>\n",
       "      <th>0</th>\n",
       "      <td>tt0146063</td>\n",
       "      <td>0.0</td>\n",
       "      <td>0.0</td>\n",
       "      <td>88.0</td>\n",
       "      <td>The Princess and the Pea</td>\n",
       "      <td>7.100</td>\n",
       "      <td>G</td>\n",
       "    </tr>\n",
       "    <tr>\n",
       "      <th>1</th>\n",
       "      <td>tt0166813</td>\n",
       "      <td>80000000.0</td>\n",
       "      <td>122563539.0</td>\n",
       "      <td>83.0</td>\n",
       "      <td>Spirit: Stallion of the Cimarron</td>\n",
       "      <td>7.691</td>\n",
       "      <td>G</td>\n",
       "    </tr>\n",
       "    <tr>\n",
       "      <th>2</th>\n",
       "      <td>tt0243585</td>\n",
       "      <td>120000000.0</td>\n",
       "      <td>169956806.0</td>\n",
       "      <td>78.0</td>\n",
       "      <td>Stuart Little 2</td>\n",
       "      <td>5.738</td>\n",
       "      <td>G</td>\n",
       "    </tr>\n",
       "    <tr>\n",
       "      <th>3</th>\n",
       "      <td>tt0265662</td>\n",
       "      <td>20000000.0</td>\n",
       "      <td>75597042.0</td>\n",
       "      <td>127.0</td>\n",
       "      <td>The Rookie</td>\n",
       "      <td>6.719</td>\n",
       "      <td>G</td>\n",
       "    </tr>\n",
       "    <tr>\n",
       "      <th>4</th>\n",
       "      <td>tt0271582</td>\n",
       "      <td>0.0</td>\n",
       "      <td>1347988.0</td>\n",
       "      <td>91.0</td>\n",
       "      <td>Joshua</td>\n",
       "      <td>6.500</td>\n",
       "      <td>G</td>\n",
       "    </tr>\n",
       "    <tr>\n",
       "      <th>...</th>\n",
       "      <td>...</td>\n",
       "      <td>...</td>\n",
       "      <td>...</td>\n",
       "      <td>...</td>\n",
       "      <td>...</td>\n",
       "      <td>...</td>\n",
       "      <td>...</td>\n",
       "    </tr>\n",
       "    <tr>\n",
       "      <th>6423</th>\n",
       "      <td>tt4197006</td>\n",
       "      <td>0.0</td>\n",
       "      <td>0.0</td>\n",
       "      <td>70.0</td>\n",
       "      <td>The Sect</td>\n",
       "      <td>3.000</td>\n",
       "      <td>R</td>\n",
       "    </tr>\n",
       "    <tr>\n",
       "      <th>6424</th>\n",
       "      <td>tt4209020</td>\n",
       "      <td>0.0</td>\n",
       "      <td>0.0</td>\n",
       "      <td>72.0</td>\n",
       "      <td>Here kitty kitty!</td>\n",
       "      <td>5.000</td>\n",
       "      <td>R</td>\n",
       "    </tr>\n",
       "    <tr>\n",
       "      <th>6425</th>\n",
       "      <td>tt4416878</td>\n",
       "      <td>0.0</td>\n",
       "      <td>0.0</td>\n",
       "      <td>51.0</td>\n",
       "      <td>Lake Nowhere</td>\n",
       "      <td>6.000</td>\n",
       "      <td>R</td>\n",
       "    </tr>\n",
       "    <tr>\n",
       "      <th>6426</th>\n",
       "      <td>tt4473620</td>\n",
       "      <td>0.0</td>\n",
       "      <td>0.0</td>\n",
       "      <td>90.0</td>\n",
       "      <td>Witching Hour</td>\n",
       "      <td>10.000</td>\n",
       "      <td>R</td>\n",
       "    </tr>\n",
       "    <tr>\n",
       "      <th>6427</th>\n",
       "      <td>tt4768794</td>\n",
       "      <td>0.0</td>\n",
       "      <td>0.0</td>\n",
       "      <td>81.0</td>\n",
       "      <td>I Declare War</td>\n",
       "      <td>3.000</td>\n",
       "      <td>R</td>\n",
       "    </tr>\n",
       "  </tbody>\n",
       "</table>\n",
       "<p>6428 rows × 7 columns</p>\n",
       "</div>"
      ],
      "text/plain": [
       "        imdb_id       budget      revenue  runtime  \\\n",
       "0     tt0146063          0.0          0.0     88.0   \n",
       "1     tt0166813   80000000.0  122563539.0     83.0   \n",
       "2     tt0243585  120000000.0  169956806.0     78.0   \n",
       "3     tt0265662   20000000.0   75597042.0    127.0   \n",
       "4     tt0271582          0.0    1347988.0     91.0   \n",
       "...         ...          ...          ...      ...   \n",
       "6423  tt4197006          0.0          0.0     70.0   \n",
       "6424  tt4209020          0.0          0.0     72.0   \n",
       "6425  tt4416878          0.0          0.0     51.0   \n",
       "6426  tt4473620          0.0          0.0     90.0   \n",
       "6427  tt4768794          0.0          0.0     81.0   \n",
       "\n",
       "                                 title  vote_average certification  \n",
       "0             The Princess and the Pea         7.100             G  \n",
       "1     Spirit: Stallion of the Cimarron         7.691             G  \n",
       "2                      Stuart Little 2         5.738             G  \n",
       "3                           The Rookie         6.719             G  \n",
       "4                               Joshua         6.500             G  \n",
       "...                                ...           ...           ...  \n",
       "6423                          The Sect         3.000             R  \n",
       "6424                 Here kitty kitty!         5.000             R  \n",
       "6425                      Lake Nowhere         6.000             R  \n",
       "6426                     Witching Hour        10.000             R  \n",
       "6427                     I Declare War         3.000             R  \n",
       "\n",
       "[6428 rows x 7 columns]"
      ]
     },
     "execution_count": 225,
     "metadata": {},
     "output_type": "execute_result"
    }
   ],
   "source": [
    "df = pd.concat([g_df,pg_df,pg_13_df,r_df], ignore_index=True)\n",
    "df"
   ]
  },
  {
   "cell_type": "code",
   "execution_count": 226,
   "id": "de666735",
   "metadata": {},
   "outputs": [
    {
     "data": {
      "text/plain": [
       "R        3510\n",
       "PG-13    1864\n",
       "PG        802\n",
       "G         252\n",
       "Name: certification, dtype: int64"
      ]
     },
     "execution_count": 226,
     "metadata": {},
     "output_type": "execute_result"
    }
   ],
   "source": [
    "df['certification'].value_counts()"
   ]
  },
  {
   "cell_type": "markdown",
   "id": "2ace17dc",
   "metadata": {},
   "source": [
    "## Questions to Answer\n",
    "\n",
    "\n",
    "The stakeholder's first question is: does the MPAA rating of a movie (G/PG/PG-13/R) affect how much revenue the movie generates?"
   ]
  },
  {
   "cell_type": "markdown",
   "id": "e2b6668b",
   "metadata": {},
   "source": [
    "Null Hypothesis:  Different MPAA Ratings all have the same revenues.\n",
    "\n",
    "Alternative Hypothesis: Different MPAA Ratings have different Revenues. \n",
    "\n",
    "Using an alpha=.05\n",
    "\n",
    "Going to perform the ANOVA test"
   ]
  },
  {
   "cell_type": "markdown",
   "id": "8600efbd",
   "metadata": {},
   "source": [
    "## Testing Assumptions"
   ]
  },
  {
   "cell_type": "markdown",
   "id": "20e2fd50",
   "metadata": {},
   "source": [
    "## Outliers"
   ]
  },
  {
   "cell_type": "code",
   "execution_count": 227,
   "id": "bdde5964",
   "metadata": {},
   "outputs": [],
   "source": [
    "p = df.loc[ df['certification']=='P',\"revenue\"]\n",
    "pg = df.loc[ df['certification']=='PG',\"revenue\"]\n",
    "pg_13 = df.loc[ df['certification']=='PG-13',\"revenue\"]\n",
    "r = df.loc[ df['certification']=='R',\"revenue\"]"
   ]
  },
  {
   "cell_type": "code",
   "execution_count": 228,
   "id": "30a8e356",
   "metadata": {},
   "outputs": [
    {
     "data": {
      "text/plain": [
       "0"
      ]
     },
     "execution_count": 228,
     "metadata": {},
     "output_type": "execute_result"
    }
   ],
   "source": [
    "zscores_f = stats.zscore(p)\n",
    "outliers_p = abs(zscores_f)>3\n",
    "np.sum(outliers_p)"
   ]
  },
  {
   "cell_type": "markdown",
   "id": "fe9f69d5",
   "metadata": {},
   "source": [
    "Perfect, no outliers to remove."
   ]
  },
  {
   "cell_type": "code",
   "execution_count": 229,
   "id": "67ac1d61",
   "metadata": {},
   "outputs": [
    {
     "data": {
      "text/plain": [
       "27"
      ]
     },
     "execution_count": 229,
     "metadata": {},
     "output_type": "execute_result"
    }
   ],
   "source": [
    "zscores_f = stats.zscore(pg)\n",
    "outliers_pg = abs(zscores_f)>3\n",
    "np.sum(outliers_pg)"
   ]
  },
  {
   "cell_type": "code",
   "execution_count": 230,
   "id": "9053fe10",
   "metadata": {},
   "outputs": [
    {
     "data": {
      "text/plain": [
       "253     109578115.0\n",
       "254      38793283.0\n",
       "255        505675.0\n",
       "256     111127553.0\n",
       "257             0.0\n",
       "           ...     \n",
       "1049            0.0\n",
       "1050            0.0\n",
       "1051            0.0\n",
       "1052            0.0\n",
       "1053            0.0\n",
       "Name: revenue, Length: 775, dtype: float64"
      ]
     },
     "execution_count": 230,
     "metadata": {},
     "output_type": "execute_result"
    }
   ],
   "source": [
    "pg[~outliers_pg]"
   ]
  },
  {
   "cell_type": "code",
   "execution_count": 231,
   "id": "92bf16cb",
   "metadata": {},
   "outputs": [],
   "source": [
    "pg = pg[~outliers_pg]"
   ]
  },
  {
   "cell_type": "code",
   "execution_count": 232,
   "id": "943f706c",
   "metadata": {},
   "outputs": [
    {
     "data": {
      "text/plain": [
       "52"
      ]
     },
     "execution_count": 232,
     "metadata": {},
     "output_type": "execute_result"
    }
   ],
   "source": [
    "zscores_f = stats.zscore(pg_13)\n",
    "outliers_pg_13 = abs(zscores_f)>3\n",
    "np.sum(outliers_pg_13)"
   ]
  },
  {
   "cell_type": "code",
   "execution_count": 233,
   "id": "8f6842d7",
   "metadata": {},
   "outputs": [
    {
     "data": {
      "text/plain": [
       "1054    445135288.0\n",
       "1056    193921372.0\n",
       "1058     10011050.0\n",
       "1059      7103973.0\n",
       "1060    358372926.0\n",
       "           ...     \n",
       "2913            0.0\n",
       "2914            0.0\n",
       "2915      1695006.0\n",
       "2916            0.0\n",
       "2917            0.0\n",
       "Name: revenue, Length: 1812, dtype: float64"
      ]
     },
     "execution_count": 233,
     "metadata": {},
     "output_type": "execute_result"
    }
   ],
   "source": [
    "pg_13[~outliers_pg_13]"
   ]
  },
  {
   "cell_type": "code",
   "execution_count": 234,
   "id": "0f11c31d",
   "metadata": {},
   "outputs": [],
   "source": [
    "pg_13 = pg_13[~outliers_pg_13]"
   ]
  },
  {
   "cell_type": "code",
   "execution_count": 235,
   "id": "1a95eb2e",
   "metadata": {},
   "outputs": [
    {
     "data": {
      "text/plain": [
       "82"
      ]
     },
     "execution_count": 235,
     "metadata": {},
     "output_type": "execute_result"
    }
   ],
   "source": [
    "zscores_f = stats.zscore(r)\n",
    "outliers_r = abs(zscores_f)>3\n",
    "np.sum(outliers_r)"
   ]
  },
  {
   "cell_type": "code",
   "execution_count": 236,
   "id": "890a9c96",
   "metadata": {},
   "outputs": [
    {
     "data": {
      "text/plain": [
       "2918      5227348.0\n",
       "2919     56298474.0\n",
       "2920    102984862.0\n",
       "2921            0.0\n",
       "2922      6632383.0\n",
       "           ...     \n",
       "6423            0.0\n",
       "6424            0.0\n",
       "6425            0.0\n",
       "6426            0.0\n",
       "6427            0.0\n",
       "Name: revenue, Length: 3428, dtype: float64"
      ]
     },
     "execution_count": 236,
     "metadata": {},
     "output_type": "execute_result"
    }
   ],
   "source": [
    "r[~outliers_r]"
   ]
  },
  {
   "cell_type": "code",
   "execution_count": 237,
   "id": "6d6c4888",
   "metadata": {},
   "outputs": [],
   "source": [
    "r = r[~outliers_r]"
   ]
  },
  {
   "cell_type": "markdown",
   "id": "584eb432",
   "metadata": {},
   "source": [
    "## Assumption of normality"
   ]
  },
  {
   "cell_type": "code",
   "execution_count": 238,
   "id": "a1aa0698",
   "metadata": {},
   "outputs": [
    {
     "data": {
      "text/plain": [
       "dict_keys(['G', 'PG', 'PG-13', 'R'])"
      ]
     },
     "execution_count": 238,
     "metadata": {},
     "output_type": "execute_result"
    }
   ],
   "source": [
    "## Create groups dictionary. There are only 3 groups, but this is even more helpful when there are many groups\n",
    "groups = {}\n",
    "## Loop through all unique categories\n",
    "for i in df['certification'].unique():\n",
    "    ## Get series for group and rename\n",
    "    data = df.loc[df['certification']==i,'revenue'].copy()\n",
    "    \n",
    "    # save into the dictionary\n",
    "    groups[i] = data\n",
    "groups.keys()"
   ]
  },
  {
   "cell_type": "code",
   "execution_count": 239,
   "id": "33306ec4",
   "metadata": {},
   "outputs": [
    {
     "data": {
      "text/html": [
       "<div>\n",
       "<style scoped>\n",
       "    .dataframe tbody tr th:only-of-type {\n",
       "        vertical-align: middle;\n",
       "    }\n",
       "\n",
       "    .dataframe tbody tr th {\n",
       "        vertical-align: top;\n",
       "    }\n",
       "\n",
       "    .dataframe thead th {\n",
       "        text-align: right;\n",
       "    }\n",
       "</style>\n",
       "<table border=\"1\" class=\"dataframe\">\n",
       "  <thead>\n",
       "    <tr style=\"text-align: right;\">\n",
       "      <th></th>\n",
       "      <th>n</th>\n",
       "      <th>p</th>\n",
       "      <th>test stat</th>\n",
       "    </tr>\n",
       "  </thead>\n",
       "  <tbody>\n",
       "    <tr>\n",
       "      <th>G</th>\n",
       "      <td>252.0</td>\n",
       "      <td>4.894786e-61</td>\n",
       "      <td>277.739040</td>\n",
       "    </tr>\n",
       "    <tr>\n",
       "      <th>PG</th>\n",
       "      <td>802.0</td>\n",
       "      <td>2.583671e-134</td>\n",
       "      <td>615.194382</td>\n",
       "    </tr>\n",
       "    <tr>\n",
       "      <th>PG-13</th>\n",
       "      <td>1864.0</td>\n",
       "      <td>0.000000e+00</td>\n",
       "      <td>2067.031888</td>\n",
       "    </tr>\n",
       "    <tr>\n",
       "      <th>R</th>\n",
       "      <td>3510.0</td>\n",
       "      <td>0.000000e+00</td>\n",
       "      <td>3927.693039</td>\n",
       "    </tr>\n",
       "  </tbody>\n",
       "</table>\n",
       "</div>"
      ],
      "text/plain": [
       "            n              p    test stat\n",
       "G       252.0   4.894786e-61   277.739040\n",
       "PG      802.0  2.583671e-134   615.194382\n",
       "PG-13  1864.0   0.000000e+00  2067.031888\n",
       "R      3510.0   0.000000e+00  3927.693039"
      ]
     },
     "execution_count": 239,
     "metadata": {},
     "output_type": "execute_result"
    }
   ],
   "source": [
    "## Running normal test on each group and confirming there are >20 in each group\n",
    "norm_results = {}\n",
    "for i, data in groups.items():\n",
    "    stat, p = stats.normaltest(data)\n",
    "    ## save the p val, test statistic, and the size of the group\n",
    "    norm_results[i] = {'n': len(data),\n",
    "                             'p':p,\n",
    "                             'test stat':stat,}\n",
    "## convert to a dataframe\n",
    "norm_results_df = pd.DataFrame(norm_results).T\n",
    "norm_results_df"
   ]
  },
  {
   "cell_type": "code",
   "execution_count": 240,
   "id": "5dd4cdb6",
   "metadata": {},
   "outputs": [
    {
     "data": {
      "text/html": [
       "<div>\n",
       "<style scoped>\n",
       "    .dataframe tbody tr th:only-of-type {\n",
       "        vertical-align: middle;\n",
       "    }\n",
       "\n",
       "    .dataframe tbody tr th {\n",
       "        vertical-align: top;\n",
       "    }\n",
       "\n",
       "    .dataframe thead th {\n",
       "        text-align: right;\n",
       "    }\n",
       "</style>\n",
       "<table border=\"1\" class=\"dataframe\">\n",
       "  <thead>\n",
       "    <tr style=\"text-align: right;\">\n",
       "      <th></th>\n",
       "      <th>n</th>\n",
       "      <th>p</th>\n",
       "      <th>test stat</th>\n",
       "      <th>sig</th>\n",
       "    </tr>\n",
       "  </thead>\n",
       "  <tbody>\n",
       "    <tr>\n",
       "      <th>G</th>\n",
       "      <td>252.0</td>\n",
       "      <td>4.894786e-61</td>\n",
       "      <td>277.739040</td>\n",
       "      <td>True</td>\n",
       "    </tr>\n",
       "    <tr>\n",
       "      <th>PG</th>\n",
       "      <td>802.0</td>\n",
       "      <td>2.583671e-134</td>\n",
       "      <td>615.194382</td>\n",
       "      <td>True</td>\n",
       "    </tr>\n",
       "    <tr>\n",
       "      <th>PG-13</th>\n",
       "      <td>1864.0</td>\n",
       "      <td>0.000000e+00</td>\n",
       "      <td>2067.031888</td>\n",
       "      <td>True</td>\n",
       "    </tr>\n",
       "    <tr>\n",
       "      <th>R</th>\n",
       "      <td>3510.0</td>\n",
       "      <td>0.000000e+00</td>\n",
       "      <td>3927.693039</td>\n",
       "      <td>True</td>\n",
       "    </tr>\n",
       "  </tbody>\n",
       "</table>\n",
       "</div>"
      ],
      "text/plain": [
       "            n              p    test stat   sig\n",
       "G       252.0   4.894786e-61   277.739040  True\n",
       "PG      802.0  2.583671e-134   615.194382  True\n",
       "PG-13  1864.0   0.000000e+00  2067.031888  True\n",
       "R      3510.0   0.000000e+00  3927.693039  True"
      ]
     },
     "execution_count": 240,
     "metadata": {},
     "output_type": "execute_result"
    }
   ],
   "source": [
    "### checking sig with pandas \n",
    "norm_results_df['sig'] = norm_results_df['p'] < .05 \n",
    "norm_results_df"
   ]
  },
  {
   "cell_type": "markdown",
   "id": "d1fc6b60",
   "metadata": {},
   "source": [
    "#### The data is not normally distributed but because of our data size we can safely ignore this."
   ]
  },
  {
   "cell_type": "markdown",
   "id": "7c43b7f9",
   "metadata": {},
   "source": [
    "## Test Assumption of Equal Variance"
   ]
  },
  {
   "cell_type": "code",
   "execution_count": 241,
   "id": "08596493",
   "metadata": {},
   "outputs": [
    {
     "data": {
      "text/plain": [
       "LeveneResult(statistic=103.52523004815562, pvalue=1.8971317837887724e-65)"
      ]
     },
     "execution_count": 241,
     "metadata": {},
     "output_type": "execute_result"
    }
   ],
   "source": [
    "# with the * operator \n",
    "stats.levene(*groups.values())\n",
    "# not using * operator, entering each group manually\n",
    "#stats.levene(groups[p],\n",
    "           # groups[pg],\n",
    "           # groups[pg_13]\n",
    "           # groups[r])"
   ]
  },
  {
   "cell_type": "markdown",
   "id": "c7314619",
   "metadata": {},
   "source": [
    "Our P value is less then our alpha of .05.  I reject the null hypothesis.  There is significant difference between our groups."
   ]
  },
  {
   "cell_type": "code",
   "execution_count": 242,
   "id": "18496721",
   "metadata": {},
   "outputs": [
    {
     "data": {
      "text/plain": [
       "F_onewayResult(statistic=103.19011944196846, pvalue=3.0597325071304903e-65)"
      ]
     },
     "execution_count": 242,
     "metadata": {},
     "output_type": "execute_result"
    }
   ],
   "source": [
    "# perform the correct hypothesis test\n",
    "# note again the use of the * operator for convenience\n",
    "result = stats.f_oneway( *groups.values())\n",
    "result"
   ]
  },
  {
   "cell_type": "markdown",
   "id": "7197df3f",
   "metadata": {},
   "source": [
    "Significant result, with such a low p value we know there are differences between our groups revenue, now to find out which groups are different."
   ]
  },
  {
   "cell_type": "markdown",
   "id": "f8ad695b",
   "metadata": {},
   "source": [
    "## Post-hoc multiple comparison tests"
   ]
  },
  {
   "cell_type": "code",
   "execution_count": 243,
   "id": "c3a6a08c",
   "metadata": {},
   "outputs": [],
   "source": [
    "from statsmodels.stats.multicomp import pairwise_tukeyhsd\n",
    "## save the values as kg_lost and the labels to the Diet\n",
    "values = df['revenue']\n",
    "labels = df['certification']"
   ]
  },
  {
   "cell_type": "code",
   "execution_count": 244,
   "id": "9c9b4b89",
   "metadata": {},
   "outputs": [
    {
     "data": {
      "text/html": [
       "<table class=\"simpletable\">\n",
       "<caption>Multiple Comparison of Means - Tukey HSD, FWER=0.05</caption>\n",
       "<tr>\n",
       "  <th>group1</th> <th>group2</th>    <th>meandiff</th>     <th>p-adj</th>      <th>lower</th>          <th>upper</th>     <th>reject</th>\n",
       "</tr>\n",
       "<tr>\n",
       "     <td>G</td>     <td>PG</td>    <td>25692793.9513</td> <td>0.0143</td>  <td>3701996.9562</td>   <td>47683590.9463</td>  <td>True</td> \n",
       "</tr>\n",
       "<tr>\n",
       "     <td>G</td>    <td>PG-13</td>  <td>26792458.1475</td> <td>0.0042</td>  <td>6354254.3288</td>   <td>47230661.9663</td>  <td>True</td> \n",
       "</tr>\n",
       "<tr>\n",
       "     <td>G</td>      <td>R</td>   <td>-27074922.9739</td> <td>0.0026</td> <td>-46934211.5001</td>  <td>-7215634.4477</td>  <td>True</td> \n",
       "</tr>\n",
       "<tr>\n",
       "    <td>PG</td>    <td>PG-13</td>  <td>1099664.1963</td>  <td>0.9963</td> <td>-11759953.3604</td>  <td>13959281.7529</td>  <td>False</td>\n",
       "</tr>\n",
       "<tr>\n",
       "    <td>PG</td>      <td>R</td>   <td>-52767716.9252</td>  <td>-0.0</td>  <td>-64685809.4375</td> <td>-40849624.4128</td>  <td>True</td> \n",
       "</tr>\n",
       "<tr>\n",
       "   <td>PG-13</td>    <td>R</td>   <td>-53867381.1214</td>  <td>-0.0</td>   <td>-62594691.818</td> <td>-45140070.4249</td>  <td>True</td> \n",
       "</tr>\n",
       "</table>"
      ],
      "text/plain": [
       "<class 'statsmodels.iolib.table.SimpleTable'>"
      ]
     },
     "execution_count": 244,
     "metadata": {},
     "output_type": "execute_result"
    }
   ],
   "source": [
    "## perform tukey's multiple comparison test and display the summary\n",
    "tukeys_results = pairwise_tukeyhsd(values,labels)\n",
    "tukeys_results.summary()"
   ]
  },
  {
   "cell_type": "markdown",
   "id": "bd676bfb",
   "metadata": {},
   "source": [
    "5 significant differences, all our groups are different in terms of revenue except for PG and R."
   ]
  },
  {
   "cell_type": "code",
   "execution_count": 245,
   "id": "874d41f2",
   "metadata": {},
   "outputs": [
    {
     "data": {
      "image/png": "[encoded data removed]",
      "text/plain": [
       "<Figure size 432x288 with 1 Axes>"
      ]
     },
     "metadata": {
      "needs_background": "light"
     },
     "output_type": "display_data"
    }
   ],
   "source": [
    "sns.barplot(data=df, x='certification', y= 'revenue')\n",
    "plt.xticks(rotation = 90)\n",
    "plt.title('Average Revenue By MPAA')\n",
    "plt.xlabel('MPAA Rating')\n",
    "plt.ylabel('Revenue');"
   ]
  },
  {
   "cell_type": "markdown",
   "id": "b2e3dd06",
   "metadata": {},
   "source": [
    "Here we see that movies rated PG and PG-13 attain the highest amount of revenue and we have statistically backed that up with the ANOVA test."
   ]
  },
  {
   "cell_type": "markdown",
   "id": "461aeab8",
   "metadata": {},
   "source": [
    "### To answer the stackholders question we reject the null hypothesis as we see there is a significant difference in revenue based on a movies MPAA rating."
   ]
  },
  {
   "cell_type": "markdown",
   "id": "66b8aff9",
   "metadata": {},
   "source": [
    "## Question 2\n",
    "Does budget effect runtime?\n",
    "Null Hypothesis:  Budget has no effect on a movies runtime.\n",
    "\n",
    "Alternative Hypothesis: Budget has a significant effect on movies runtime.\n",
    "\n",
    "Using an alpha=.05\n",
    "\n",
    "Going to perform the ANOVA test"
   ]
  }
 ],
 "metadata": {
  "kernelspec": {
   "display_name": "Python (dojo-env)",
   "language": "python",
   "name": "dojo-env"
  },
  "language_info": {
   "codemirror_mode": {
    "name": "ipython",
    "version": 3
   },
   "file_extension": ".py",
   "mimetype": "text/x-python",
   "name": "python",
   "nbconvert_exporter": "python",
   "pygments_lexer": "ipython3",
   "version": "3.8.13"
  },
  "toc": {
   "base_numbering": 1,
   "nav_menu": {},
   "number_sections": false,
   "sideBar": true,
   "skip_h1_title": false,
   "title_cell": "Table of Contents",
   "title_sidebar": "Contents",
   "toc_cell": false,
   "toc_position": {},
   "toc_section_display": true,
   "toc_window_display": false
  }
 },
 "nbformat": 4,
 "nbformat_minor": 5
}

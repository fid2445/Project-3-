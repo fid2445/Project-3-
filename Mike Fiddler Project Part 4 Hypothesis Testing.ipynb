{
 "cells": [
  {
   "cell_type": "code",
   "execution_count": 188,
   "id": "b82bad3f",
   "metadata": {},
   "outputs": [
    {
     "data": {
      "text/html": [
       "<div>\n",
       "<style scoped>\n",
       "    .dataframe tbody tr th:only-of-type {\n",
       "        vertical-align: middle;\n",
       "    }\n",
       "\n",
       "    .dataframe tbody tr th {\n",
       "        vertical-align: top;\n",
       "    }\n",
       "\n",
       "    .dataframe thead th {\n",
       "        text-align: right;\n",
       "    }\n",
       "</style>\n",
       "<table border=\"1\" class=\"dataframe\">\n",
       "  <thead>\n",
       "    <tr style=\"text-align: right;\">\n",
       "      <th></th>\n",
       "      <th>imdb_id</th>\n",
       "      <th>budget</th>\n",
       "      <th>revenue</th>\n",
       "      <th>title</th>\n",
       "      <th>certification</th>\n",
       "    </tr>\n",
       "  </thead>\n",
       "  <tbody>\n",
       "    <tr>\n",
       "      <th>0</th>\n",
       "      <td>tt0096056</td>\n",
       "      <td>0.0</td>\n",
       "      <td>0.0</td>\n",
       "      <td>Crime and Punishment</td>\n",
       "      <td>NaN</td>\n",
       "    </tr>\n",
       "    <tr>\n",
       "      <th>1</th>\n",
       "      <td>tt0118926</td>\n",
       "      <td>0.0</td>\n",
       "      <td>5227348.0</td>\n",
       "      <td>The Dancer Upstairs</td>\n",
       "      <td>R</td>\n",
       "    </tr>\n",
       "    <tr>\n",
       "      <th>2</th>\n",
       "      <td>tt0119980</td>\n",
       "      <td>0.0</td>\n",
       "      <td>0.0</td>\n",
       "      <td>Random Shooting in LA</td>\n",
       "      <td>NaN</td>\n",
       "    </tr>\n",
       "    <tr>\n",
       "      <th>3</th>\n",
       "      <td>tt0120679</td>\n",
       "      <td>12000000.0</td>\n",
       "      <td>56298474.0</td>\n",
       "      <td>Frida</td>\n",
       "      <td>R</td>\n",
       "    </tr>\n",
       "    <tr>\n",
       "      <th>4</th>\n",
       "      <td>tt0120804</td>\n",
       "      <td>33000000.0</td>\n",
       "      <td>102984862.0</td>\n",
       "      <td>Resident Evil</td>\n",
       "      <td>R</td>\n",
       "    </tr>\n",
       "  </tbody>\n",
       "</table>\n",
       "</div>"
      ],
      "text/plain": [
       "     imdb_id      budget      revenue                  title certification\n",
       "0  tt0096056         0.0          0.0   Crime and Punishment           NaN\n",
       "1  tt0118926         0.0    5227348.0    The Dancer Upstairs             R\n",
       "2  tt0119980         0.0          0.0  Random Shooting in LA           NaN\n",
       "3  tt0120679  12000000.0   56298474.0                  Frida             R\n",
       "4  tt0120804  33000000.0  102984862.0          Resident Evil             R"
      ]
     },
     "execution_count": 188,
     "metadata": {},
     "output_type": "execute_result"
    }
   ],
   "source": [
    "import pandas as pd\n",
    "import seaborn as sns\n",
    "import matplotlib.pyplot as plt\n",
    "import numpy as np\n",
    "import scipy.stats as stats\n",
    "import scipy\n",
    "scipy.__version__\n",
    "\n",
    "\n",
    "df = pd.read_csv('Data/df_2002-2014_no_2007.csv.gz', low_memory=False)\n",
    "df.head()"
   ]
  },
  {
   "cell_type": "code",
   "execution_count": 189,
   "id": "30888617",
   "metadata": {},
   "outputs": [
    {
     "data": {
      "text/plain": [
       "imdb_id          0\n",
       "budget           0\n",
       "revenue          0\n",
       "title            0\n",
       "certification    0\n",
       "dtype: int64"
      ]
     },
     "execution_count": 189,
     "metadata": {},
     "output_type": "execute_result"
    }
   ],
   "source": [
    "df.dropna(subset=['certification'], inplace=True)\n",
    "df.isna().sum()"
   ]
  },
  {
   "cell_type": "code",
   "execution_count": 190,
   "id": "4bd05d46",
   "metadata": {},
   "outputs": [
    {
     "data": {
      "text/plain": [
       "R                                  3509\n",
       "PG-13                              1863\n",
       "NR                                 1646\n",
       "PG                                  802\n",
       "G                                   252\n",
       "NC-17                                91\n",
       "UR                                    1\n",
       "Not Rated                             1\n",
       "ScreamFest Horror Film Festival       1\n",
       "12                                    1\n",
       "R                                     1\n",
       "PG-13                                 1\n",
       "10                                    1\n",
       "Name: certification, dtype: int64"
      ]
     },
     "execution_count": 190,
     "metadata": {},
     "output_type": "execute_result"
    }
   ],
   "source": [
    "df['certification'].value_counts()"
   ]
  },
  {
   "cell_type": "markdown",
   "id": "eee06340",
   "metadata": {},
   "source": [
    "## getting only the certifications I want"
   ]
  },
  {
   "cell_type": "code",
   "execution_count": 191,
   "id": "e667bdf6",
   "metadata": {},
   "outputs": [
    {
     "data": {
      "text/plain": [
       "R                                  3510\n",
       "PG-13                              1864\n",
       "NR                                 1646\n",
       "PG                                  802\n",
       "G                                   252\n",
       "NC-17                                91\n",
       "UR                                    1\n",
       "Not Rated                             1\n",
       "ScreamFest Horror Film Festival       1\n",
       "12                                    1\n",
       "10                                    1\n",
       "Name: certification, dtype: int64"
      ]
     },
     "execution_count": 191,
     "metadata": {},
     "output_type": "execute_result"
    }
   ],
   "source": [
    "df['certification'] = df['certification'].str.strip()\n",
    "df['certification'].value_counts()"
   ]
  },
  {
   "cell_type": "code",
   "execution_count": 192,
   "id": "8c5536d2",
   "metadata": {},
   "outputs": [
    {
     "data": {
      "text/html": [
       "<div>\n",
       "<style scoped>\n",
       "    .dataframe tbody tr th:only-of-type {\n",
       "        vertical-align: middle;\n",
       "    }\n",
       "\n",
       "    .dataframe tbody tr th {\n",
       "        vertical-align: top;\n",
       "    }\n",
       "\n",
       "    .dataframe thead th {\n",
       "        text-align: right;\n",
       "    }\n",
       "</style>\n",
       "<table border=\"1\" class=\"dataframe\">\n",
       "  <thead>\n",
       "    <tr style=\"text-align: right;\">\n",
       "      <th></th>\n",
       "      <th>imdb_id</th>\n",
       "      <th>budget</th>\n",
       "      <th>revenue</th>\n",
       "      <th>title</th>\n",
       "      <th>certification</th>\n",
       "    </tr>\n",
       "  </thead>\n",
       "  <tbody>\n",
       "    <tr>\n",
       "      <th>1</th>\n",
       "      <td>tt0118926</td>\n",
       "      <td>0.0</td>\n",
       "      <td>5227348.0</td>\n",
       "      <td>The Dancer Upstairs</td>\n",
       "      <td>R</td>\n",
       "    </tr>\n",
       "    <tr>\n",
       "      <th>3</th>\n",
       "      <td>tt0120679</td>\n",
       "      <td>12000000.0</td>\n",
       "      <td>56298474.0</td>\n",
       "      <td>Frida</td>\n",
       "      <td>R</td>\n",
       "    </tr>\n",
       "    <tr>\n",
       "      <th>4</th>\n",
       "      <td>tt0120804</td>\n",
       "      <td>33000000.0</td>\n",
       "      <td>102984862.0</td>\n",
       "      <td>Resident Evil</td>\n",
       "      <td>R</td>\n",
       "    </tr>\n",
       "    <tr>\n",
       "      <th>11</th>\n",
       "      <td>tt0149253</td>\n",
       "      <td>0.0</td>\n",
       "      <td>0.0</td>\n",
       "      <td>Texas '46</td>\n",
       "      <td>R</td>\n",
       "    </tr>\n",
       "    <tr>\n",
       "      <th>15</th>\n",
       "      <td>tt0160184</td>\n",
       "      <td>55000000.0</td>\n",
       "      <td>6632383.0</td>\n",
       "      <td>D-Tox</td>\n",
       "      <td>R</td>\n",
       "    </tr>\n",
       "    <tr>\n",
       "      <th>...</th>\n",
       "      <td>...</td>\n",
       "      <td>...</td>\n",
       "      <td>...</td>\n",
       "      <td>...</td>\n",
       "      <td>...</td>\n",
       "    </tr>\n",
       "    <tr>\n",
       "      <th>44307</th>\n",
       "      <td>tt4197006</td>\n",
       "      <td>0.0</td>\n",
       "      <td>0.0</td>\n",
       "      <td>The Sect</td>\n",
       "      <td>R</td>\n",
       "    </tr>\n",
       "    <tr>\n",
       "      <th>44329</th>\n",
       "      <td>tt4209020</td>\n",
       "      <td>0.0</td>\n",
       "      <td>0.0</td>\n",
       "      <td>Here kitty kitty!</td>\n",
       "      <td>R</td>\n",
       "    </tr>\n",
       "    <tr>\n",
       "      <th>44538</th>\n",
       "      <td>tt4416878</td>\n",
       "      <td>0.0</td>\n",
       "      <td>0.0</td>\n",
       "      <td>Lake Nowhere</td>\n",
       "      <td>R</td>\n",
       "    </tr>\n",
       "    <tr>\n",
       "      <th>44561</th>\n",
       "      <td>tt4473620</td>\n",
       "      <td>0.0</td>\n",
       "      <td>0.0</td>\n",
       "      <td>Witching Hour</td>\n",
       "      <td>R</td>\n",
       "    </tr>\n",
       "    <tr>\n",
       "      <th>44659</th>\n",
       "      <td>tt4768794</td>\n",
       "      <td>0.0</td>\n",
       "      <td>0.0</td>\n",
       "      <td>I Declare War</td>\n",
       "      <td>R</td>\n",
       "    </tr>\n",
       "  </tbody>\n",
       "</table>\n",
       "<p>3510 rows × 5 columns</p>\n",
       "</div>"
      ],
      "text/plain": [
       "         imdb_id      budget      revenue                title certification\n",
       "1      tt0118926         0.0    5227348.0  The Dancer Upstairs             R\n",
       "3      tt0120679  12000000.0   56298474.0                Frida             R\n",
       "4      tt0120804  33000000.0  102984862.0        Resident Evil             R\n",
       "11     tt0149253         0.0          0.0            Texas '46             R\n",
       "15     tt0160184  55000000.0    6632383.0                D-Tox             R\n",
       "...          ...         ...          ...                  ...           ...\n",
       "44307  tt4197006         0.0          0.0             The Sect             R\n",
       "44329  tt4209020         0.0          0.0    Here kitty kitty!             R\n",
       "44538  tt4416878         0.0          0.0         Lake Nowhere             R\n",
       "44561  tt4473620         0.0          0.0        Witching Hour             R\n",
       "44659  tt4768794         0.0          0.0        I Declare War             R\n",
       "\n",
       "[3510 rows x 5 columns]"
      ]
     },
     "execution_count": 192,
     "metadata": {},
     "output_type": "execute_result"
    }
   ],
   "source": [
    "r_df = df.loc[(df['certification'] == 'R')]\n",
    "r_df"
   ]
  },
  {
   "cell_type": "code",
   "execution_count": 193,
   "id": "1f41d7f9",
   "metadata": {},
   "outputs": [
    {
     "data": {
      "text/html": [
       "<div>\n",
       "<style scoped>\n",
       "    .dataframe tbody tr th:only-of-type {\n",
       "        vertical-align: middle;\n",
       "    }\n",
       "\n",
       "    .dataframe tbody tr th {\n",
       "        vertical-align: top;\n",
       "    }\n",
       "\n",
       "    .dataframe thead th {\n",
       "        text-align: right;\n",
       "    }\n",
       "</style>\n",
       "<table border=\"1\" class=\"dataframe\">\n",
       "  <thead>\n",
       "    <tr style=\"text-align: right;\">\n",
       "      <th></th>\n",
       "      <th>imdb_id</th>\n",
       "      <th>budget</th>\n",
       "      <th>revenue</th>\n",
       "      <th>title</th>\n",
       "      <th>certification</th>\n",
       "    </tr>\n",
       "  </thead>\n",
       "  <tbody>\n",
       "    <tr>\n",
       "      <th>10</th>\n",
       "      <td>tt0146063</td>\n",
       "      <td>0.0</td>\n",
       "      <td>0.0</td>\n",
       "      <td>The Princess and the Pea</td>\n",
       "      <td>G</td>\n",
       "    </tr>\n",
       "    <tr>\n",
       "      <th>27</th>\n",
       "      <td>tt0166813</td>\n",
       "      <td>80000000.0</td>\n",
       "      <td>122563539.0</td>\n",
       "      <td>Spirit: Stallion of the Cimarron</td>\n",
       "      <td>G</td>\n",
       "    </tr>\n",
       "    <tr>\n",
       "      <th>115</th>\n",
       "      <td>tt0243585</td>\n",
       "      <td>120000000.0</td>\n",
       "      <td>169956806.0</td>\n",
       "      <td>Stuart Little 2</td>\n",
       "      <td>G</td>\n",
       "    </tr>\n",
       "    <tr>\n",
       "      <th>231</th>\n",
       "      <td>tt0265662</td>\n",
       "      <td>20000000.0</td>\n",
       "      <td>75597042.0</td>\n",
       "      <td>The Rookie</td>\n",
       "      <td>G</td>\n",
       "    </tr>\n",
       "    <tr>\n",
       "      <th>276</th>\n",
       "      <td>tt0271582</td>\n",
       "      <td>0.0</td>\n",
       "      <td>1347988.0</td>\n",
       "      <td>Joshua</td>\n",
       "      <td>G</td>\n",
       "    </tr>\n",
       "    <tr>\n",
       "      <th>...</th>\n",
       "      <td>...</td>\n",
       "      <td>...</td>\n",
       "      <td>...</td>\n",
       "      <td>...</td>\n",
       "      <td>...</td>\n",
       "    </tr>\n",
       "    <tr>\n",
       "      <th>44228</th>\n",
       "      <td>tt4150316</td>\n",
       "      <td>0.0</td>\n",
       "      <td>0.0</td>\n",
       "      <td>Frozen in Time</td>\n",
       "      <td>G</td>\n",
       "    </tr>\n",
       "    <tr>\n",
       "      <th>44241</th>\n",
       "      <td>tt4157940</td>\n",
       "      <td>0.0</td>\n",
       "      <td>8520000.0</td>\n",
       "      <td>The Magical Brush</td>\n",
       "      <td>G</td>\n",
       "    </tr>\n",
       "    <tr>\n",
       "      <th>44558</th>\n",
       "      <td>tt4468650</td>\n",
       "      <td>0.0</td>\n",
       "      <td>0.0</td>\n",
       "      <td>神秘世界历险记2</td>\n",
       "      <td>G</td>\n",
       "    </tr>\n",
       "    <tr>\n",
       "      <th>44615</th>\n",
       "      <td>tt4591840</td>\n",
       "      <td>10000000.0</td>\n",
       "      <td>0.0</td>\n",
       "      <td>A Christmas Star</td>\n",
       "      <td>G</td>\n",
       "    </tr>\n",
       "    <tr>\n",
       "      <th>44875</th>\n",
       "      <td>tt7266208</td>\n",
       "      <td>0.0</td>\n",
       "      <td>0.0</td>\n",
       "      <td>Lots &amp; Lots of Trains - Songs For Kids</td>\n",
       "      <td>G</td>\n",
       "    </tr>\n",
       "  </tbody>\n",
       "</table>\n",
       "<p>252 rows × 5 columns</p>\n",
       "</div>"
      ],
      "text/plain": [
       "         imdb_id       budget      revenue  \\\n",
       "10     tt0146063          0.0          0.0   \n",
       "27     tt0166813   80000000.0  122563539.0   \n",
       "115    tt0243585  120000000.0  169956806.0   \n",
       "231    tt0265662   20000000.0   75597042.0   \n",
       "276    tt0271582          0.0    1347988.0   \n",
       "...          ...          ...          ...   \n",
       "44228  tt4150316          0.0          0.0   \n",
       "44241  tt4157940          0.0    8520000.0   \n",
       "44558  tt4468650          0.0          0.0   \n",
       "44615  tt4591840   10000000.0          0.0   \n",
       "44875  tt7266208          0.0          0.0   \n",
       "\n",
       "                                        title certification  \n",
       "10                   The Princess and the Pea             G  \n",
       "27           Spirit: Stallion of the Cimarron             G  \n",
       "115                           Stuart Little 2             G  \n",
       "231                                The Rookie             G  \n",
       "276                                    Joshua             G  \n",
       "...                                       ...           ...  \n",
       "44228                          Frozen in Time             G  \n",
       "44241                       The Magical Brush             G  \n",
       "44558                                神秘世界历险记2             G  \n",
       "44615                        A Christmas Star             G  \n",
       "44875  Lots & Lots of Trains - Songs For Kids             G  \n",
       "\n",
       "[252 rows x 5 columns]"
      ]
     },
     "execution_count": 193,
     "metadata": {},
     "output_type": "execute_result"
    }
   ],
   "source": [
    "g_df = df.loc[(df['certification'] == 'G')]\n",
    "g_df"
   ]
  },
  {
   "cell_type": "code",
   "execution_count": 194,
   "id": "2bdb2330",
   "metadata": {},
   "outputs": [
    {
     "data": {
      "text/html": [
       "<div>\n",
       "<style scoped>\n",
       "    .dataframe tbody tr th:only-of-type {\n",
       "        vertical-align: middle;\n",
       "    }\n",
       "\n",
       "    .dataframe tbody tr th {\n",
       "        vertical-align: top;\n",
       "    }\n",
       "\n",
       "    .dataframe thead th {\n",
       "        text-align: right;\n",
       "    }\n",
       "</style>\n",
       "<table border=\"1\" class=\"dataframe\">\n",
       "  <thead>\n",
       "    <tr style=\"text-align: right;\">\n",
       "      <th></th>\n",
       "      <th>imdb_id</th>\n",
       "      <th>budget</th>\n",
       "      <th>revenue</th>\n",
       "      <th>title</th>\n",
       "      <th>certification</th>\n",
       "    </tr>\n",
       "  </thead>\n",
       "  <tbody>\n",
       "    <tr>\n",
       "      <th>6</th>\n",
       "      <td>tt0121765</td>\n",
       "      <td>120000000.0</td>\n",
       "      <td>649398328.0</td>\n",
       "      <td>Star Wars: Episode II - Attack of the Clones</td>\n",
       "      <td>PG</td>\n",
       "    </tr>\n",
       "    <tr>\n",
       "      <th>8</th>\n",
       "      <td>tt0133240</td>\n",
       "      <td>140000000.0</td>\n",
       "      <td>109578115.0</td>\n",
       "      <td>Treasure Planet</td>\n",
       "      <td>PG</td>\n",
       "    </tr>\n",
       "    <tr>\n",
       "      <th>14</th>\n",
       "      <td>tt0157472</td>\n",
       "      <td>26000000.0</td>\n",
       "      <td>38793283.0</td>\n",
       "      <td>Clockstoppers</td>\n",
       "      <td>PG</td>\n",
       "    </tr>\n",
       "    <tr>\n",
       "      <th>140</th>\n",
       "      <td>tt0248169</td>\n",
       "      <td>0.0</td>\n",
       "      <td>505675.0</td>\n",
       "      <td>Manna from Heaven</td>\n",
       "      <td>PG</td>\n",
       "    </tr>\n",
       "    <tr>\n",
       "      <th>148</th>\n",
       "      <td>tt0250223</td>\n",
       "      <td>58500000.0</td>\n",
       "      <td>111127553.0</td>\n",
       "      <td>Asterix &amp; Obelix: Mission Cleopatra</td>\n",
       "      <td>PG</td>\n",
       "    </tr>\n",
       "    <tr>\n",
       "      <th>...</th>\n",
       "      <td>...</td>\n",
       "      <td>...</td>\n",
       "      <td>...</td>\n",
       "      <td>...</td>\n",
       "      <td>...</td>\n",
       "    </tr>\n",
       "    <tr>\n",
       "      <th>43883</th>\n",
       "      <td>tt3949650</td>\n",
       "      <td>33989696.0</td>\n",
       "      <td>0.0</td>\n",
       "      <td>Doraemon: New Nobita's Great Demon – Peko and ...</td>\n",
       "      <td>PG</td>\n",
       "    </tr>\n",
       "    <tr>\n",
       "      <th>44036</th>\n",
       "      <td>tt4044488</td>\n",
       "      <td>0.0</td>\n",
       "      <td>0.0</td>\n",
       "      <td>Message of Hope</td>\n",
       "      <td>PG</td>\n",
       "    </tr>\n",
       "    <tr>\n",
       "      <th>44042</th>\n",
       "      <td>tt4045666</td>\n",
       "      <td>0.0</td>\n",
       "      <td>0.0</td>\n",
       "      <td>Mumbai Delhi Mumbai</td>\n",
       "      <td>PG</td>\n",
       "    </tr>\n",
       "    <tr>\n",
       "      <th>44072</th>\n",
       "      <td>tt4061848</td>\n",
       "      <td>0.0</td>\n",
       "      <td>0.0</td>\n",
       "      <td>Alpha and Omega: The Legend of the Saw Tooth Cave</td>\n",
       "      <td>PG</td>\n",
       "    </tr>\n",
       "    <tr>\n",
       "      <th>44488</th>\n",
       "      <td>tt4329098</td>\n",
       "      <td>0.0</td>\n",
       "      <td>0.0</td>\n",
       "      <td>Sugar Daddies</td>\n",
       "      <td>PG</td>\n",
       "    </tr>\n",
       "  </tbody>\n",
       "</table>\n",
       "<p>802 rows × 5 columns</p>\n",
       "</div>"
      ],
      "text/plain": [
       "         imdb_id       budget      revenue  \\\n",
       "6      tt0121765  120000000.0  649398328.0   \n",
       "8      tt0133240  140000000.0  109578115.0   \n",
       "14     tt0157472   26000000.0   38793283.0   \n",
       "140    tt0248169          0.0     505675.0   \n",
       "148    tt0250223   58500000.0  111127553.0   \n",
       "...          ...          ...          ...   \n",
       "43883  tt3949650   33989696.0          0.0   \n",
       "44036  tt4044488          0.0          0.0   \n",
       "44042  tt4045666          0.0          0.0   \n",
       "44072  tt4061848          0.0          0.0   \n",
       "44488  tt4329098          0.0          0.0   \n",
       "\n",
       "                                                   title certification  \n",
       "6           Star Wars: Episode II - Attack of the Clones            PG  \n",
       "8                                        Treasure Planet            PG  \n",
       "14                                         Clockstoppers            PG  \n",
       "140                                    Manna from Heaven            PG  \n",
       "148                  Asterix & Obelix: Mission Cleopatra            PG  \n",
       "...                                                  ...           ...  \n",
       "43883  Doraemon: New Nobita's Great Demon – Peko and ...            PG  \n",
       "44036                                    Message of Hope            PG  \n",
       "44042                                Mumbai Delhi Mumbai            PG  \n",
       "44072  Alpha and Omega: The Legend of the Saw Tooth Cave            PG  \n",
       "44488                                      Sugar Daddies            PG  \n",
       "\n",
       "[802 rows x 5 columns]"
      ]
     },
     "execution_count": 194,
     "metadata": {},
     "output_type": "execute_result"
    }
   ],
   "source": [
    "pg_df = df.loc[(df['certification'] == 'PG')]\n",
    "pg_df"
   ]
  },
  {
   "cell_type": "code",
   "execution_count": 195,
   "id": "93082256",
   "metadata": {},
   "outputs": [
    {
     "data": {
      "text/html": [
       "<div>\n",
       "<style scoped>\n",
       "    .dataframe tbody tr th:only-of-type {\n",
       "        vertical-align: middle;\n",
       "    }\n",
       "\n",
       "    .dataframe tbody tr th {\n",
       "        vertical-align: top;\n",
       "    }\n",
       "\n",
       "    .dataframe thead th {\n",
       "        text-align: right;\n",
       "    }\n",
       "</style>\n",
       "<table border=\"1\" class=\"dataframe\">\n",
       "  <thead>\n",
       "    <tr style=\"text-align: right;\">\n",
       "      <th></th>\n",
       "      <th>imdb_id</th>\n",
       "      <th>budget</th>\n",
       "      <th>revenue</th>\n",
       "      <th>title</th>\n",
       "      <th>certification</th>\n",
       "    </tr>\n",
       "  </thead>\n",
       "  <tbody>\n",
       "    <tr>\n",
       "      <th>5</th>\n",
       "      <td>tt0120912</td>\n",
       "      <td>140000000.0</td>\n",
       "      <td>445135288.0</td>\n",
       "      <td>Men in Black II</td>\n",
       "      <td>PG-13</td>\n",
       "    </tr>\n",
       "    <tr>\n",
       "      <th>9</th>\n",
       "      <td>tt0145487</td>\n",
       "      <td>139000000.0</td>\n",
       "      <td>821708551.0</td>\n",
       "      <td>Spider-Man</td>\n",
       "      <td>PG-13</td>\n",
       "    </tr>\n",
       "    <tr>\n",
       "      <th>23</th>\n",
       "      <td>tt0164184</td>\n",
       "      <td>68000000.0</td>\n",
       "      <td>193921372.0</td>\n",
       "      <td>The Sum of All Fears</td>\n",
       "      <td>PG-13</td>\n",
       "    </tr>\n",
       "    <tr>\n",
       "      <th>29</th>\n",
       "      <td>tt0167261</td>\n",
       "      <td>79000000.0</td>\n",
       "      <td>926287400.0</td>\n",
       "      <td>The Lord of the Rings: The Two Towers</td>\n",
       "      <td>PG-13</td>\n",
       "    </tr>\n",
       "    <tr>\n",
       "      <th>34</th>\n",
       "      <td>tt0179098</td>\n",
       "      <td>21000000.0</td>\n",
       "      <td>10011050.0</td>\n",
       "      <td>Moonlight Mile</td>\n",
       "      <td>PG-13</td>\n",
       "    </tr>\n",
       "    <tr>\n",
       "      <th>...</th>\n",
       "      <td>...</td>\n",
       "      <td>...</td>\n",
       "      <td>...</td>\n",
       "      <td>...</td>\n",
       "      <td>...</td>\n",
       "    </tr>\n",
       "    <tr>\n",
       "      <th>44007</th>\n",
       "      <td>tt4027422</td>\n",
       "      <td>0.0</td>\n",
       "      <td>0.0</td>\n",
       "      <td>Subways</td>\n",
       "      <td>PG-13</td>\n",
       "    </tr>\n",
       "    <tr>\n",
       "      <th>44390</th>\n",
       "      <td>tt4246856</td>\n",
       "      <td>0.0</td>\n",
       "      <td>0.0</td>\n",
       "      <td>Wildflower</td>\n",
       "      <td>PG-13</td>\n",
       "    </tr>\n",
       "    <tr>\n",
       "      <th>44430</th>\n",
       "      <td>tt4288542</td>\n",
       "      <td>0.0</td>\n",
       "      <td>1695006.0</td>\n",
       "      <td>Viejos amigos</td>\n",
       "      <td>PG-13</td>\n",
       "    </tr>\n",
       "    <tr>\n",
       "      <th>44638</th>\n",
       "      <td>tt4684268</td>\n",
       "      <td>0.0</td>\n",
       "      <td>0.0</td>\n",
       "      <td>The Coffin Footage</td>\n",
       "      <td>PG-13</td>\n",
       "    </tr>\n",
       "    <tr>\n",
       "      <th>44685</th>\n",
       "      <td>tt4873226</td>\n",
       "      <td>0.0</td>\n",
       "      <td>0.0</td>\n",
       "      <td>Just a Measure of Faith</td>\n",
       "      <td>PG-13</td>\n",
       "    </tr>\n",
       "  </tbody>\n",
       "</table>\n",
       "<p>1864 rows × 5 columns</p>\n",
       "</div>"
      ],
      "text/plain": [
       "         imdb_id       budget      revenue  \\\n",
       "5      tt0120912  140000000.0  445135288.0   \n",
       "9      tt0145487  139000000.0  821708551.0   \n",
       "23     tt0164184   68000000.0  193921372.0   \n",
       "29     tt0167261   79000000.0  926287400.0   \n",
       "34     tt0179098   21000000.0   10011050.0   \n",
       "...          ...          ...          ...   \n",
       "44007  tt4027422          0.0          0.0   \n",
       "44390  tt4246856          0.0          0.0   \n",
       "44430  tt4288542          0.0    1695006.0   \n",
       "44638  tt4684268          0.0          0.0   \n",
       "44685  tt4873226          0.0          0.0   \n",
       "\n",
       "                                       title certification  \n",
       "5                            Men in Black II         PG-13  \n",
       "9                                 Spider-Man         PG-13  \n",
       "23                      The Sum of All Fears         PG-13  \n",
       "29     The Lord of the Rings: The Two Towers         PG-13  \n",
       "34                            Moonlight Mile         PG-13  \n",
       "...                                      ...           ...  \n",
       "44007                                Subways         PG-13  \n",
       "44390                             Wildflower         PG-13  \n",
       "44430                          Viejos amigos         PG-13  \n",
       "44638                     The Coffin Footage         PG-13  \n",
       "44685                Just a Measure of Faith         PG-13  \n",
       "\n",
       "[1864 rows x 5 columns]"
      ]
     },
     "execution_count": 195,
     "metadata": {},
     "output_type": "execute_result"
    }
   ],
   "source": [
    "pg_13_df = df.loc[(df['certification'] == 'PG-13')]\n",
    "pg_13_df"
   ]
  },
  {
   "cell_type": "markdown",
   "id": "e33e3d54",
   "metadata": {},
   "source": [
    "### Convert back to single df"
   ]
  },
  {
   "cell_type": "code",
   "execution_count": 196,
   "id": "f0b53978",
   "metadata": {},
   "outputs": [
    {
     "data": {
      "text/html": [
       "<div>\n",
       "<style scoped>\n",
       "    .dataframe tbody tr th:only-of-type {\n",
       "        vertical-align: middle;\n",
       "    }\n",
       "\n",
       "    .dataframe tbody tr th {\n",
       "        vertical-align: top;\n",
       "    }\n",
       "\n",
       "    .dataframe thead th {\n",
       "        text-align: right;\n",
       "    }\n",
       "</style>\n",
       "<table border=\"1\" class=\"dataframe\">\n",
       "  <thead>\n",
       "    <tr style=\"text-align: right;\">\n",
       "      <th></th>\n",
       "      <th>imdb_id</th>\n",
       "      <th>budget</th>\n",
       "      <th>revenue</th>\n",
       "      <th>title</th>\n",
       "      <th>certification</th>\n",
       "    </tr>\n",
       "  </thead>\n",
       "  <tbody>\n",
       "    <tr>\n",
       "      <th>0</th>\n",
       "      <td>tt0146063</td>\n",
       "      <td>0.0</td>\n",
       "      <td>0.0</td>\n",
       "      <td>The Princess and the Pea</td>\n",
       "      <td>G</td>\n",
       "    </tr>\n",
       "    <tr>\n",
       "      <th>1</th>\n",
       "      <td>tt0166813</td>\n",
       "      <td>80000000.0</td>\n",
       "      <td>122563539.0</td>\n",
       "      <td>Spirit: Stallion of the Cimarron</td>\n",
       "      <td>G</td>\n",
       "    </tr>\n",
       "    <tr>\n",
       "      <th>2</th>\n",
       "      <td>tt0243585</td>\n",
       "      <td>120000000.0</td>\n",
       "      <td>169956806.0</td>\n",
       "      <td>Stuart Little 2</td>\n",
       "      <td>G</td>\n",
       "    </tr>\n",
       "    <tr>\n",
       "      <th>3</th>\n",
       "      <td>tt0265662</td>\n",
       "      <td>20000000.0</td>\n",
       "      <td>75597042.0</td>\n",
       "      <td>The Rookie</td>\n",
       "      <td>G</td>\n",
       "    </tr>\n",
       "    <tr>\n",
       "      <th>4</th>\n",
       "      <td>tt0271582</td>\n",
       "      <td>0.0</td>\n",
       "      <td>1347988.0</td>\n",
       "      <td>Joshua</td>\n",
       "      <td>G</td>\n",
       "    </tr>\n",
       "    <tr>\n",
       "      <th>...</th>\n",
       "      <td>...</td>\n",
       "      <td>...</td>\n",
       "      <td>...</td>\n",
       "      <td>...</td>\n",
       "      <td>...</td>\n",
       "    </tr>\n",
       "    <tr>\n",
       "      <th>6423</th>\n",
       "      <td>tt4197006</td>\n",
       "      <td>0.0</td>\n",
       "      <td>0.0</td>\n",
       "      <td>The Sect</td>\n",
       "      <td>R</td>\n",
       "    </tr>\n",
       "    <tr>\n",
       "      <th>6424</th>\n",
       "      <td>tt4209020</td>\n",
       "      <td>0.0</td>\n",
       "      <td>0.0</td>\n",
       "      <td>Here kitty kitty!</td>\n",
       "      <td>R</td>\n",
       "    </tr>\n",
       "    <tr>\n",
       "      <th>6425</th>\n",
       "      <td>tt4416878</td>\n",
       "      <td>0.0</td>\n",
       "      <td>0.0</td>\n",
       "      <td>Lake Nowhere</td>\n",
       "      <td>R</td>\n",
       "    </tr>\n",
       "    <tr>\n",
       "      <th>6426</th>\n",
       "      <td>tt4473620</td>\n",
       "      <td>0.0</td>\n",
       "      <td>0.0</td>\n",
       "      <td>Witching Hour</td>\n",
       "      <td>R</td>\n",
       "    </tr>\n",
       "    <tr>\n",
       "      <th>6427</th>\n",
       "      <td>tt4768794</td>\n",
       "      <td>0.0</td>\n",
       "      <td>0.0</td>\n",
       "      <td>I Declare War</td>\n",
       "      <td>R</td>\n",
       "    </tr>\n",
       "  </tbody>\n",
       "</table>\n",
       "<p>6428 rows × 5 columns</p>\n",
       "</div>"
      ],
      "text/plain": [
       "        imdb_id       budget      revenue                             title  \\\n",
       "0     tt0146063          0.0          0.0          The Princess and the Pea   \n",
       "1     tt0166813   80000000.0  122563539.0  Spirit: Stallion of the Cimarron   \n",
       "2     tt0243585  120000000.0  169956806.0                   Stuart Little 2   \n",
       "3     tt0265662   20000000.0   75597042.0                        The Rookie   \n",
       "4     tt0271582          0.0    1347988.0                            Joshua   \n",
       "...         ...          ...          ...                               ...   \n",
       "6423  tt4197006          0.0          0.0                          The Sect   \n",
       "6424  tt4209020          0.0          0.0                 Here kitty kitty!   \n",
       "6425  tt4416878          0.0          0.0                      Lake Nowhere   \n",
       "6426  tt4473620          0.0          0.0                     Witching Hour   \n",
       "6427  tt4768794          0.0          0.0                     I Declare War   \n",
       "\n",
       "     certification  \n",
       "0                G  \n",
       "1                G  \n",
       "2                G  \n",
       "3                G  \n",
       "4                G  \n",
       "...            ...  \n",
       "6423             R  \n",
       "6424             R  \n",
       "6425             R  \n",
       "6426             R  \n",
       "6427             R  \n",
       "\n",
       "[6428 rows x 5 columns]"
      ]
     },
     "execution_count": 196,
     "metadata": {},
     "output_type": "execute_result"
    }
   ],
   "source": [
    "df = pd.concat([g_df,pg_df,pg_13_df,r_df], ignore_index=True)\n",
    "df"
   ]
  },
  {
   "cell_type": "code",
   "execution_count": 197,
   "id": "e1c877ef",
   "metadata": {},
   "outputs": [
    {
     "data": {
      "text/plain": [
       "R        3510\n",
       "PG-13    1864\n",
       "PG        802\n",
       "G         252\n",
       "Name: certification, dtype: int64"
      ]
     },
     "execution_count": 197,
     "metadata": {},
     "output_type": "execute_result"
    }
   ],
   "source": [
    "df['certification'].value_counts()"
   ]
  },
  {
   "cell_type": "markdown",
   "id": "9b142f8f",
   "metadata": {},
   "source": [
    "## Questions to Answer\n",
    "\n",
    "\n",
    "The stakeholder's first question is: does the MPAA rating of a movie (G/PG/PG-13/R) affect how much revenue the movie generates?"
   ]
  },
  {
   "cell_type": "markdown",
   "id": "f40e5d74",
   "metadata": {},
   "source": [
    "Null Hypothesis:  Different MPAA Ratings all have the same revenues.\n",
    "\n",
    "Alternative Hypothesis: Different MPAA Ratings have different Revenues. \n",
    "\n",
    "Using an alpha=.05\n",
    "\n",
    "Going to perfrom the ANOVA test"
   ]
  },
  {
   "cell_type": "markdown",
   "id": "425bae57",
   "metadata": {},
   "source": [
    "## Testing Assumptions"
   ]
  },
  {
   "cell_type": "markdown",
   "id": "0a1466ce",
   "metadata": {},
   "source": [
    "## Outliers"
   ]
  },
  {
   "cell_type": "code",
   "execution_count": 198,
   "id": "d0459f8c",
   "metadata": {},
   "outputs": [],
   "source": [
    "p = df.loc[ df['certification']=='P',\"revenue\"]\n",
    "pg = df.loc[ df['certification']=='PG',\"revenue\"]\n",
    "pg_13 = df.loc[ df['certification']=='PG-13',\"revenue\"]\n",
    "r = df.loc[ df['certification']=='R',\"revenue\"]"
   ]
  },
  {
   "cell_type": "code",
   "execution_count": 199,
   "id": "a10fe5af",
   "metadata": {},
   "outputs": [
    {
     "data": {
      "text/plain": [
       "0"
      ]
     },
     "execution_count": 199,
     "metadata": {},
     "output_type": "execute_result"
    }
   ],
   "source": [
    "zscores_f = stats.zscore(p)\n",
    "outliers_p = abs(zscores_f)>3\n",
    "np.sum(outliers_p)"
   ]
  },
  {
   "cell_type": "markdown",
   "id": "fbb8adab",
   "metadata": {},
   "source": [
    "Perfect, no outliers to remove."
   ]
  },
  {
   "cell_type": "code",
   "execution_count": 200,
   "id": "c1cf2503",
   "metadata": {},
   "outputs": [
    {
     "data": {
      "text/plain": [
       "27"
      ]
     },
     "execution_count": 200,
     "metadata": {},
     "output_type": "execute_result"
    }
   ],
   "source": [
    "zscores_f = stats.zscore(pg)\n",
    "outliers_pg = abs(zscores_f)>3\n",
    "np.sum(outliers_pg)"
   ]
  },
  {
   "cell_type": "code",
   "execution_count": 201,
   "id": "896a4e5e",
   "metadata": {},
   "outputs": [
    {
     "data": {
      "text/plain": [
       "253     109578115.0\n",
       "254      38793283.0\n",
       "255        505675.0\n",
       "256     111127553.0\n",
       "257             0.0\n",
       "           ...     \n",
       "1049            0.0\n",
       "1050            0.0\n",
       "1051            0.0\n",
       "1052            0.0\n",
       "1053            0.0\n",
       "Name: revenue, Length: 775, dtype: float64"
      ]
     },
     "execution_count": 201,
     "metadata": {},
     "output_type": "execute_result"
    }
   ],
   "source": [
    "pg[~outliers_pg]"
   ]
  },
  {
   "cell_type": "code",
   "execution_count": 202,
   "id": "eae63abf",
   "metadata": {},
   "outputs": [],
   "source": [
    "pg = pg[~outliers_pg]"
   ]
  },
  {
   "cell_type": "code",
   "execution_count": 203,
   "id": "5dbea6de",
   "metadata": {},
   "outputs": [
    {
     "data": {
      "text/plain": [
       "52"
      ]
     },
     "execution_count": 203,
     "metadata": {},
     "output_type": "execute_result"
    }
   ],
   "source": [
    "zscores_f = stats.zscore(pg_13)\n",
    "outliers_pg_13 = abs(zscores_f)>3\n",
    "np.sum(outliers_pg_13)"
   ]
  },
  {
   "cell_type": "code",
   "execution_count": 204,
   "id": "c1384694",
   "metadata": {},
   "outputs": [
    {
     "data": {
      "text/plain": [
       "1054    445135288.0\n",
       "1056    193921372.0\n",
       "1058     10011050.0\n",
       "1059      7103973.0\n",
       "1060    358372926.0\n",
       "           ...     \n",
       "2913            0.0\n",
       "2914            0.0\n",
       "2915      1695006.0\n",
       "2916            0.0\n",
       "2917            0.0\n",
       "Name: revenue, Length: 1812, dtype: float64"
      ]
     },
     "execution_count": 204,
     "metadata": {},
     "output_type": "execute_result"
    }
   ],
   "source": [
    "pg_13[~outliers_pg_13]"
   ]
  },
  {
   "cell_type": "code",
   "execution_count": 205,
   "id": "ba2ad4f6",
   "metadata": {},
   "outputs": [],
   "source": [
    "pg_13 = pg_13[~outliers_pg_13]"
   ]
  },
  {
   "cell_type": "code",
   "execution_count": 206,
   "id": "ee935731",
   "metadata": {},
   "outputs": [
    {
     "data": {
      "text/plain": [
       "82"
      ]
     },
     "execution_count": 206,
     "metadata": {},
     "output_type": "execute_result"
    }
   ],
   "source": [
    "zscores_f = stats.zscore(r)\n",
    "outliers_r = abs(zscores_f)>3\n",
    "np.sum(outliers_r)"
   ]
  },
  {
   "cell_type": "code",
   "execution_count": 207,
   "id": "937b902f",
   "metadata": {},
   "outputs": [
    {
     "data": {
      "text/plain": [
       "2918      5227348.0\n",
       "2919     56298474.0\n",
       "2920    102984862.0\n",
       "2921            0.0\n",
       "2922      6632383.0\n",
       "           ...     \n",
       "6423            0.0\n",
       "6424            0.0\n",
       "6425            0.0\n",
       "6426            0.0\n",
       "6427            0.0\n",
       "Name: revenue, Length: 3428, dtype: float64"
      ]
     },
     "execution_count": 207,
     "metadata": {},
     "output_type": "execute_result"
    }
   ],
   "source": [
    "r[~outliers_r]"
   ]
  },
  {
   "cell_type": "code",
   "execution_count": 208,
   "id": "507752d6",
   "metadata": {},
   "outputs": [],
   "source": [
    "r = r[~outliers_r]"
   ]
  },
  {
   "cell_type": "markdown",
   "id": "12210f41",
   "metadata": {},
   "source": [
    "## Assumption of normality"
   ]
  },
  {
   "cell_type": "code",
   "execution_count": 209,
   "id": "36b991dc",
   "metadata": {},
   "outputs": [
    {
     "data": {
      "text/plain": [
       "dict_keys(['G', 'PG', 'PG-13', 'R'])"
      ]
     },
     "execution_count": 209,
     "metadata": {},
     "output_type": "execute_result"
    }
   ],
   "source": [
    "## Create groups dictionary. There are only 3 groups, but this is even more helpful when there are many groups\n",
    "groups = {}\n",
    "## Loop through all unique categories\n",
    "for i in df['certification'].unique():\n",
    "    ## Get series for group and rename\n",
    "    data = df.loc[df['certification']==i,'revenue'].copy()\n",
    "    \n",
    "    # save into the dictionary\n",
    "    groups[i] = data\n",
    "groups.keys()"
   ]
  },
  {
   "cell_type": "code",
   "execution_count": 210,
   "id": "a9d50330",
   "metadata": {},
   "outputs": [
    {
     "data": {
      "text/html": [
       "<div>\n",
       "<style scoped>\n",
       "    .dataframe tbody tr th:only-of-type {\n",
       "        vertical-align: middle;\n",
       "    }\n",
       "\n",
       "    .dataframe tbody tr th {\n",
       "        vertical-align: top;\n",
       "    }\n",
       "\n",
       "    .dataframe thead th {\n",
       "        text-align: right;\n",
       "    }\n",
       "</style>\n",
       "<table border=\"1\" class=\"dataframe\">\n",
       "  <thead>\n",
       "    <tr style=\"text-align: right;\">\n",
       "      <th></th>\n",
       "      <th>n</th>\n",
       "      <th>p</th>\n",
       "      <th>test stat</th>\n",
       "    </tr>\n",
       "  </thead>\n",
       "  <tbody>\n",
       "    <tr>\n",
       "      <th>G</th>\n",
       "      <td>252.0</td>\n",
       "      <td>4.894786e-61</td>\n",
       "      <td>277.739040</td>\n",
       "    </tr>\n",
       "    <tr>\n",
       "      <th>PG</th>\n",
       "      <td>802.0</td>\n",
       "      <td>2.583671e-134</td>\n",
       "      <td>615.194382</td>\n",
       "    </tr>\n",
       "    <tr>\n",
       "      <th>PG-13</th>\n",
       "      <td>1864.0</td>\n",
       "      <td>0.000000e+00</td>\n",
       "      <td>2067.031888</td>\n",
       "    </tr>\n",
       "    <tr>\n",
       "      <th>R</th>\n",
       "      <td>3510.0</td>\n",
       "      <td>0.000000e+00</td>\n",
       "      <td>3927.693039</td>\n",
       "    </tr>\n",
       "  </tbody>\n",
       "</table>\n",
       "</div>"
      ],
      "text/plain": [
       "            n              p    test stat\n",
       "G       252.0   4.894786e-61   277.739040\n",
       "PG      802.0  2.583671e-134   615.194382\n",
       "PG-13  1864.0   0.000000e+00  2067.031888\n",
       "R      3510.0   0.000000e+00  3927.693039"
      ]
     },
     "execution_count": 210,
     "metadata": {},
     "output_type": "execute_result"
    }
   ],
   "source": [
    "## Running normal test on each group and confirming there are >20 in each group\n",
    "norm_results = {}\n",
    "for i, data in groups.items():\n",
    "    stat, p = stats.normaltest(data)\n",
    "    ## save the p val, test statistic, and the size of the group\n",
    "    norm_results[i] = {'n': len(data),\n",
    "                             'p':p,\n",
    "                             'test stat':stat,}\n",
    "## convert to a dataframe\n",
    "norm_results_df = pd.DataFrame(norm_results).T\n",
    "norm_results_df"
   ]
  },
  {
   "cell_type": "code",
   "execution_count": 211,
   "id": "9584461e",
   "metadata": {},
   "outputs": [
    {
     "data": {
      "text/html": [
       "<div>\n",
       "<style scoped>\n",
       "    .dataframe tbody tr th:only-of-type {\n",
       "        vertical-align: middle;\n",
       "    }\n",
       "\n",
       "    .dataframe tbody tr th {\n",
       "        vertical-align: top;\n",
       "    }\n",
       "\n",
       "    .dataframe thead th {\n",
       "        text-align: right;\n",
       "    }\n",
       "</style>\n",
       "<table border=\"1\" class=\"dataframe\">\n",
       "  <thead>\n",
       "    <tr style=\"text-align: right;\">\n",
       "      <th></th>\n",
       "      <th>n</th>\n",
       "      <th>p</th>\n",
       "      <th>test stat</th>\n",
       "      <th>sig</th>\n",
       "    </tr>\n",
       "  </thead>\n",
       "  <tbody>\n",
       "    <tr>\n",
       "      <th>G</th>\n",
       "      <td>252.0</td>\n",
       "      <td>4.894786e-61</td>\n",
       "      <td>277.739040</td>\n",
       "      <td>True</td>\n",
       "    </tr>\n",
       "    <tr>\n",
       "      <th>PG</th>\n",
       "      <td>802.0</td>\n",
       "      <td>2.583671e-134</td>\n",
       "      <td>615.194382</td>\n",
       "      <td>True</td>\n",
       "    </tr>\n",
       "    <tr>\n",
       "      <th>PG-13</th>\n",
       "      <td>1864.0</td>\n",
       "      <td>0.000000e+00</td>\n",
       "      <td>2067.031888</td>\n",
       "      <td>True</td>\n",
       "    </tr>\n",
       "    <tr>\n",
       "      <th>R</th>\n",
       "      <td>3510.0</td>\n",
       "      <td>0.000000e+00</td>\n",
       "      <td>3927.693039</td>\n",
       "      <td>True</td>\n",
       "    </tr>\n",
       "  </tbody>\n",
       "</table>\n",
       "</div>"
      ],
      "text/plain": [
       "            n              p    test stat   sig\n",
       "G       252.0   4.894786e-61   277.739040  True\n",
       "PG      802.0  2.583671e-134   615.194382  True\n",
       "PG-13  1864.0   0.000000e+00  2067.031888  True\n",
       "R      3510.0   0.000000e+00  3927.693039  True"
      ]
     },
     "execution_count": 211,
     "metadata": {},
     "output_type": "execute_result"
    }
   ],
   "source": [
    "### checking sig with pandas \n",
    "norm_results_df['sig'] = norm_results_df['p'] < .05 \n",
    "norm_results_df"
   ]
  },
  {
   "cell_type": "markdown",
   "id": "e668897b",
   "metadata": {},
   "source": [
    "#### The data is not normally distributed but because of our data size we can safely ignore this."
   ]
  },
  {
   "cell_type": "markdown",
   "id": "97984cf5",
   "metadata": {},
   "source": [
    "## Test Assumption of Equal Variance"
   ]
  },
  {
   "cell_type": "code",
   "execution_count": 212,
   "id": "0a4ab26d",
   "metadata": {},
   "outputs": [
    {
     "data": {
      "text/plain": [
       "LeveneResult(statistic=103.52523004815562, pvalue=1.8971317837887724e-65)"
      ]
     },
     "execution_count": 212,
     "metadata": {},
     "output_type": "execute_result"
    }
   ],
   "source": [
    "# with the * operator \n",
    "stats.levene(*groups.values())\n",
    "# not using * operator, entering each group manually\n",
    "#stats.levene(groups[p],\n",
    "           # groups[pg],\n",
    "           # groups[pg_13]\n",
    "           # groups[r])"
   ]
  },
  {
   "cell_type": "markdown",
   "id": "28fb8f33",
   "metadata": {},
   "source": [
    "Our P value is less then our alpha of .05.  I reject the null hypothesis.  There is significant difference between our groups."
   ]
  },
  {
   "cell_type": "code",
   "execution_count": 213,
   "id": "0302303d",
   "metadata": {},
   "outputs": [
    {
     "data": {
      "text/plain": [
       "F_onewayResult(statistic=103.19011944196846, pvalue=3.0597325071304903e-65)"
      ]
     },
     "execution_count": 213,
     "metadata": {},
     "output_type": "execute_result"
    }
   ],
   "source": [
    "# perform the correct hypothesis test\n",
    "# note again the use of the * operator for convenience\n",
    "result = stats.f_oneway( *groups.values())\n",
    "result"
   ]
  },
  {
   "cell_type": "markdown",
   "id": "3ba5c51c",
   "metadata": {},
   "source": [
    "Significant result, with such a low p value we know there are differences between our groups revenue, now to find out which groups are different."
   ]
  },
  {
   "cell_type": "markdown",
   "id": "4f66891e",
   "metadata": {},
   "source": [
    "## Post-hoc multiple comparison tests"
   ]
  },
  {
   "cell_type": "code",
   "execution_count": 214,
   "id": "b22b03ca",
   "metadata": {},
   "outputs": [],
   "source": [
    "from statsmodels.stats.multicomp import pairwise_tukeyhsd\n",
    "## save the values as kg_lost and the labels to the Diet\n",
    "values = df['revenue']\n",
    "labels = df['certification']"
   ]
  },
  {
   "cell_type": "code",
   "execution_count": 215,
   "id": "ef379fd7",
   "metadata": {},
   "outputs": [
    {
     "data": {
      "text/html": [
       "<table class=\"simpletable\">\n",
       "<caption>Multiple Comparison of Means - Tukey HSD, FWER=0.05</caption>\n",
       "<tr>\n",
       "  <th>group1</th> <th>group2</th>    <th>meandiff</th>     <th>p-adj</th>      <th>lower</th>          <th>upper</th>     <th>reject</th>\n",
       "</tr>\n",
       "<tr>\n",
       "     <td>G</td>     <td>PG</td>    <td>25692793.9513</td> <td>0.0143</td>  <td>3701996.9562</td>   <td>47683590.9463</td>  <td>True</td> \n",
       "</tr>\n",
       "<tr>\n",
       "     <td>G</td>    <td>PG-13</td>  <td>26792458.1475</td> <td>0.0042</td>  <td>6354254.3288</td>   <td>47230661.9663</td>  <td>True</td> \n",
       "</tr>\n",
       "<tr>\n",
       "     <td>G</td>      <td>R</td>   <td>-27074922.9739</td> <td>0.0026</td> <td>-46934211.5001</td>  <td>-7215634.4477</td>  <td>True</td> \n",
       "</tr>\n",
       "<tr>\n",
       "    <td>PG</td>    <td>PG-13</td>  <td>1099664.1963</td>  <td>0.9963</td> <td>-11759953.3604</td>  <td>13959281.7529</td>  <td>False</td>\n",
       "</tr>\n",
       "<tr>\n",
       "    <td>PG</td>      <td>R</td>   <td>-52767716.9252</td>  <td>-0.0</td>  <td>-64685809.4375</td> <td>-40849624.4128</td>  <td>True</td> \n",
       "</tr>\n",
       "<tr>\n",
       "   <td>PG-13</td>    <td>R</td>   <td>-53867381.1214</td>  <td>-0.0</td>   <td>-62594691.818</td> <td>-45140070.4249</td>  <td>True</td> \n",
       "</tr>\n",
       "</table>"
      ],
      "text/plain": [
       "<class 'statsmodels.iolib.table.SimpleTable'>"
      ]
     },
     "execution_count": 215,
     "metadata": {},
     "output_type": "execute_result"
    }
   ],
   "source": [
    "## perform tukey's multiple comparison test and display the summary\n",
    "tukeys_results = pairwise_tukeyhsd(values,labels)\n",
    "tukeys_results.summary()"
   ]
  },
  {
   "cell_type": "markdown",
   "id": "d41eb1c5",
   "metadata": {},
   "source": [
    "5 significant differences, all our groups are different in terms of revenue except for PG and R."
   ]
  },
  {
   "cell_type": "code",
   "execution_count": 216,
   "id": "6ece142d",
   "metadata": {},
   "outputs": [
    {
     "data": {
      "image/png": "[encoded data removed]",
      "text/plain": [
       "<Figure size 432x288 with 1 Axes>"
      ]
     },
     "metadata": {
      "needs_background": "light"
     },
     "output_type": "display_data"
    }
   ],
   "source": [
    "sns.barplot(data=df, x='certification', y= 'revenue')\n",
    "plt.xticks(rotation = 90)\n",
    "plt.title('Average Revenue By MPAA')\n",
    "plt.xlabel('MPAA Rating')\n",
    "plt.ylabel('Revenue');"
   ]
  },
  {
   "cell_type": "markdown",
   "id": "ed6e24d7",
   "metadata": {},
   "source": [
    "Here we see that movies rated PG and PG-13 attain the highest amount of revenue and we have statistically backed that up with the ANOVA test."
   ]
  },
  {
   "cell_type": "markdown",
   "id": "e55d1fe5",
   "metadata": {},
   "source": [
    "### To answer the stackholders question we reject the null hypothesis as we see there is a significant difference in revenue based on a movies MPAA rating."
   ]
  },
  {
   "cell_type": "markdown",
   "id": "c6351d37",
   "metadata": {},
   "source": [
    "## Question 2\n",
    "Do different genres (certifications) receive differnt budgets?\n",
    "Null Hypothesis:  Different MPAA Ratings all have the same budget.\n",
    "\n",
    "Alternative Hypothesis: Different MPAA Ratings have different budgets. \n",
    "\n",
    "Using an alpha=.05\n",
    "\n",
    "Going to perfrom the ANOVA test"
   ]
  }
 ],
 "metadata": {
  "kernelspec": {
   "display_name": "Python (dojo-env)",
   "language": "python",
   "name": "dojo-env"
  },
  "language_info": {
   "codemirror_mode": {
    "name": "ipython",
    "version": 3
   },
   "file_extension": ".py",
   "mimetype": "text/x-python",
   "name": "python",
   "nbconvert_exporter": "python",
   "pygments_lexer": "ipython3",
   "version": "3.8.13"
  },
  "toc": {
   "base_numbering": 1,
   "nav_menu": {},
   "number_sections": false,
   "sideBar": true,
   "skip_h1_title": false,
   "title_cell": "Table of Contents",
   "title_sidebar": "Contents",
   "toc_cell": false,
   "toc_position": {},
   "toc_section_display": true,
   "toc_window_display": false
  }
 },
 "nbformat": 4,
 "nbformat_minor": 5
}
